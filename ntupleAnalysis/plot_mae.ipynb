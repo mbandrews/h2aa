{
 "cells": [
  {
   "cell_type": "code",
   "execution_count": 1,
   "metadata": {},
   "outputs": [
    {
     "name": "stdout",
     "output_type": "stream",
     "text": [
      "Welcome to JupyROOT 6.20/02\n"
     ]
    }
   ],
   "source": [
    "import ROOT\n",
    "import os, glob, re\n",
    "import numpy as np\n",
    "from array import array\n",
    "\n",
    "import CMS_lumi, tdrstyle"
   ]
  },
  {
   "cell_type": "code",
   "execution_count": 81,
   "metadata": {},
   "outputs": [],
   "source": [
    "masses = [0.1, 0.2, 0.4, 0.6, 0.8, 1.0]#, 1.2]\n",
    "\n",
    "hfiles = {}\n",
    "for m in masses:\n",
    "    #list_files[m] = '/uscms_data/d3/mba2012/h2aa/CMSSW_10_5_0/src/h2aa/maNtuples/Era04Dec2020v1/h4g2018-mA0p8GeV_file_list.txt'\n",
    "    #hfiles[m] = 'Templates/systNom_nom/h4g2017-mA%sGeV_sr_blind_None_templates.root'%(str(m).replace('.','p'))\n",
    "    #assert os.path.isfile(hfiles[m])\n",
    "    hfiles[m] = 'root://cmseos.fnal.gov//store/user/lpchaa4g/mandrews/2017/sg-Era04Dec2020v6/bdtgtm0p96_relChgIsolt0p07_etalt1p44/nom-nom/Templates/systNom_nom/h4g2017-mA%sGeV_sr_blind_None_templates.root'%(str(m).replace('.','p'))"
   ]
  },
  {
   "cell_type": "code",
   "execution_count": 82,
   "metadata": {},
   "outputs": [
    {
     "name": "stdout",
     "output_type": "stream",
     "text": [
      "(0.1, 0.15809276818035378, 6, 2)\n",
      "(0.2, 0.14067243498149223, 10, 3)\n",
      "(0.4, 0.14048498044263613, 18, 4)\n",
      "(0.6, 0.1645933138492895, 26, 5)\n",
      "(0.8, 0.20524619585892237, 34, 6)\n",
      "(1.0, 0.2490276788759935, 42, 7)\n"
     ]
    },
    {
     "name": "stderr",
     "output_type": "stream",
     "text": [
      "Warning in <TCanvas::Constructor>: Deleting canvas with same name: cmremA\n",
      "Warning in <TCanvas::Constructor>: Deleting canvas with same name: cmaemA\n"
     ]
    }
   ],
   "source": [
    "wd, ht = 440, 400\n",
    "\n",
    "nbins = len(masses)\n",
    "\n",
    "#ma_bins = [float(m.replace('p','.')) for m in masses]\n",
    "ma_bins = [0.]+masses#+[1.2]\n",
    "#print(ma_bins)\n",
    "n_ma_bins = len(ma_bins)-1\n",
    "ma_bins = array('d', list(ma_bins))\n",
    "\n",
    "h, hf, c = {}, {}, {}\n",
    "\n",
    "keys = ['mre', 'mae']\n",
    "for p in keys:\n",
    "    k = p+'mA'\n",
    "    h[k] = ROOT.TH1F(k, k, n_ma_bins, ma_bins)\n",
    "    #h[k] = ROOT.TGraphErrors()\n",
    "    c[k] = ROOT.TCanvas('c'+k, 'c'+k, wd, ht)\n",
    "\n",
    "for im, mass in enumerate(masses):\n",
    "    \n",
    "    hf[mass] = ROOT.TFile.Open(\"%s\"%hfiles[mass], \"READ\")\n",
    "\n",
    "    for p in keys:\n",
    "        k = p+'mA'\n",
    "        kin = k+'in'\n",
    "        h[kin] = hf[mass].Get(p)\n",
    "        ib = h[kin].GetXaxis().FindBin(mass)\n",
    "        binc = h[kin].GetBinContent(ib)\n",
    "        binerr = h[kin].GetBinError(ib)\n",
    "\n",
    "        im_out = h[k].GetXaxis().FindBin(mass)\n",
    "        if p == 'mre':\n",
    "            print(mass, binc*mass, ib, im_out)\n",
    "        h[k].SetBinContent(im_out-1, binc)\n",
    "        h[k].SetBinError(im_out-1, binerr)\n",
    "        #print(im, mass, binc, binerr)\n",
    "        #h[k].SetPoint(im, mass, binc)\n",
    "        #h[k].SetPointError(im, 0.1 if mass <= 0.2 else 0.1, binerr)"
   ]
  },
  {
   "cell_type": "code",
   "execution_count": 109,
   "metadata": {},
   "outputs": [
    {
     "name": "stdout",
     "output_type": "stream",
     "text": [
      "mre\n",
      "13 TeV\n",
      "mae\n",
      "13 TeV\n"
     ]
    },
    {
     "name": "stderr",
     "output_type": "stream",
     "text": [
      "Info in <TCanvas::Print>: pdf file Plots/h4g_mre.pdf has been created\n",
      "Info in <TCanvas::Print>: pdf file Plots/h4g_mae.pdf has been created\n"
     ]
    },
    {
     "data": {
      "image/png": "[encoded data removed]",
      "text/plain": [
       "<IPython.core.display.Image object>"
      ]
     },
     "metadata": {},
     "output_type": "display_data"
    },
    {
     "data": {
      "image/png": "[encoded data removed]",
      "text/plain": [
       "<IPython.core.display.Image object>"
      ]
     },
     "metadata": {},
     "output_type": "display_data"
    }
   ],
   "source": [
    "def set_hist(h, c, xtitle, ytitle, htitle):\n",
    "    #c.SetLeftMargin(0.14)\n",
    "    #c.SetRightMargin(0.07)\n",
    "    #c.SetBottomMargin(0.12)\n",
    "    #c.SetTopMargin(0.07)\n",
    "    c.SetLeftMargin(0.16)\n",
    "    c.SetRightMargin(0.07)\n",
    "    c.SetBottomMargin(0.13)\n",
    "    c.SetTopMargin(0.07)\n",
    "    ROOT.gStyle.SetOptStat(0)\n",
    "\n",
    "    h.GetXaxis().SetLabelSize(0.04)\n",
    "    h.GetXaxis().SetLabelFont(62)\n",
    "    h.GetXaxis().SetTitle(xtitle)\n",
    "    h.GetXaxis().SetTitleOffset(0.9)\n",
    "    h.GetXaxis().SetTitleSize(0.06)\n",
    "    h.GetXaxis().SetTitleFont(62)\n",
    "\n",
    "    h.GetYaxis().SetLabelSize(0.04)\n",
    "    h.GetYaxis().SetLabelFont(62)\n",
    "    h.GetYaxis().SetTitleOffset(1.2)\n",
    "    h.GetYaxis().SetTitleSize(0.06)\n",
    "    h.GetYaxis().SetTitleFont(62)\n",
    "    h.GetYaxis().SetTitle(ytitle)\n",
    "\n",
    "    h.SetTitleSize(0.04)\n",
    "    h.SetTitleFont(62)\n",
    "    h.SetTitle(htitle)\n",
    "    h.SetTitleOffset(1.2)\n",
    "\n",
    "    return h, c\n",
    "\n",
    "print_pdf = True\n",
    "#print_pdf = False\n",
    "\n",
    "#tdrstyle.setTDRStyle()\n",
    "ROOT.gStyle.SetPadTickX(1)\n",
    "ROOT.gStyle.SetPadTickY(1)\n",
    "#change the CMS_lumi variables (see CMS_lumi.py)\n",
    "CMS_lumi.lumi_7TeV = \"4.8 fb^{-1}\"\n",
    "CMS_lumi.lumi_8TeV = \"18.3 fb^{-1}\"\n",
    "CMS_lumi.writeExtraText = 1\n",
    "CMS_lumi.extraText = \"Simulation\"\n",
    "#CMS_lumi.lumi_sqrtS = \"41.5 fb^{-1} (13 TeV)\" # used with iPeriod = 0, e.g. for simulation-only plots (default is an empty string)\n",
    "CMS_lumi.lumi_sqrtS = \"13 TeV\" # used with iPeriod = 0, e.g. for simulation-only plots (default is an empty string)\n",
    "iPos = 11\n",
    "if( iPos==0 ): CMS_lumi.relPosX = 0.12\n",
    "iPeriod = 0\n",
    "\n",
    "'''\n",
    "legend = ROOT.TLegend(0.56,0.71,0.92,0.88) #(x1, y1, x2, y2)\n",
    "for a,algo in enumerate(algos):\n",
    "    kfill = 'mremA%s'%algo\n",
    "    legend.AddEntry(kfill, \"MRE, %s\"%algo_strs[a], \"le\")\n",
    "legend.SetBorderSize(0)\n",
    "legend.Draw(\"SAME\")\n",
    "'''\n",
    "labels = ['', 0.1, 0.2, '', 0.4, '', 0.6, '',0.8, '', 1. ]\n",
    "legend = {}\n",
    "#c['mremA'].cd()\n",
    "for p in keys:\n",
    "    k = p+'mA'\n",
    "    if p == 'mre':\n",
    "        print(p)\n",
    "        c[k].cd()\n",
    "        h[k], c['mremA'] = set_hist(h[k], c['mremA'], \"m_{a,gen} [GeV]\", \"#LT Error / m_{a,gen} #GT\", \"\")\n",
    "        h[k].SetLineColor(4)\n",
    "        h[k].GetYaxis().SetRangeUser(0., 2.)\n",
    "        #h[k].GetXaxis().SetRangeUser(0., 1.1)\n",
    "        h[k].GetYaxis().SetTitleOffset(1.)\n",
    "        h[k].GetXaxis().SetTitleOffset(1.)\n",
    "        h[k].GetXaxis().SetTitleSize(0.06)\n",
    "        #for i,lab in enumerate(labels):\n",
    "        #        print(lab)\n",
    "        #        #labsize = 0 if i%2 == 0 or i == 1 else -1\n",
    "        #        #h[k].GetXaxis().ChangeLabel(i,-1,-1,-1,-1,-1,str(lab))\n",
    "        h[k].Draw('E0')\n",
    "        #h[k].Draw('AP')\n",
    "        #legend[k] = ROOT.TLegend(0.65,0.7,0.9,0.8) #(x1, y1, x2, y2)\n",
    "        legend[k] = ROOT.TLegend(0.65,0.78,0.9,0.88) #(x1, y1, x2, y2)\n",
    "        legend[k].AddEntry(k, 'MRE', \"lef\")\n",
    "        legend[k].SetBorderSize(0)\n",
    "        legend[k].Draw(\"SAME\")\n",
    "    if p == 'mae':\n",
    "        print(p)\n",
    "        c[k].cd()\n",
    "        h[k], c[k] = set_hist(h[k], c[k], \"m_{a,gen} [GeV]\", \"#LT Error #GT\", \"\")\n",
    "        h[k].SetLineColor(2)\n",
    "        h[k].GetYaxis().SetRangeUser(0.1, 0.35)\n",
    "        h[k].GetYaxis().SetTitleOffset(1.2)\n",
    "        h[k].GetXaxis().SetTitleOffset(1.)\n",
    "        h[k].GetXaxis().SetTitleSize(0.06)\n",
    "        #h[k].Draw('E0 same')\n",
    "        h[k].Draw('E0')\n",
    "        legend[k] = ROOT.TLegend(0.65,0.78,0.9,0.88) #(x1, y1, x2, y2)\n",
    "        legend[k].AddEntry(k, 'MAE', \"lef\")\n",
    "        legend[k].SetBorderSize(0)\n",
    "        legend[k].Draw(\"SAME\")\n",
    "    #h[k].Draw('E0')\n",
    "    CMS_lumi.CMS_lumi(c[k], iPeriod, iPos)\n",
    "    c[k].Draw()\n",
    "    if print_pdf: c[k].Print('Plots/h4g_%s.pdf'%p)\n",
    "#c['mremA'].Draw()"
   ]
  },
  {
   "cell_type": "code",
   "execution_count": 80,
   "metadata": {},
   "outputs": [
    {
     "name": "stdout",
     "output_type": "stream",
     "text": [
      "(100,)\n",
      "0.7977158968054545\n"
     ]
    }
   ],
   "source": [
    "gaus = np.random.normal(loc=0.0, scale=1.0, size=100)\n",
    "print(gaus.shape)\n",
    "mae_gaus = np.mean([abs(g) for g in gaus])\n",
    "print(mae_gaus)"
   ]
  }
 ],
 "metadata": {
  "kernelspec": {
   "display_name": "Python 2",
   "language": "python",
   "name": "python2"
  },
  "language_info": {
   "codemirror_mode": {
    "name": "ipython",
    "version": 2
   },
   "file_extension": ".py",
   "mimetype": "text/x-python",
   "name": "python",
   "nbconvert_exporter": "python",
   "pygments_lexer": "ipython2",
   "version": "2.7.16"
  }
 },
 "nbformat": 4,
 "nbformat_minor": 2
}
