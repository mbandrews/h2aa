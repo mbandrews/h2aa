{
 "cells": [
  {
   "cell_type": "code",
   "execution_count": 29,
   "metadata": {},
   "outputs": [],
   "source": [
    "from __future__ import print_function\n",
    "import numpy as np\n",
    "np.random.seed(0)\n",
    "import os, glob\n",
    "import time\n",
    "import argparse\n",
    "\n",
    "import matplotlib.pyplot as plt\n",
    "import ROOT"
   ]
  },
  {
   "cell_type": "code",
   "execution_count": 44,
   "metadata": {},
   "outputs": [
    {
     "name": "stdout",
     "output_type": "stream",
     "text": [
      "bg2017-hgg_mantuple.root\n",
      "len(img_inputs): 1\n",
      "Setting IMG as main TTree\n",
      "N IMG files: 1\n",
      "IMG file[0]: bg2017-hgg_mantuple.root\n",
      "root://cmseos.fnal.gov//store/user/lpchaa4g/mandrews/2017/Era2017_15Mar2021_CLUSv1/skim/ep90/bg2017-hgg_mantuple.root\n",
      "N evts in IMG ntuple: 381716\n"
     ]
    }
   ],
   "source": [
    "# Load IMG ntuples as main TTree\n",
    "#img_list = 'Era2017_17Dec2020_CLUSv1_data2017-Run2017B_trunc.txt'\n",
    "#print('Opening img input list:',img_list)\n",
    "#img_inputs = []\n",
    "#with open(img_list, 'r') as img_file:\n",
    "#    for img_input in img_file:\n",
    "#        img_inputs.append(img_input[:-1])\n",
    "eos_basedir = 'root://cmseos.fnal.gov//store/user/lpchaa4g/mandrews/2017/Era2017_15Mar2021_CLUSv1/skim/ep90'\n",
    "img_inputs = [\n",
    "    #'h4g2017-mA1p0GeV_mantuple.root'\n",
    "    #'h4g2017-mA0p4GeV_mantuple.root'\n",
    "    #'h4g2017-mA0p2GeV_mantuple.root'\n",
    "    #'h4g2017-mA0p1GeV_mantuple.root'\n",
    "    'bg2017-hgg_mantuple.root'\n",
    "    #'data2017-Run2017B_trunc_mantuple.root'\n",
    "    #'data2017-Run2017B_mantuple.root',\n",
    "    #'data2017-Run2017C_mantuple.root',\n",
    "    #'data2017-Run2017D_mantuple.root',\n",
    "    #'data2017-Run2017E_mantuple.root',\n",
    "    #'data2017-Run2017F_mantuple.root',\n",
    "]\n",
    "print(img_inputs[0])\n",
    "print('len(img_inputs):',len(img_inputs))\n",
    "assert len(img_inputs) > 0\n",
    "\n",
    "print('Setting IMG as main TTree')\n",
    "print('N IMG files:',len(img_inputs))\n",
    "print('IMG file[0]:',img_inputs[0])\n",
    "tree = ROOT.TChain(\"mantuple\")\n",
    "for fi in img_inputs:\n",
    "    fname = '%s/%s'%(eos_basedir,fi)\n",
    "    #fname = './%s'%fi\n",
    "    print(fname)\n",
    "    tree.Add(fname)\n",
    "    #break\n",
    "nEvts = tree.GetEntries()\n",
    "print('N evts in IMG ntuple:',nEvts)"
   ]
  },
  {
   "cell_type": "code",
   "execution_count": 31,
   "metadata": {},
   "outputs": [],
   "source": [
    "'''eb_scale = 25.\n",
    "m0_scale = 1.6\n",
    "def transform_y(y):\n",
    "    return y/m0_scale\n",
    "def inv_transform(y):\n",
    "    return y*m0_scale\n",
    "def shapeEB(eb):\n",
    "    return np.array(eb).reshape(1,170,360)\n",
    "'''\n",
    "def make_pdf(h):\n",
    "\n",
    "    sumOverY = {}\n",
    "    for ix in range(1, h.GetNbinsX()+1):\n",
    "        sumOverY[ix] = sum([h.GetBinContent(ix, iy_) for iy_ in range(1, h.GetNbinsY()+1)])\n",
    "        for iy in range(1, h.GetNbinsY()+1):\n",
    "            binc = h.GetBinContent(ix, iy)\n",
    "            if sumOverY[ix] > 0.:\n",
    "                h.SetBinContent(ix, iy, binc/sumOverY[ix])\n",
    "\n",
    "    return h\n",
    "\n",
    "def set_hist(h, c, xtitle, ytitle, htitle):\n",
    "    #c.SetLeftMargin(0.14)\n",
    "    #c.SetRightMargin(0.07)\n",
    "    #c.SetBottomMargin(0.12)\n",
    "    #c.SetTopMargin(0.07)\n",
    "    c.SetLeftMargin(0.16)\n",
    "    c.SetRightMargin(0.07)\n",
    "    c.SetBottomMargin(0.13)\n",
    "    c.SetTopMargin(0.07)\n",
    "    ROOT.gStyle.SetOptStat(0)\n",
    "\n",
    "    h.GetXaxis().SetLabelSize(0.04)\n",
    "    h.GetXaxis().SetLabelFont(62)\n",
    "    h.GetXaxis().SetTitle(xtitle)\n",
    "    h.GetXaxis().SetTitleOffset(0.9)\n",
    "    h.GetXaxis().SetTitleSize(0.06)\n",
    "    h.GetXaxis().SetTitleFont(62)\n",
    "\n",
    "    h.GetYaxis().SetLabelSize(0.04)\n",
    "    h.GetYaxis().SetLabelFont(62)\n",
    "    h.GetYaxis().SetTitleOffset(1.2)\n",
    "    h.GetYaxis().SetTitleSize(0.06)\n",
    "    h.GetYaxis().SetTitleFont(62)\n",
    "    h.GetYaxis().SetTitle(ytitle)\n",
    "\n",
    "    h.SetTitleSize(0.04)\n",
    "    h.SetTitleFont(62)\n",
    "    h.SetTitle(htitle)\n",
    "    h.SetTitleOffset(1.2)\n",
    "\n",
    "    return h, c"
   ]
  },
  {
   "cell_type": "code",
   "execution_count": 45,
   "metadata": {},
   "outputs": [
    {
     "name": "stdout",
     "output_type": "stream",
     "text": [
      ">> Processing entries: [ 0 -> 381716 )\n",
      "['sieie', 'mgg', 'pt', 'pu', 'energy', 'nRecoPho', 'bdt', 'eta', 'ma3b3', 'ma', 'mafc', 'id']\n",
      "0 / 381716\n",
      "100000 / 381716\n",
      "200000 / 381716\n",
      "300000 / 381716\n",
      ">> Done\n",
      "Eff e2e: 93149/381716 = 0.244027\n",
      "Eff 3b3: 26921/381716 = 0.070526\n"
     ]
    }
   ],
   "source": [
    "c, h, hc = {}, {}, {}\n",
    "#wd, ht = int(440*1), int(400*1)\n",
    "wd, ht = int(400*1), int(400*1)\n",
    "\n",
    "k = 'ma0'\n",
    "h[k] = ROOT.TH1F(k, k, 140, -0.2, 1.2)\n",
    "k = 'ma1'\n",
    "h[k] = ROOT.TH1F(k, k, 140, -0.2, 1.2)\n",
    "\n",
    "# Event range to process\n",
    "iEvtStart = 0\n",
    "iEvtEnd   = nEvts\n",
    "#iEvtEnd   = 100000#100#50000#10\n",
    "print(\">> Processing entries: [\",iEvtStart,\"->\",iEvtEnd,\")\")\n",
    "\n",
    "pho = {}\n",
    "pho['mgg'] = []\n",
    "for v in ['sieie', 'bdt', 'ma', 'pt', 'id', 'ma3b3','mafc','eta','pu', 'nRecoPho', 'energy']:\n",
    "    pho[v] = []\n",
    "    #for i in range(2):\n",
    "    #    pho[v+str(i)] = []\n",
    "print(pho.keys())\n",
    "nWrite = 0\n",
    "n2dma = 0\n",
    "n2dma_3b3 = 0\n",
    "sw = ROOT.TStopwatch()\n",
    "sw.Start()\n",
    "for iEvt in range(iEvtStart,iEvtEnd):\n",
    "\n",
    "    # Initialize event\n",
    "    if iEvt%100e3==0: print(iEvt,'/',iEvtEnd-iEvtStart)\n",
    "    evt_status = tree.GetEntry(iEvt)\n",
    "\n",
    "    #if tree.m0 > 110.: continue # GeV\n",
    "\n",
    "    '''if tree.pho_pT[1] > ptcut: continue\n",
    "    if tree.pho_bdt[1] < bdtcut: continue\n",
    "    if tree.pho_sieie[1] > sieiecut: continue\n",
    "    if tree.pho_chgIso[1]/tree.pho_pT[1] > relchgisocut: continue'''\n",
    "    #if (tree.ieta0 < 15) or (tree.ieta0+16 > 169): continue\n",
    "    #if (tree.ieta1 < 15) or (tree.ieta1+16 > 169): continue\n",
    "    \n",
    "    '''\n",
    "    pho['mgg'].append(tree.mgg)\n",
    "    pho['ma0'].append(tree.ma0)\n",
    "    pho['ma1'].append(tree.ma1)\n",
    "    pho['sieie0'].append(tree.sieie0)\n",
    "    pho['sieie1'].append(tree.sieie1)\n",
    "    pho['bdt0'].append(tree.bdt0)\n",
    "    pho['bdt1'].append(tree.bdt1)\n",
    "    pho['pt0'].append(tree.pt0)\n",
    "    pho['pt1'].append(tree.pt1)\n",
    "    '''\n",
    "    #ecorr0 = tree.energyCorr0/tree.energy0\n",
    "    #ecorr1 = tree.energyCorr1/tree.energy1\n",
    "    #print(tree.energyCorr0, tree.energyCorr1)\n",
    "    #print(tree.energy0, tree.energy1)\n",
    "    #print(tree.pt0, tree.pt1)\n",
    "    pho['mgg'].append(tree.mgg)\n",
    "    pho['mgg'].append(tree.mgg)\n",
    "    pho['ma'].append(tree.ma0)\n",
    "    pho['ma'].append(tree.ma1)\n",
    "    pho['sieie'].append(tree.sieie0)\n",
    "    pho['sieie'].append(tree.sieie1)\n",
    "    pho['bdt'].append(tree.bdt0)\n",
    "    pho['bdt'].append(tree.bdt1)\n",
    "    pho['pt'].append(tree.pt0)\n",
    "    pho['pt'].append(tree.pt1)\n",
    "    pho['energy'].append(tree.energy0)\n",
    "    pho['energy'].append(tree.energy1)\n",
    "    pho['id'].append(0)\n",
    "    pho['id'].append(1)\n",
    "    #'''\n",
    "    pho['ma3b3'].append(tree.ma3b30)\n",
    "    pho['ma3b3'].append(tree.ma3b31)\n",
    "    pho['mafc'].append(tree.mafc0)\n",
    "    pho['mafc'].append(tree.mafc1)\n",
    "    pho['eta'].append(tree.eta0)\n",
    "    pho['eta'].append(tree.eta1)\n",
    "    pho['pu'].append(tree.pu)\n",
    "    pho['pu'].append(tree.pu)\n",
    "    pho['nRecoPho'].append(tree.nRecoPho)\n",
    "    pho['nRecoPho'].append(tree.nRecoPho)\n",
    "    #print(tree.run, tree.lumi, tree.evt, tree.pu)\n",
    "    if tree.ma0 > 0. and tree.ma1 > 0.: n2dma += 1\n",
    "    if tree.ma3b30 > 0. and tree.ma3b31 > 0.: n2dma_3b3 += 1\n",
    "    #'''\n",
    "    #break\n",
    "    #if iEvt > 100000: break\n",
    "    \n",
    "print('>> Done')\n",
    "print('Eff e2e: %.f/%.f = %f'%(n2dma, nEvts, float(n2dma)/float(nEvts)))\n",
    "print('Eff 3b3: %.f/%.f = %f'%(n2dma_3b3, nEvts, float(n2dma_3b3)/float(nEvts)))\n",
    "for k in pho:\n",
    "    pho[k] = np.array(pho[k])"
   ]
  },
  {
   "cell_type": "code",
   "execution_count": 33,
   "metadata": {},
   "outputs": [
    {
     "data": {
      "text/plain": [
       "\"\\nprint(len(pho['ma0'][pho['ma0']>0.]))\\nprint(pho['pt0'][:10])\\nprint(pho['pt1'][:10])\\nprint(np.max(pho['mgg']))\\nprint(np.min(pho['pt1']))\\n\""
      ]
     },
     "execution_count": 33,
     "metadata": {},
     "output_type": "execute_result"
    }
   ],
   "source": [
    "'''\n",
    "print(len(pho['ma0'][pho['ma0']>0.]))\n",
    "print(pho['pt0'][:10])\n",
    "print(pho['pt1'][:10])\n",
    "print(np.max(pho['mgg']))\n",
    "print(np.min(pho['pt1']))\n",
    "'''"
   ]
  },
  {
   "cell_type": "code",
   "execution_count": 46,
   "metadata": {},
   "outputs": [
    {
     "data": {
      "image/png": "[encoded data removed]",
      "text/plain": [
       "<Figure size 432x288 with 1 Axes>"
      ]
     },
     "metadata": {
      "needs_background": "light"
     },
     "output_type": "display_data"
    },
    {
     "data": {
      "image/png": "[encoded data removed]",
      "text/plain": [
       "<Figure size 432x288 with 1 Axes>"
      ]
     },
     "metadata": {
      "needs_background": "light"
     },
     "output_type": "display_data"
    },
    {
     "name": "stdout",
     "output_type": "stream",
     "text": [
      "1.199975609779358\n"
     ]
    },
    {
     "data": {
      "image/png": "[encoded data removed]",
      "text/plain": [
       "<Figure size 432x288 with 1 Axes>"
      ]
     },
     "metadata": {
      "needs_background": "light"
     },
     "output_type": "display_data"
    },
    {
     "data": {
      "image/png": "[encoded data removed]",
      "text/plain": [
       "<Figure size 432x288 with 1 Axes>"
      ]
     },
     "metadata": {
      "needs_background": "light"
     },
     "output_type": "display_data"
    },
    {
     "data": {
      "image/png": "[encoded data removed]",
      "text/plain": [
       "<Figure size 432x288 with 1 Axes>"
      ]
     },
     "metadata": {
      "needs_background": "light"
     },
     "output_type": "display_data"
    },
    {
     "data": {
      "image/png": "[encoded data removed]",
      "text/plain": [
       "<Figure size 432x288 with 1 Axes>"
      ]
     },
     "metadata": {
      "needs_background": "light"
     },
     "output_type": "display_data"
    }
   ],
   "source": [
    "'''\n",
    "pho_id = 1\n",
    "selection = (pho['pt'+str(pho_id)] < 34.)\\\n",
    "            & (pho['pt'+str(pho_id)] > 20.)\\\n",
    "            & (pho['sieie'+str(pho_id)] < 0.011)\\\n",
    "            & (pho['bdt'+str(pho_id)] > -0.92)\\\n",
    "            & (pho['bdt'+str(pho_id)] < 0.5)\\\n",
    "            #& (pho['mgg'] < 80.)\\\n",
    "ma = pho['ma'+str(pho_id)][selection]#[selection]\n",
    "'''#            & (pho['id'] == 1)\\\n",
    "selection = (pho['pt'] > 10.)\\\n",
    "            & (pho['pt'] < 100.)\\\n",
    "            & (pho['nRecoPho'] == 2)\n",
    "ma = pho['ma'][selection]#[selection]\n",
    "eta = pho['eta'][selection]\n",
    "pt = pho['pt'][selection]\n",
    "pu = pho['pu'][selection]\n",
    "\n",
    "ma3b3 = pho['ma3b3'][selection]\n",
    "mafc = pho['mafc'][selection]\n",
    "\n",
    "nbins = 140#56#28#14056#48\n",
    "nbins = 120\n",
    "nbins = 48*2\n",
    "plt.hist(ma, histtype='step', range=(0., 1.2), bins=nbins)\n",
    "plt.hist(ma3b3, histtype='step', range=(0., 1.2), bins=nbins)\n",
    "plt.axvline(x=0.135, color='r', linestyle='dashed', linewidth=1, alpha=0.4)\n",
    "plt.axvline(x=0.55, color='r', linestyle='dashed', linewidth=1, alpha=0.4)\n",
    "plt.show()\n",
    "\n",
    "plt.hist(ma3b3, histtype='step', bins=nbins, range=(-9., 1.6))\n",
    "plt.show()\n",
    "print(np.max(ma3b3))\n",
    "\n",
    "plt.hist(pho['bdt'][selection], histtype='step', range=(-1., 1.), bins=nbins)\n",
    "plt.show()\n",
    "\n",
    "plt.hist(pho['nRecoPho'][selection], histtype='step', range=(0., 5.), bins=5)\n",
    "plt.show()\n",
    "\n",
    "plt.hist(pt, histtype='step', range=(0., 200.), bins=50)\n",
    "plt.show()\n",
    "\n",
    "plt.hist(pho['energy'][selection], histtype='step', range=(0., 200.), bins=50)\n",
    "plt.show()"
   ]
  },
  {
   "cell_type": "code",
   "execution_count": 47,
   "metadata": {},
   "outputs": [
    {
     "name": "stdout",
     "output_type": "stream",
     "text": [
      "226859 241181 145073\n"
     ]
    },
    {
     "data": {
      "image/png": "[encoded data removed]",
      "text/plain": [
       "<Figure size 432x288 with 1 Axes>"
      ]
     },
     "metadata": {
      "needs_background": "light"
     },
     "output_type": "display_data"
    }
   ],
   "source": [
    "#ma = ma3b3\n",
    "#ma = mafc\n",
    "sg = 7.5\n",
    "ptcut_lo, ptcut_hi = 62.5-sg, 62.5+sg\n",
    "print(len(pt[pt<ptcut_lo]), len(pt[(pt>ptcut_lo)&(pt<ptcut_hi)]), len(pt[pt>ptcut_hi]))\n",
    "#plt.hist(ma, histtype='step', range=(0., 1.2), bins=nbins)\n",
    "plt.hist(ma[pt<ptcut_lo], histtype='step', range=(0., 1.2), bins=nbins, weights=np.ones_like(ma[pt<ptcut_lo])/len(ma[pt<ptcut_lo]))\n",
    "plt.hist(ma[(pt>ptcut_lo)&(pt<ptcut_hi)], histtype='step', range=(0., 1.2), bins=nbins, weights=np.ones_like(ma[(pt>ptcut_lo)&(pt<ptcut_hi)])/len(ma[(pt>ptcut_lo)&(pt<ptcut_hi)]))\n",
    "plt.hist(ma[pt>ptcut_hi], histtype='step', range=(0., 1.2), bins=nbins, weights=np.ones_like(ma[pt>ptcut_hi])/len(ma[pt>ptcut_hi]))\n",
    "#plt.hist(ma[pt>100.], histtype='step', range=(0., 1.2), bins=nbins, weights=np.ones_like(ma[pt>100.])/len(ma[pt>100.]))\n",
    "plt.axvline(x=0.1, color='r', linestyle='dashed', linewidth=1, alpha=0.4)\n",
    "#plt.axvline(x=0.55, color='r', linestyle='dashed', linewidth=1, alpha=0.4)\n",
    "plt.show()"
   ]
  },
  {
   "cell_type": "code",
   "execution_count": 36,
   "metadata": {},
   "outputs": [],
   "source": [
    "import CMS_lumi, tdrstyle\n",
    "\n",
    "ROOT.gStyle.SetPadTickX(1)\n",
    "ROOT.gStyle.SetPadTickY(1)\n",
    "#change the CMS_lumi variables (see CMS_lumi.py)\n",
    "CMS_lumi.lumi_7TeV = \"4.8 fb^{-1}\"\n",
    "CMS_lumi.lumi_8TeV = \"18.3 fb^{-1}\"\n",
    "CMS_lumi.writeExtraText = 1\n",
    "CMS_lumi.extraText = \"Preliminary\"\n",
    "#CMS_lumi.lumi_sqrtS = \"41.9 fb^{-1} (13 TeV)\" # used with iPeriod = 0, e.g. for simulation-only plots (default is an empty string)\n",
    "CMS_lumi.lumi_sqrtS = \"13 TeV\" # used with iPeriod = 0, e.g. for simulation-only plots (default is an empty string)\n",
    "CMS_lumi.cmsTextOffset = 0.09\n",
    "#iPos = 11\n",
    "iPos = 0\n",
    "if( iPos==0 ): CMS_lumi.relPosX = 0.12+0.03\n",
    "iPeriod = 0"
   ]
  },
  {
   "cell_type": "code",
   "execution_count": 48,
   "metadata": {},
   "outputs": [
    {
     "name": "stdout",
     "output_type": "stream",
     "text": [
      "ma 226859\n",
      "mamid 241181\n",
      "mahi 145073\n",
      "13 TeV\n",
      "test\n"
     ]
    },
    {
     "data": {
      "image/png": "[encoded data removed]",
      "text/plain": [
       "<IPython.core.display.Image object>"
      ]
     },
     "metadata": {},
     "output_type": "display_data"
    }
   ],
   "source": [
    "err_style = 'E2'\n",
    "fill_style = 3002\n",
    "ROOT.TGaxis.SetMaxDigits(4)\n",
    "\n",
    "#[pt<ptcut_lo]\n",
    "#[(pt>ptcut_lo)&(pt<ptcut_hi)]\n",
    "#[pt>ptcut_hi]\n",
    "hnbins = 48*2\n",
    "\n",
    "k = 'ma'\n",
    "h[k] = ROOT.TH1F(k, k, hnbins, 0., 1.2)\n",
    "#h[k] = ROOT.TH1F(k, k, 60, 0.55-0.2, 0.55+0.25)\n",
    "c[k] = ROOT.TCanvas(k, k, wd, ht)\n",
    "count = 0\n",
    "for m in ma[pt<ptcut_lo]:\n",
    "    h[k].Fill(m)\n",
    "    count += 1\n",
    "print(k,count)\n",
    "c[k].cd()\n",
    "#h[k].Scale(1./h[k].Integral())\n",
    "h[k].Scale(1./h[k].GetEntries())\n",
    "set_hist(h[k], c[k], \"m_{a,pred} [GeV]\", \"\", \"\")\n",
    "ymax = 1.2*h[k].GetMaximum()\n",
    "ymin = 0.8*h[k].GetMinimum()\n",
    "#ymax = 28000\n",
    "#ymin = 5000\n",
    "ymax = 0.06\n",
    "ymin = 0\n",
    "h[k].GetYaxis().SetRangeUser(ymin, ymax)\n",
    "h[k].GetYaxis().SetTitle(\"N_{a} / 25 MeV\")\n",
    "h[k].GetYaxis().SetTitleOffset(1.1)\n",
    "h[k].GetXaxis().SetTitleOffset(0.9)\n",
    "h[k].GetXaxis().SetTitleSize(0.06)\n",
    "h[k].SetFillColor(2)#14\n",
    "h[k].SetFillStyle(fill_style)\n",
    "h[k].Draw(\"%s\"%err_style)\n",
    "hc[k] = h[k].Clone()\n",
    "hc[k].SetLineColor(2)#14\n",
    "hc[k].SetFillStyle(0)\n",
    "hc[k].Draw(\"hist same\")\n",
    "\n",
    "###########\n",
    "'''klo = k+'lo'\n",
    "h[klo] = ROOT.TH1F(klo, klo, hnbins, 0., 1.2)\n",
    "count = 0\n",
    "for m in ma[pt<ptcut_lo]:\n",
    "    h[klo].Fill(m)\n",
    "    count += 1\n",
    "print(klo,count)\n",
    "h[klo].Scale(1./h[klo].Integral())\n",
    "h[klo].SetFillColor(2)#14\n",
    "h[klo].SetFillStyle(fill_style)\n",
    "h[klo].Draw(\"%s same\"%err_style)\n",
    "hc[klo] = h[klo].Clone()\n",
    "hc[klo].SetLineColor(2)#14\n",
    "hc[klo].SetFillStyle(0)\n",
    "hc[klo].Draw(\"hist same\")'''\n",
    "\n",
    "###########\n",
    "kmid = k+'mid'\n",
    "h[kmid] = ROOT.TH1F(kmid, kmid, hnbins, 0., 1.2)\n",
    "count = 0\n",
    "for m in ma[(pt>ptcut_lo)&(pt<ptcut_hi)]:\n",
    "    h[kmid].Fill(m)\n",
    "    count += 1\n",
    "print(kmid,count)\n",
    "#h[kmid].Scale(1./h[kmid].Integral())\n",
    "h[kmid].Scale(1./h[kmid].GetEntries())\n",
    "h[kmid].SetFillColor(9)#14\n",
    "h[kmid].SetFillStyle(fill_style)\n",
    "h[kmid].Draw(\"%s same\"%err_style)\n",
    "hc[kmid] = h[kmid].Clone()\n",
    "hc[kmid].SetLineColor(9)#14\n",
    "hc[kmid].SetFillStyle(0)\n",
    "hc[kmid].Draw(\"hist same\")\n",
    "\n",
    "###########\n",
    "khi = k+'hi'\n",
    "h[khi] = ROOT.TH1F(khi, khi, hnbins, 0., 1.2)\n",
    "count = 0\n",
    "for m in ma[pt>ptcut_hi]:\n",
    "    h[khi].Fill(m)\n",
    "    count += 1\n",
    "print(khi,count)\n",
    "#h[khi].Scale(1./h[khi].Integral())\n",
    "h[khi].Scale(1./h[khi].GetEntries())\n",
    "h[khi].SetFillColor(14)#14\n",
    "h[khi].SetFillStyle(fill_style)\n",
    "h[khi].Draw(\"%s same\"%err_style)\n",
    "hc[khi] = h[khi].Clone()\n",
    "hc[khi].SetLineColor(14)#14\n",
    "hc[khi].SetFillStyle(0)\n",
    "hc[khi].Draw(\"hist same\")\n",
    "\n",
    "CMS_lumi.CMS_lumi(c[k], iPeriod, iPos)\n",
    "#h[k].GetXaxis().SetRangeUser(0.55-0.15, 0.55+0.15)\n",
    "#h[k].GetYaxis().SetRangeUser(200, 2200)\n",
    "c[k].Draw()"
   ]
  },
  {
   "cell_type": "code",
   "execution_count": 49,
   "metadata": {},
   "outputs": [
    {
     "name": "stderr",
     "output_type": "stream",
     "text": [
      "Warning in <TCanvas::Constructor>: Deleting canvas with same name: chmAvPt135\n"
     ]
    },
    {
     "data": {
      "image/png": "[encoded data removed]",
      "text/plain": [
       "<IPython.core.display.Image object>"
      ]
     },
     "metadata": {},
     "output_type": "display_data"
    }
   ],
   "source": [
    "make_2dpdf = True\n",
    "mass = 0.135\n",
    "sample = '%d MeV'%mass if mass < 1000 else '%d GeV'%(mass/1000.)\n",
    "#CMS_lumi.lumi_sqrtS = \"m(a) = %s\"%sample # used with iPeriod = 0, e.g. for simulation-only plots (default is an empty string)\n",
    "#CMS_lumi.relPosX = 0.15\n",
    "\n",
    "k = 'hmAvPt%d'%int(mass*1e3)\n",
    "c[k] = ROOT.TCanvas(\"c%s\"%k,\"c%s\"%k,wd,ht)\n",
    "#h[k] = ROOT.TH2F(k, k, 50, 20., 100., 48, 0., 1.2)\n",
    "h[k] = ROOT.TH2F(k, k, 35, 30., 100., 48, 0., 1.2)\n",
    "\n",
    "for m,p in zip(ma,pt):\n",
    "    #print(m,p)\n",
    "    h[k].Fill(p, m)\n",
    "    #break\n",
    "    \n",
    "c[k].cd()\n",
    "if make_2dpdf: h[k] = make_pdf(h[k])\n",
    "h[k], c[k] = set_hist(h[k], c[k], \"p_{T,a} [GeV]\", \"m_{a,pred} [GeV]\", \"m_{a,pred} vs. p_{T,a}\")\n",
    "#ROOT.gPad.SetTopMargin(0.1)\n",
    "ROOT.gPad.SetBottomMargin(0.14)\n",
    "ROOT.gPad.SetRightMargin(0.17)\n",
    "ROOT.gStyle.SetPalette(55)#53\n",
    "h[k].SetTitle('')\n",
    "h[k].GetYaxis().SetTitleOffset(1.0)\n",
    "h[k].GetYaxis().SetTitleSize(0.06)\n",
    "h[k].GetZaxis().SetTitle('N_{a}')\n",
    "h[k].GetZaxis().SetTitleOffset(0.9)\n",
    "h[k].GetZaxis().SetTitleSize(0.05)\n",
    "h[k].GetZaxis().SetTitleFont(62)\n",
    "h[k].GetZaxis().SetLabelSize(0.04)\n",
    "h[k].GetZaxis().SetLabelFont(62)\n",
    "h[k].GetXaxis().SetTitleOffset(0.9)\n",
    "h[k].GetXaxis().SetTitleSize(0.06)\n",
    "#if make_2dpdf:\n",
    "#    ROOT.gPad.SetLeftMargin(0.15)\n",
    "#    ROOT.gPad.SetRightMargin(0.2)\n",
    "#    h[k].GetZaxis().SetTitle(\"p(m_{a}|p_{T,a})\")\n",
    "#    h[k].GetZaxis().SetTitleOffset(1.35)\n",
    "#else:\n",
    "#    h[k].SetMaximum(60.)\n",
    "h[k].SetMaximum(0.12)\n",
    "h[k].Draw(\"COL Z\")\n",
    "#CMS_lumi.CMS_lumi(c[k], iPeriod, iPos)\n",
    "c[k].Draw()\n",
    "#if make_2dpdf:\n",
    "#    palette = h[k].GetListOfFunctions().FindObject(\"palette\")\n",
    "#    palette.SetX1NDC(0.808)\n",
    "#    palette.SetX2NDC(0.858)\n",
    "#palette[k] = h[k].GetListOfFunctions().FindObject(\"palette\")\n",
    "#palette[k].SetX1NDC(0.84)\n",
    "#palette[k].SetX2NDC(0.89)\n",
    "#palette[k].SetY1NDC(0.13)\n",
    "#palette[k].SetY2NDC(0.9)\n",
    "#c[k].Update()\n",
    "#if print_png: c[k].Print('%s/%sMeV.png'%(plot_dir, k))\n",
    "#if print_pdf: c[k].Print('%s/%sMeV.pdf'%(plot_dir, k))"
   ]
  },
  {
   "cell_type": "code",
   "execution_count": 50,
   "metadata": {},
   "outputs": [
    {
     "data": {
      "image/png": "[encoded data removed]",
      "text/plain": [
       "<IPython.core.display.Image object>"
      ]
     },
     "metadata": {},
     "output_type": "display_data"
    }
   ],
   "source": [
    "k = 'hmAvEta%d'%int(mass*1e3)\n",
    "c[k] = ROOT.TCanvas(\"c%s\"%k,\"c%s\"%k,wd,ht)\n",
    "h[k] = ROOT.TH2F(k, k, 48, -1.2, 1.2, 48, 0., 1.2)\n",
    "\n",
    "for m,e in zip(ma,eta):\n",
    "    #print(m,p)\n",
    "    h[k].Fill(e, m)\n",
    "    #break\n",
    "\n",
    "k = 'hmAvEta%d'%int(mass*1e3)\n",
    "c[k].cd()\n",
    "if make_2dpdf: h[k] = make_pdf(h[k])\n",
    "h[k], c[k] = set_hist(h[k], c[k], \"#eta_{a}\", \"m_{a,pred} [GeV]\", \"m_{a,pred} vs. #eta_{a}\")\n",
    "ROOT.gPad.SetBottomMargin(0.14)\n",
    "ROOT.gPad.SetRightMargin(0.17)\n",
    "ROOT.gStyle.SetPalette(55)#53\n",
    "h[k].SetTitle('')\n",
    "h[k].GetYaxis().SetTitleOffset(1.)\n",
    "h[k].GetYaxis().SetTitleSize(0.06)\n",
    "h[k].GetZaxis().SetTitle('N_{a}')\n",
    "h[k].GetZaxis().SetTitleOffset(0.9)\n",
    "h[k].GetZaxis().SetTitleSize(0.05)\n",
    "h[k].GetZaxis().SetTitleFont(62)\n",
    "h[k].GetZaxis().SetLabelSize(0.04)\n",
    "h[k].GetZaxis().SetLabelFont(62)\n",
    "h[k].GetXaxis().SetTitleOffset(0.9)\n",
    "h[k].GetXaxis().SetTitleSize(0.06)\n",
    "'''\n",
    "if make_2dpdf:\n",
    "    ROOT.gPad.SetLeftMargin(0.15)\n",
    "    ROOT.gPad.SetRightMargin(0.2)\n",
    "    h[k].GetZaxis().SetTitle(\"p(m_{a}|#eta_{a})\")\n",
    "    h[k].GetZaxis().SetTitleOffset(1.35)\n",
    "else:\n",
    "    h[k].SetMaximum(60.)\n",
    "'''\n",
    "h[k].Draw(\"COL Z\")\n",
    "#CMS_lumi.CMS_lumi(c[k], iPeriod, iPos)\n",
    "c[k].Draw()\n",
    "#if make_2dpdf:\n",
    "#    palette = h[k].GetListOfFunctions().FindObject(\"palette\")\n",
    "#    palette.SetX1NDC(0.808)\n",
    "#    palette.SetX2NDC(0.858)\n",
    "#palette[k] = h[k].GetListOfFunctions().FindObject(\"palette\")\n",
    "#palette[k].SetX1NDC(0.84)\n",
    "#palette[k].SetX2NDC(0.89)\n",
    "#palette[k].SetY1NDC(0.12)\n",
    "#palette[k].SetY2NDC(0.9)\n",
    "#c[k].Update()\n",
    "#if print_png: c[k].Print('%s/%sMeV.png'%(plot_dir, k))\n",
    "#if print_pdf: c[k].Print('%s/%sMeV.pdf'%(plot_dir, k))"
   ]
  },
  {
   "cell_type": "code",
   "execution_count": 40,
   "metadata": {},
   "outputs": [
    {
     "ename": "ValueError",
     "evalue": "zero-size array to reduction operation minimum which has no identity",
     "output_type": "error",
     "traceback": [
      "\u001b[0;31m\u001b[0m",
      "\u001b[0;31mValueError\u001b[0mTraceback (most recent call last)",
      "\u001b[0;32m<ipython-input-40-462fea27f04f>\u001b[0m in \u001b[0;36m<module>\u001b[0;34m()\u001b[0m\n\u001b[1;32m      3\u001b[0m \u001b[0mh\u001b[0m\u001b[0;34m[\u001b[0m\u001b[0mk\u001b[0m\u001b[0;34m]\u001b[0m \u001b[0;34m=\u001b[0m \u001b[0mROOT\u001b[0m\u001b[0;34m.\u001b[0m\u001b[0mTH2F\u001b[0m\u001b[0;34m(\u001b[0m\u001b[0mk\u001b[0m\u001b[0;34m,\u001b[0m \u001b[0mk\u001b[0m\u001b[0;34m,\u001b[0m \u001b[0;36m50\u001b[0m\u001b[0;34m,\u001b[0m \u001b[0;36m15\u001b[0m\u001b[0;34m,\u001b[0m \u001b[0;36m40\u001b[0m\u001b[0;34m,\u001b[0m \u001b[0;36m48\u001b[0m\u001b[0;34m,\u001b[0m \u001b[0;36m0.\u001b[0m\u001b[0;34m,\u001b[0m \u001b[0;36m1.2\u001b[0m\u001b[0;34m)\u001b[0m\u001b[0;34m\u001b[0m\u001b[0m\n\u001b[1;32m      4\u001b[0m \u001b[0;34m\u001b[0m\u001b[0m\n\u001b[0;32m----> 5\u001b[0;31m \u001b[0;32mprint\u001b[0m\u001b[0;34m(\u001b[0m\u001b[0mnp\u001b[0m\u001b[0;34m.\u001b[0m\u001b[0mmin\u001b[0m\u001b[0;34m(\u001b[0m\u001b[0mpu\u001b[0m\u001b[0;34m[\u001b[0m\u001b[0mpu\u001b[0m\u001b[0;34m>\u001b[0m\u001b[0;36m0.\u001b[0m\u001b[0;34m]\u001b[0m\u001b[0;34m)\u001b[0m\u001b[0;34m,\u001b[0m \u001b[0mnp\u001b[0m\u001b[0;34m.\u001b[0m\u001b[0mmax\u001b[0m\u001b[0;34m(\u001b[0m\u001b[0mpu\u001b[0m\u001b[0;34m)\u001b[0m\u001b[0;34m)\u001b[0m\u001b[0;34m\u001b[0m\u001b[0m\n\u001b[0m\u001b[1;32m      6\u001b[0m \u001b[0;32mfor\u001b[0m \u001b[0mm\u001b[0m\u001b[0;34m,\u001b[0m\u001b[0mp\u001b[0m \u001b[0;32min\u001b[0m \u001b[0mzip\u001b[0m\u001b[0;34m(\u001b[0m\u001b[0mma\u001b[0m\u001b[0;34m,\u001b[0m\u001b[0mpu\u001b[0m\u001b[0;34m)\u001b[0m\u001b[0;34m:\u001b[0m\u001b[0;34m\u001b[0m\u001b[0m\n\u001b[1;32m      7\u001b[0m     \u001b[0;31m#print(m,p)\u001b[0m\u001b[0;34m\u001b[0m\u001b[0;34m\u001b[0m\u001b[0m\n",
      "\u001b[0;32m/cvmfs/sft.cern.ch/lcg/views/LCG_97/x86_64-centos7-gcc8-opt/lib/python2.7/site-packages/numpy/core/fromnumeric.pyc\u001b[0m in \u001b[0;36mamin\u001b[0;34m(a, axis, out, keepdims, initial)\u001b[0m\n\u001b[1;32m   2616\u001b[0m     \"\"\"\n\u001b[1;32m   2617\u001b[0m     return _wrapreduction(a, np.minimum, 'min', axis, None, out, keepdims=keepdims,\n\u001b[0;32m-> 2618\u001b[0;31m                           initial=initial)\n\u001b[0m\u001b[1;32m   2619\u001b[0m \u001b[0;34m\u001b[0m\u001b[0m\n\u001b[1;32m   2620\u001b[0m \u001b[0;34m\u001b[0m\u001b[0m\n",
      "\u001b[0;32m/cvmfs/sft.cern.ch/lcg/views/LCG_97/x86_64-centos7-gcc8-opt/lib/python2.7/site-packages/numpy/core/fromnumeric.pyc\u001b[0m in \u001b[0;36m_wrapreduction\u001b[0;34m(obj, ufunc, method, axis, dtype, out, **kwargs)\u001b[0m\n\u001b[1;32m     84\u001b[0m                 \u001b[0;32mreturn\u001b[0m \u001b[0mreduction\u001b[0m\u001b[0;34m(\u001b[0m\u001b[0maxis\u001b[0m\u001b[0;34m=\u001b[0m\u001b[0maxis\u001b[0m\u001b[0;34m,\u001b[0m \u001b[0mout\u001b[0m\u001b[0;34m=\u001b[0m\u001b[0mout\u001b[0m\u001b[0;34m,\u001b[0m \u001b[0;34m**\u001b[0m\u001b[0mpasskwargs\u001b[0m\u001b[0;34m)\u001b[0m\u001b[0;34m\u001b[0m\u001b[0m\n\u001b[1;32m     85\u001b[0m \u001b[0;34m\u001b[0m\u001b[0m\n\u001b[0;32m---> 86\u001b[0;31m     \u001b[0;32mreturn\u001b[0m \u001b[0mufunc\u001b[0m\u001b[0;34m.\u001b[0m\u001b[0mreduce\u001b[0m\u001b[0;34m(\u001b[0m\u001b[0mobj\u001b[0m\u001b[0;34m,\u001b[0m \u001b[0maxis\u001b[0m\u001b[0;34m,\u001b[0m \u001b[0mdtype\u001b[0m\u001b[0;34m,\u001b[0m \u001b[0mout\u001b[0m\u001b[0;34m,\u001b[0m \u001b[0;34m**\u001b[0m\u001b[0mpasskwargs\u001b[0m\u001b[0;34m)\u001b[0m\u001b[0;34m\u001b[0m\u001b[0m\n\u001b[0m\u001b[1;32m     87\u001b[0m \u001b[0;34m\u001b[0m\u001b[0m\n\u001b[1;32m     88\u001b[0m \u001b[0;34m\u001b[0m\u001b[0m\n",
      "\u001b[0;31mValueError\u001b[0m: zero-size array to reduction operation minimum which has no identity"
     ]
    }
   ],
   "source": [
    "k = 'hmAvPU%d'%int(mass*1e3)\n",
    "c[k] = ROOT.TCanvas(\"c%s\"%k,\"c%s\"%k,wd,ht)\n",
    "h[k] = ROOT.TH2F(k, k, 50, 15, 40, 48, 0., 1.2)\n",
    "\n",
    "print(np.min(pu[pu>0.]), np.max(pu))\n",
    "for m,p in zip(ma,pu):\n",
    "    #print(m,p)\n",
    "    h[k].Fill(p, m)\n",
    "    #break\n",
    "\n",
    "k = 'hmAvPU%d'%int(mass*1e3)\n",
    "print(k)\n",
    "c[k].cd()\n",
    "if make_2dpdf: h[k] = make_pdf(h[k])\n",
    "h[k], c[k] = set_hist(h[k], c[k], \"PU\", \"m_{a,pred} [GeV]\", \"m_{a,pred} vs. PU\")\n",
    "#ROOT.gPad.SetBottomMargin(0.14)\n",
    "ROOT.gPad.SetLeftMargin(0.15)\n",
    "ROOT.gPad.SetRightMargin(0.2)\n",
    "ROOT.gStyle.SetPalette(55)#53\n",
    "h[k].SetTitle('')\n",
    "h[k].GetYaxis().SetTitleOffset(1.0)\n",
    "h[k].GetYaxis().SetTitleSize(0.06)\n",
    "h[k].GetZaxis().SetTitle(\"p(m_{a}|PU)\" if make_2dpdf else 'N_{a}')\n",
    "h[k].GetZaxis().SetTitleOffset(1.35)\n",
    "h[k].GetZaxis().SetTitleSize(0.05)\n",
    "h[k].GetZaxis().SetTitleFont(62)\n",
    "h[k].GetZaxis().SetLabelSize(0.04)\n",
    "h[k].GetZaxis().SetLabelFont(62)\n",
    "h[k].GetXaxis().SetTitleOffset(0.8)\n",
    "h[k].GetXaxis().SetTitleSize(0.06)\n",
    "h[k].Draw(\"COL Z\")\n",
    "#h[k].SetMaximum(70.)\n",
    "#CMS_lumi.CMS_lumi(c[k], iPeriod, iPos)\n",
    "c[k].Draw()\n",
    "#palette = h[k].GetListOfFunctions().FindObject(\"palette\")\n",
    "#palette.SetX1NDC(0.808)\n",
    "#palette.SetX2NDC(0.858)\n",
    "#palette.SetY1NDC(0.13)\n",
    "#palette.SetY2NDC(0.9)\n",
    "\n",
    "#c[k].SetGrid()\n",
    "#c[k].Draw()\n",
    "#c[k].Update()\n",
    "#if print_png: c[k].Print('%s/%sMeV.png'%(plot_dir, k))\n",
    "#if print_pdf: c[k].Print('%s/%sMeV.pdf'%(plot_dir, k))\n",
    "plt.hist(pu)\n",
    "plt.show()"
   ]
  }
 ],
 "metadata": {
  "kernelspec": {
   "display_name": "Python 2",
   "language": "python",
   "name": "python2"
  },
  "language_info": {
   "codemirror_mode": {
    "name": "ipython",
    "version": 2
   },
   "file_extension": ".py",
   "mimetype": "text/x-python",
   "name": "python",
   "nbconvert_exporter": "python",
   "pygments_lexer": "ipython2",
   "version": "2.7.16"
  }
 },
 "nbformat": 4,
 "nbformat_minor": 2
}
