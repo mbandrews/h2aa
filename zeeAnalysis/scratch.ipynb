{
 "cells": [
  {
   "cell_type": "code",
   "execution_count": 8,
   "metadata": {},
   "outputs": [],
   "source": [
    "import numpy as np\n",
    "import torch\n",
    "import ROOT\n",
    "\n",
    "import CMS_lumi\n",
    "\n",
    "from matplotlib import pyplot as plt\n",
    "%matplotlib inline\n",
    "plt.rcParams[\"figure.figsize\"] = (4,4)"
   ]
  },
  {
   "cell_type": "code",
   "execution_count": 9,
   "metadata": {},
   "outputs": [
    {
     "data": {
      "image/png": "[encoded data removed]",
      "text/plain": [
       "<Figure size 288x288 with 1 Axes>"
      ]
     },
     "metadata": {
      "needs_background": "light"
     },
     "output_type": "display_data"
    }
   ],
   "source": [
    "npimg = np.arange(32*32).reshape(32,32)\n",
    "plt.imshow(npimg)\n",
    "plt.show()"
   ]
  },
  {
   "cell_type": "code",
   "execution_count": 57,
   "metadata": {},
   "outputs": [
    {
     "name": "stdout",
     "output_type": "stream",
     "text": [
      "m(a) = 400 MeV\n"
     ]
    },
    {
     "data": {
      "text/plain": [
       "'\\npalette = h[k].GetListOfFunctions().FindObject(\"palette\")\\npalette.SetX1NDC(0.815)\\npalette.SetX2NDC(0.865)\\npalette.SetY2NDC(0.92)\\n#c[k].Update()\\n#if print_png: c[k].Print(\\'%s/%sMeV.png\\'%(plot_dir, k))\\n#if print_pdf: c[k].Print(\\'%s/%s.pdf\\'%(plot_dir, k))\\n'"
      ]
     },
     "execution_count": 57,
     "metadata": {},
     "output_type": "execute_result"
    },
    {
     "name": "stderr",
     "output_type": "stream",
     "text": [
      "Warning in <TCanvas::Constructor>: Deleting canvas with same name: cshower\n"
     ]
    },
    {
     "data": {
      "image/png": "[encoded data removed]",
      "text/plain": [
       "<IPython.core.display.Image object>"
      ]
     },
     "metadata": {},
     "output_type": "display_data"
    }
   ],
   "source": [
    "wd, ht = int(640*1), int(680*1)\n",
    "h, c = {}, {}\n",
    "\n",
    "ROOT.gStyle.SetPadTickX(1)\n",
    "ROOT.gStyle.SetPadTickY(1)\n",
    "#change the CMS_lumi variables (see CMS_lumi.py)\n",
    "CMS_lumi.lumi_7TeV = \"4.8 fb^{-1}\"\n",
    "CMS_lumi.lumi_8TeV = \"18.3 fb^{-1}\"\n",
    "CMS_lumi.writeExtraText = 1\n",
    "CMS_lumi.extraText = \"Simulation\"\n",
    "CMS_lumi.lumi_sqrtS = \"m(a) = 400 MeV\" # used with iPeriod = 0, e.g. for simulation-only plots (default is an empty string)\n",
    "iPos = 0\n",
    "if( iPos==0 ): CMS_lumi.relPosX = 0.17\n",
    "iPeriod = 0\n",
    "\n",
    "err_style = 'E2'\n",
    "fill_style = 3002\n",
    "wd, ht = int(680*1), int(600*1)\n",
    "ROOT.TGaxis.fgMaxDigits = 3\n",
    "ROOT.gStyle.SetOptStat(0)\n",
    "\n",
    "k = 'shower'\n",
    "c[k] = ROOT.TCanvas(\"c%s\"%k, \"c%s\"%k, wd, ht)\n",
    "h[k] = ROOT.TH2F(k, k, 32, 0., 32., 32, 0., 32.)\n",
    "\n",
    "s = 'data2017'\n",
    "for ir in range(32):\n",
    "    for ic in range(32):\n",
    "        binc = npimg[ir,ic]\n",
    "        if binc != 0:\n",
    "            h[k].Fill(ic, ir, binc)\n",
    "\n",
    "c[k].cd()\n",
    "c[k].SetLogz()\n",
    "ROOT.gPad.SetTopMargin(0.08)\n",
    "ROOT.gPad.SetBottomMargin(0.14)\n",
    "ROOT.gPad.SetLeftMargin(0.12)\n",
    "ROOT.gPad.SetRightMargin(0.19)\n",
    "ROOT.gStyle.SetPalette(56)#53\n",
    "h[k].SetTitle('')\n",
    "\n",
    "h[k].GetXaxis().SetTitleFont(42)\n",
    "h[k].GetXaxis().SetLabelFont(42)\n",
    "h[k].GetXaxis().SetTitle('#phi')\n",
    "h[k].GetXaxis().SetTitleOffset(0.9)\n",
    "h[k].GetXaxis().SetTitleSize(0.06)\n",
    "h[k].GetXaxis().SetNdivisions(-404)\n",
    "\n",
    "h[k].GetYaxis().SetTitleFont(42)\n",
    "h[k].GetYaxis().SetLabelFont(42)\n",
    "h[k].GetYaxis().SetTitle('#eta')\n",
    "h[k].GetYaxis().SetTitleOffset(0.7)\n",
    "h[k].GetYaxis().SetTitleSize(0.07)\n",
    "h[k].GetYaxis().SetNdivisions(-404)\n",
    "\n",
    "h[k].GetZaxis().SetTitle('Energy [GeV]')\n",
    "h[k].GetZaxis().SetTitleOffset(0.9)\n",
    "h[k].GetZaxis().SetTitleSize(0.07)\n",
    "h[k].GetZaxis().SetLabelSize(0.04)\n",
    "h[k].GetZaxis().SetTitleFont(42)\n",
    "h[k].GetZaxis().SetLabelFont(42)\n",
    "\n",
    "#h[k].SetMaximum(60.)\n",
    "h[k].SetContour(100)\n",
    "h[k].Draw(\"COL Z\")\n",
    "CMS_lumi.CMS_lumi(c[k], iPeriod, iPos)\n",
    "c[k].Draw()\n",
    "'''\n",
    "palette = h[k].GetListOfFunctions().FindObject(\"palette\")\n",
    "palette.SetX1NDC(0.815)\n",
    "palette.SetX2NDC(0.865)\n",
    "palette.SetY2NDC(0.92)\n",
    "#c[k].Update()\n",
    "#if print_png: c[k].Print('%s/%sMeV.png'%(plot_dir, k))\n",
    "#if print_pdf: c[k].Print('%s/%s.pdf'%(plot_dir, k))\n",
    "'''"
   ]
  },
  {
   "cell_type": "code",
   "execution_count": 51,
   "metadata": {},
   "outputs": [
    {
     "name": "stdout",
     "output_type": "stream",
     "text": [
      "(4, 1, 2, 2)\n",
      "[[[[ 0  1]\n",
      "   [ 2  3]]]\n",
      "\n",
      "\n",
      " [[[ 4  5]\n",
      "   [ 6  7]]]\n",
      "\n",
      "\n",
      " [[[ 8  9]\n",
      "   [10 11]]]\n",
      "\n",
      "\n",
      " [[[12 13]\n",
      "   [14 15]]]]\n",
      "0\n",
      "5\n",
      "10\n",
      "15\n"
     ]
    }
   ],
   "source": [
    "X = np.arange(4*4).reshape(4,1,2,2) # (samples, layers, rows, cols)\n",
    "print(X.shape)\n",
    "print(X)\n",
    "print(X[0,0,0,0])\n",
    "print(X[1,0,0,1])\n",
    "print(X[2,0,1,0])\n",
    "print(X[3,0,1,1])"
   ]
  },
  {
   "cell_type": "code",
   "execution_count": 54,
   "metadata": {},
   "outputs": [
    {
     "name": "stdout",
     "output_type": "stream",
     "text": [
      "[[list([0, 0]) list([1, 1])]\n",
      " [0 1]\n",
      " [1 0]\n",
      " [1 1]]\n",
      "(4, 2)\n"
     ]
    }
   ],
   "source": [
    "idxs = np.array([1,0])#.reshape(1,1,2)\n",
    "#print(idxs)\n",
    "\n",
    "idxs = np.array([[1,0],[0,0]])#.reshape(1,1,2)\n",
    "#print(idxs)\n",
    "#print(idxs.shape)\n",
    "\n",
    "idxs = np.array([\n",
    "#    [(0,0),(1,1)],\n",
    "#    (0,1),\n",
    "#    (1,0),\n",
    "#    (1,1)\n",
    "    [[0,0],[1,1]],\n",
    "    [0,1],\n",
    "    [1,0],\n",
    "    [1,1]\n",
    "])\n",
    "print(idxs)\n",
    "print(idxs.shape)"
   ]
  },
  {
   "cell_type": "code",
   "execution_count": 65,
   "metadata": {},
   "outputs": [
    {
     "name": "stdout",
     "output_type": "stream",
     "text": [
      "[array([1, 1]), 5, 10, 15]\n",
      "[array([1, 1]) 5 10 15]\n"
     ]
    }
   ],
   "source": [
    "tows = [x[0][tuple(idx)] for x,idx in zip(X,idxs)]\n",
    "print(tows)\n",
    "tows = np.array(tows).flatten()\n",
    "print(tows)"
   ]
  },
  {
   "cell_type": "code",
   "execution_count": 57,
   "metadata": {},
   "outputs": [
    {
     "data": {
      "text/plain": [
       "{0: array([list([0, 0]), list([1, 1])], dtype=object),\n",
       " 1: array([0, 1], dtype=object),\n",
       " 2: array([1, 0], dtype=object),\n",
       " 3: array([1, 1], dtype=object)}"
      ]
     },
     "execution_count": 57,
     "metadata": {},
     "output_type": "execute_result"
    }
   ],
   "source": [
    "idxs_dict = {i:np.array(c) for i,c in enumerate(idxs)}\n",
    "idxs_dict"
   ]
  },
  {
   "cell_type": "code",
   "execution_count": 58,
   "metadata": {},
   "outputs": [
    {
     "data": {
      "text/plain": [
       "[array([list([0, 0]), list([1, 1])], dtype=object),\n",
       " array([0, 1], dtype=object),\n",
       " array([1, 0], dtype=object),\n",
       " array([1, 1], dtype=object)]"
      ]
     },
     "execution_count": 58,
     "metadata": {},
     "output_type": "execute_result"
    }
   ],
   "source": [
    "#tows = [x[0][idxs_dict[i]] for i,x in enumerate(X)]\n",
    "tows = [idxs_dict[i] for i,x in enumerate(X)]\n",
    "tows"
   ]
  },
  {
   "cell_type": "code",
   "execution_count": 62,
   "metadata": {},
   "outputs": [
    {
     "name": "stdout",
     "output_type": "stream",
     "text": [
      "torch.Size([4, 1, 2, 2])\n"
     ]
    },
    {
     "ename": "TypeError",
     "evalue": "can't convert np.ndarray of type numpy.object_. The only supported types are: float64, float32, float16, int64, int32, int16, int8, uint8, and bool.",
     "output_type": "error",
     "traceback": [
      "\u001b[0;31m---------------------------------------------------------------------------\u001b[0m",
      "\u001b[0;31mTypeError\u001b[0m                                 Traceback (most recent call last)",
      "\u001b[0;32m<ipython-input-62-96c124851cc1>\u001b[0m in \u001b[0;36m<module>\u001b[0;34m()\u001b[0m\n\u001b[1;32m      1\u001b[0m \u001b[0mX_t\u001b[0m \u001b[0;34m=\u001b[0m \u001b[0mtorch\u001b[0m\u001b[0;34m.\u001b[0m\u001b[0mTensor\u001b[0m\u001b[0;34m(\u001b[0m\u001b[0mX\u001b[0m\u001b[0;34m)\u001b[0m\u001b[0;34m\u001b[0m\u001b[0m\n\u001b[1;32m      2\u001b[0m \u001b[0;32mprint\u001b[0m\u001b[0;34m(\u001b[0m\u001b[0mX_t\u001b[0m\u001b[0;34m.\u001b[0m\u001b[0msize\u001b[0m\u001b[0;34m(\u001b[0m\u001b[0;34m)\u001b[0m\u001b[0;34m)\u001b[0m\u001b[0;34m\u001b[0m\u001b[0m\n\u001b[0;32m----> 3\u001b[0;31m \u001b[0midxs_t\u001b[0m \u001b[0;34m=\u001b[0m \u001b[0mtorch\u001b[0m\u001b[0;34m.\u001b[0m\u001b[0mTensor\u001b[0m\u001b[0;34m(\u001b[0m\u001b[0midxs\u001b[0m\u001b[0;34m)\u001b[0m\u001b[0;34m\u001b[0m\u001b[0m\n\u001b[0m",
      "\u001b[0;31mTypeError\u001b[0m: can't convert np.ndarray of type numpy.object_. The only supported types are: float64, float32, float16, int64, int32, int16, int8, uint8, and bool."
     ]
    }
   ],
   "source": [
    "X_t = torch.Tensor(X)\n",
    "print(X_t.size())\n",
    "idxs_t = torch.Tensor(idxs)"
   ]
  }
 ],
 "metadata": {
  "kernelspec": {
   "display_name": "Python 2",
   "language": "python",
   "name": "python2"
  },
  "language_info": {
   "codemirror_mode": {
    "name": "ipython",
    "version": 2
   },
   "file_extension": ".py",
   "mimetype": "text/x-python",
   "name": "python",
   "nbconvert_exporter": "python",
   "pygments_lexer": "ipython2",
   "version": "2.7.16"
  }
 },
 "nbformat": 4,
 "nbformat_minor": 2
}
