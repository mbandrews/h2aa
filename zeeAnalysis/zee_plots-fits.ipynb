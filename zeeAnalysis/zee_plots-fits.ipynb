{
 "cells": [
  {
   "cell_type": "code",
   "execution_count": 1,
   "metadata": {},
   "outputs": [],
   "source": [
    "%matplotlib inline\n",
    "from matplotlib import pyplot as plt\n",
    "plt.rcParams[\"figure.figsize\"] = (7,7)\n",
    "import numpy as np"
   ]
  },
  {
   "cell_type": "code",
   "execution_count": 2,
   "metadata": {},
   "outputs": [
    {
     "name": "stdout",
     "output_type": "stream",
     "text": [
      "Welcome to JupyROOT 6.20/02\n"
     ]
    }
   ],
   "source": [
    "from __future__ import print_function\n",
    "import time, os, glob\n",
    "import ROOT\n",
    "from array import array\n",
    "from hist_utils import *\n",
    "import CMS_lumi"
   ]
  },
  {
   "cell_type": "code",
   "execution_count": 3,
   "metadata": {},
   "outputs": [],
   "source": [
    "def make_pdf(h):\n",
    "\n",
    "    sumOverY = {}\n",
    "    for ix in range(1, h.GetNbinsX()+1):\n",
    "        sumOverY[ix] = sum([h.GetBinContent(ix, iy_) for iy_ in range(1, h.GetNbinsY()+1)])\n",
    "        for iy in range(1, h.GetNbinsY()+1):\n",
    "            binc = h.GetBinContent(ix, iy)\n",
    "            if sumOverY[ix] > 0.:\n",
    "                h.SetBinContent(ix, iy, binc/sumOverY[ix])\n",
    "\n",
    "    return h"
   ]
  },
  {
   "cell_type": "code",
   "execution_count": 4,
   "metadata": {},
   "outputs": [
    {
     "name": "stdout",
     "output_type": "stream",
     "text": [
      "['Templates/ZeeSel-Era16Feb2021-Zeev1/data2017-Run2017B_ma1.txt', 'Templates/ZeeSel-Era16Feb2021-Zeev1/data2017-Run2017C_ma1.txt', 'Templates/ZeeSel-Era16Feb2021-Zeev1/data2017-Run2017D_ma1.txt', 'Templates/ZeeSel-Era16Feb2021-Zeev1/data2017-Run2017E_ma1.txt', 'Templates/ZeeSel-Era16Feb2021-Zeev1/data2017-Run2017F_ma1.txt']\n",
      "19583389 19583389\n",
      "[-1.       -0.088292 -0.042679  0.094709  0.087735]\n",
      "[27.37306  31.083309 43.18013  37.664272 42.782734]\n",
      "['Templates/ZeeSel-Era16Feb2021-Zeev1/bg2017-dy00_ma1.txt', 'Templates/ZeeSel-Era16Feb2021-Zeev1/bg2017-dy01_ma1.txt', 'Templates/ZeeSel-Era16Feb2021-Zeev1/bg2017-dy02_ma1.txt', 'Templates/ZeeSel-Era16Feb2021-Zeev1/bg2017-dy03_ma1.txt']\n",
      "2707524 2707524\n",
      "[ 0.186005  0.879379  0.057112 -1.        0.085573]\n",
      "[34.930973 34.18858  23.264112 42.847454 40.976082]\n"
     ]
    }
   ],
   "source": [
    "samples = ['data2017', 'bg2017-dy']\n",
    "#samples = ['data2017']\n",
    "#ma, wgt = {}, {}\n",
    "ma, pt, eta, pu = {}, {}, {}, {}\n",
    "eta_range = 'cntr'\n",
    "eta_range = 'mid'\n",
    "eta_range = 'fwd'\n",
    "eta_range = None\n",
    "\n",
    "#fma.write('%f:%f:%f:%f\\n'%(tree.ma[idx], tree.phoCalibEt[idx], tree.phoEta[idx], pu_))\n",
    "\n",
    "for s in samples:\n",
    "    #in_files = glob.glob('Templates/aod/%s*_ma1.txt'%s)\n",
    "    #in_files = glob.glob('Templates/ZeeSel-Era16Feb2021-Zeev1/%s*_ma1.txt'%s)\n",
    "    if 'data' in s:\n",
    "        #in_files = glob.glob('Templates/ZeeSel-Era16Feb2021-Zeev1/%s-Run2017B_ma1.txt'%s)\n",
    "        in_files = glob.glob('Templates/ZeeSel-Era16Feb2021-Zeev1/%s-Run2017*_ma1.txt'%s)\n",
    "    else:\n",
    "        #in_files = glob.glob('Templates/ZeeSel-Era16Feb2021-Zeev1/data2017-Run2017F_ma1.txt')\n",
    "        in_files = glob.glob('Templates/ZeeSel-Era16Feb2021-Zeev1/%s*_ma1.txt'%s)\n",
    "    print(in_files)\n",
    "    \n",
    "    #'''\n",
    "    ma[s], pt[s], eta[s], pu[s] = [], [], [], []\n",
    "    for in_file in in_files:\n",
    "        f = open(in_file, \"r\")\n",
    "        for i,l in enumerate(f):\n",
    "            ma_, pt_, eta_, pu_ = l.replace('\\n','').split(':')\n",
    "            eta_ = float(eta_)\n",
    "            if eta_range == 'cntr':\n",
    "                if abs(eta_) > 0.5: continue\n",
    "            elif eta_range == 'mid':\n",
    "                if abs(eta_) <= 0.5 or abs(eta_) > 1.00: continue\n",
    "            elif eta_range == 'fwd':\n",
    "                if abs(eta_) <= 1.0 or abs(eta_) > 1.44: continue\n",
    "            ma[s].append(float(ma_))\n",
    "            pt[s].append(float(pt_))\n",
    "            eta[s].append(float(eta_))\n",
    "            pu[s].append(float(pu_))\n",
    "            #if i >= 100000: break\n",
    "            #if len(ma[s]) >= 100000: break\n",
    "\n",
    "    ma[s] = np.array(ma[s])\n",
    "    pt[s] = np.array(pt[s])\n",
    "    eta[s] = np.array(eta[s])\n",
    "    pu[s] = np.array(pu[s])\n",
    "    \n",
    "    #pt[s] = pt[s][ma[s] > -0.2]\n",
    "    #ma[s] = ma[s][ma[s] > -0.2]\n",
    "    assert len(ma[s] == pt[s])\n",
    "    print(len(ma[s]), len(pt[s]))\n",
    "    print(ma[s][:5])\n",
    "    print(pt[s][:5])\n",
    "    #'''"
   ]
  },
  {
   "cell_type": "code",
   "execution_count": 5,
   "metadata": {},
   "outputs": [
    {
     "data": {
      "image/png": "[encoded data removed]",
      "text/plain": [
       "<Figure size 432x288 with 1 Axes>"
      ]
     },
     "metadata": {
      "needs_background": "light"
     },
     "output_type": "display_data"
    },
    {
     "data": {
      "image/png": "[encoded data removed]",
      "text/plain": [
       "<Figure size 432x288 with 1 Axes>"
      ]
     },
     "metadata": {
      "needs_background": "light"
     },
     "output_type": "display_data"
    },
    {
     "data": {
      "image/png": "[encoded data removed]",
      "text/plain": [
       "<Figure size 432x288 with 1 Axes>"
      ]
     },
     "metadata": {
      "needs_background": "light"
     },
     "output_type": "display_data"
    },
    {
     "name": "stdout",
     "output_type": "stream",
     "text": [
      "55.222984 99.996902\n"
     ]
    }
   ],
   "source": [
    "plt.hist(pt['data2017'], histtype='step', bins=50, range=(0., 200.), weights=np.ones_like(pt['data2017'])/len(pt['data2017']))\n",
    "plt.hist(pt['bg2017-dy'], histtype='step', bins=50, range=(0., 200.), weights=np.ones_like(pt['bg2017-dy'])/len(pt['bg2017-dy']))\n",
    "plt.show()\n",
    "\n",
    "plt.hist(eta['data2017'], histtype='step', bins=50, range=(-2.6, 2.6), weights=np.ones_like(eta['data2017'])/len(eta['data2017']))\n",
    "plt.hist(eta['bg2017-dy'], histtype='step', bins=50, range=(-2.6, 2.6), weights=np.ones_like(eta['bg2017-dy'])/len(eta['bg2017-dy']))\n",
    "plt.show()\n",
    "\n",
    "plt.hist(pu['data2017'], histtype='step', bins=50, range=(0., 80.), weights=np.ones_like(pu['data2017'])/len(pu['data2017']))\n",
    "plt.hist(pu['bg2017-dy'], histtype='step', bins=50, range=(0., 80.), weights=np.ones_like(pu['bg2017-dy'])/len(pu['bg2017-dy']))\n",
    "plt.show()\n",
    "\n",
    "print(pu['data2017'].max(), pu['bg2017-dy'].max())"
   ]
  },
  {
   "cell_type": "code",
   "execution_count": 6,
   "metadata": {},
   "outputs": [
    {
     "data": {
      "text/plain": [
       "array([  10,   20,   22,   24,   26,   28,   30,   32,   34,   36,   38,\n",
       "         40,   42,   44,   46,   48,   50,   52,   54,   56,   58,   60,\n",
       "         62,   64,   66,   68,   70,   72,   74,   76,   78,   80,   82,\n",
       "         84,   86,   88,   90,  100,  110,  120,  130,  140,  160,  180,\n",
       "       1500])"
      ]
     },
     "execution_count": 6,
     "metadata": {},
     "output_type": "execute_result"
    }
   ],
   "source": [
    "pt_bins_ = {}\n",
    "pt_bins_[0] = [10]\n",
    "pt_bins_[1] = np.arange(20, 90, 2)\n",
    "pt_bins_[2] = np.arange(90, 140, 10)\n",
    "pt_bins_[3] = np.arange(140, 180, 20)\n",
    "pt_bins_[4] = np.arange(180, 1500+1320, 1320)\n",
    "#pt_bins_[4] = np.arange(500, 1500+1000, 1000)\n",
    "pt_bins = [pt_bins_[i] for i in pt_bins_]\n",
    "pt_bins = np.concatenate(pt_bins).flatten()\n",
    "pt_bins\n",
    "#print(pt['data2017'].max())"
   ]
  },
  {
   "cell_type": "code",
   "execution_count": 7,
   "metadata": {},
   "outputs": [
    {
     "data": {
      "image/png": "[encoded data removed]",
      "text/plain": [
       "<IPython.core.display.Image object>"
      ]
     },
     "metadata": {},
     "output_type": "display_data"
    },
    {
     "data": {
      "image/png": "[encoded data removed]",
      "text/plain": [
       "<IPython.core.display.Image object>"
      ]
     },
     "metadata": {},
     "output_type": "display_data"
    },
    {
     "data": {
      "image/png": "[encoded data removed]",
      "text/plain": [
       "<IPython.core.display.Image object>"
      ]
     },
     "metadata": {},
     "output_type": "display_data"
    }
   ],
   "source": [
    "#'''\n",
    "h, c = {}, {}\n",
    "\n",
    "eta_edge = 2.4\n",
    "#pt_lo, pt_hi = 20., 200.\n",
    "\n",
    "s = 'data2017'\n",
    "k = 'etavpt'+s\n",
    "#h[k] = ROOT.TH2F(k, k, 50, pt_lo, pt_hi, 48, -eta_edge, eta_edge)\n",
    "h[k] = ROOT.TH2F(k, k, len(pt_bins)-1, array('d', pt_bins), 48, -eta_edge, eta_edge)\n",
    "c[k] = ROOT.TCanvas(k, k, 400, 400)\n",
    "i = 0\n",
    "for p,e in zip(pt[s], eta[s]):\n",
    "    h[k].Fill(p, e)\n",
    "    i += 1\n",
    "    #if i > 10000: break\n",
    "h[k].Draw('COL Z')\n",
    "c[k].Draw()\n",
    "\n",
    "s = 'bg2017-dy'\n",
    "k = 'etavpt'+s\n",
    "#h[k] = ROOT.TH2F(k, k, 50, pt_lo, pt_hi, 48, -eta_edge, eta_edge)\n",
    "h[k] = ROOT.TH2F(k, k, len(pt_bins)-1, array('d', pt_bins), 48, -eta_edge, eta_edge)\n",
    "c[k] = ROOT.TCanvas(k, k, 400, 400)\n",
    "i = 0\n",
    "for p,e in zip(pt[s], eta[s]):\n",
    "    h[k].Fill(p, e)\n",
    "    i += 1\n",
    "    #if i > 10000: break\n",
    "h[k].Draw('COL Z')\n",
    "c[k].Draw()\n",
    "#'''\n",
    "#'''\n",
    "k = 'etavptdataomc'\n",
    "#h[k] = ROOT.TH2F(k, k, len(pt_bins)-1, array('d', pt_bins), 48, -eta_edge, eta_edge)\n",
    "c[k] = ROOT.TCanvas(k, k, 400, 400)\n",
    "h[k] = h['etavptdata2017'].Clone()\n",
    "h[k].SetName(k)\n",
    "h[k].SetTitle(k)\n",
    "h[k].Divide(h['etavptbg2017-dy'])\n",
    "h[k].GetXaxis().SetRangeUser(10., 100.)\n",
    "h[k].Draw('COL Z')\n",
    "c[k].Draw()\n",
    "#'''"
   ]
  },
  {
   "cell_type": "code",
   "execution_count": 8,
   "metadata": {},
   "outputs": [],
   "source": [
    "def get_ptetawgt(pt_, eta_, h, ceil=10.):\n",
    "\n",
    "    ipt_  = h.GetXaxis().FindBin(pt_)\n",
    "    ieta_ = h.GetYaxis().FindBin(eta_)\n",
    "    wgt = h.GetBinContent(ipt_, ieta_)\n",
    "    if wgt > ceil:\n",
    "        wgt = ceil\n",
    "\n",
    "    return wgt"
   ]
  },
  {
   "cell_type": "code",
   "execution_count": 9,
   "metadata": {},
   "outputs": [
    {
     "data": {
      "image/png": "[encoded data removed]",
      "text/plain": [
       "<IPython.core.display.Image object>"
      ]
     },
     "metadata": {},
     "output_type": "display_data"
    },
    {
     "data": {
      "image/png": "[encoded data removed]",
      "text/plain": [
       "<IPython.core.display.Image object>"
      ]
     },
     "metadata": {},
     "output_type": "display_data"
    }
   ],
   "source": [
    "s = 'bg2017-dy'\n",
    "k = 'etavpt'+s+'corr'\n",
    "#h[k] = ROOT.TH2F(k, k, 50, pt_lo, pt_hi, 48, -eta_edge, eta_edge)\n",
    "h[k] = ROOT.TH2F(k, k, len(pt_bins)-1, array('d', pt_bins), 48, -eta_edge, eta_edge)\n",
    "c[k] = ROOT.TCanvas(k, k, 400, 400)\n",
    "i = 0\n",
    "for p,e in zip(pt[s], eta[s]):\n",
    "    #h[k].Fill(p, e)\n",
    "    h[k].Fill(p, e, get_ptetawgt(p,e,h['etavptdataomc']))\n",
    "    i += 1\n",
    "    #if i > 10000: break\n",
    "h[k].Draw('COL Z')\n",
    "c[k].Draw()\n",
    "#'''\n",
    "#'''\n",
    "k = 'etavptdataomc'+'corr'\n",
    "#h[k] = ROOT.TH2F(k, k, len(pt_bins)-1, array('d', pt_bins), 48, -eta_edge, eta_edge)\n",
    "c[k] = ROOT.TCanvas(k, k, 400, 400)\n",
    "h[k] = h['etavptdata2017'].Clone()\n",
    "h[k].SetName(k)\n",
    "h[k].SetTitle(k)\n",
    "h[k].Divide(h['etavptbg2017-dy'+'corr'])\n",
    "h[k].GetXaxis().SetRangeUser(10., 100.)\n",
    "h[k].Draw('COL Z')\n",
    "c[k].Draw()\n",
    "#'''"
   ]
  },
  {
   "cell_type": "code",
   "execution_count": 10,
   "metadata": {},
   "outputs": [
    {
     "name": "stdout",
     "output_type": "stream",
     "text": [
      "16946343.9353\n",
      "150.078155518\n",
      "16924188.0\n",
      "135.0\n"
     ]
    },
    {
     "data": {
      "image/png": "[encoded data removed]",
      "text/plain": [
       "<IPython.core.display.Image object>"
      ]
     },
     "metadata": {},
     "output_type": "display_data"
    }
   ],
   "source": [
    "#h, c = {}, {}\n",
    "\n",
    "#dM = 25\n",
    "dM = 10\n",
    "#dM = 100\n",
    "ma_bins = np.arange(0,1400+dM,dM)-200\n",
    "#ma_bins = np.arange(150,350+dM,dM)-200\n",
    "#ma_bins = list(range(0,1200+dM,dM))\n",
    "#ma_bins = [-400]+ma_bins\n",
    "#ma_bins = [-400, -200]+ma_bins\n",
    "ma_bins = [float(m)/1.e3 for m in ma_bins]\n",
    "#print(len(ma_bins))\n",
    "n_ma_bins = len(ma_bins)-1\n",
    "ma_bins = array('d', ma_bins)\n",
    "#print(ma_bins)\n",
    "\n",
    "#k = 'bg2017-dy'\n",
    "kmc = 'bg2017-dy'\n",
    "k = kmc+'nopucorr'\n",
    "#h[k] = ROOT.TH1F(k, k, 48, 0., 1.2)\n",
    "#h[k] = ROOT.TH1F(k, k, 56, -0.2, 1.2)\n",
    "h[k] = ROOT.TH1F(k, k, n_ma_bins, ma_bins)\n",
    "c[k] = ROOT.TCanvas(k, k, 600, 600)\n",
    "kpu = k+'pu'\n",
    "h[kpu] = ROOT.TH1F(kpu, kpu, 20, 0., 100.)\n",
    "for i,m in enumerate(ma[kmc]):\n",
    "    #if i+1 >= 100000: break\n",
    "    #m = (1./0.97)*(m - 0.006)\n",
    "    #m = 1.036*m - 0.005\n",
    "    #m = 0.946*m\n",
    "    #m = 1.01*np.random.normal(m, 0.012) # with correction\n",
    "    #h[k].Fill(m, wgt['DYToEE'][i])\n",
    "    #h[k].Fill(m)\n",
    "    wgt = get_ptetawgt(pt[kmc][i], eta[kmc][i], h['etavptdataomc'])\n",
    "    h[k].Fill(m, wgt)\n",
    "    h[kpu].Fill(pu[kmc][i], wgt)\n",
    "h[k].Draw(\"hist\")\n",
    "c[k].cd()\n",
    "c[k].Draw()\n",
    "print(h[k].Integral())\n",
    "print(h[k].GetBinContent(1))\n",
    "\n",
    "k = 'data2017'\n",
    "kdata = k\n",
    "#h[k] = ROOT.TH1F(k, k, 48, 0., 1.2)\n",
    "#h[k] = ROOT.TH1F(k, k, 56, -0.2, 1.2)\n",
    "h[k] = ROOT.TH1F(k, k, n_ma_bins, ma_bins)\n",
    "#c[k] = ROOT.TCanvas(k, k, 600, 400)\n",
    "kpu = k+'pu'\n",
    "h[kpu] = ROOT.TH1F(kpu, kpu, 20, 0., 100.)\n",
    "for i,m in enumerate(ma[k]):\n",
    "    #if i+1 >= 100000: break\n",
    "    h[k].Fill(m)\n",
    "    h[kpu].Fill(pu[k][i])\n",
    "#h[k].Draw(\"hist\")\n",
    "h[k].Draw(\"hist same\")\n",
    "#c[k].Draw()\n",
    "print(h[k].Integral())\n",
    "print(h[k].GetBinContent(1))"
   ]
  },
  {
   "cell_type": "code",
   "execution_count": 11,
   "metadata": {},
   "outputs": [
    {
     "name": "stdout",
     "output_type": "stream",
     "text": [
      "579843.0\n",
      "25\n",
      "21\n",
      "array('d', [-0.2, -0.19, -0.18, -0.17, -0.16, -0.15, -0.14, -0.13, -0.12, -0.11, -0.1, -0.09, -0.08, -0.07, -0.06, -0.05, -0.04, -0.03, -0.02, -0.01, 0.0, 0.01, 0.02, 0.03, 0.04, 0.05, 0.06, 0.07, 0.08, 0.09, 0.1, 0.11, 0.12, 0.13, 0.14, 0.15, 0.16, 0.17, 0.18, 0.19, 0.2, 0.21, 0.22, 0.23, 0.24, 0.25, 0.26, 0.27, 0.28, 0.29, 0.3, 0.31, 0.32, 0.33, 0.34, 0.35, 0.36, 0.37, 0.38, 0.39, 0.4, 0.41, 0.42, 0.43, 0.44, 0.45, 0.46, 0.47, 0.48, 0.49, 0.5, 0.51, 0.52, 0.53, 0.54, 0.55, 0.56, 0.57, 0.58, 0.59, 0.6, 0.61, 0.62, 0.63, 0.64, 0.65, 0.66, 0.67, 0.68, 0.69, 0.7, 0.71, 0.72, 0.73, 0.74, 0.75, 0.76, 0.77, 0.78, 0.79, 0.8, 0.81, 0.82, 0.83, 0.84, 0.85, 0.86, 0.87, 0.88, 0.89, 0.9, 0.91, 0.92, 0.93, 0.94, 0.95, 0.96, 0.97, 0.98, 0.99, 1.0, 1.01, 1.02, 1.03, 1.04, 1.05, 1.06, 1.07, 1.08, 1.09, 1.1, 1.11, 1.12, 1.13, 1.14, 1.15, 1.16, 1.17, 1.18, 1.19, 1.2])\n",
      "0.0\n",
      "0.04\n",
      "0.08\n",
      "array('d', [0.0, 0.01, 0.02, 0.03, 0.04, 0.05, 0.06, 0.07, 0.08, 0.09])\n"
     ]
    }
   ],
   "source": [
    "print(h[kdata].GetMaximum())\n",
    "print(h[kdata].GetMaximumBin())\n",
    "print(h[kdata].GetXaxis().FindBin(0.))\n",
    "print(ma_bins)\n",
    "print(ma_bins[21-1])\n",
    "print(ma_bins[25-1])\n",
    "print(ma_bins[25+4-1])\n",
    "print(ma_bins[20:30])"
   ]
  },
  {
   "cell_type": "code",
   "execution_count": 12,
   "metadata": {},
   "outputs": [
    {
     "data": {
      "image/png": "[encoded data removed]",
      "text/plain": [
       "<IPython.core.display.Image object>"
      ]
     },
     "metadata": {},
     "output_type": "display_data"
    },
    {
     "data": {
      "image/png": "[encoded data removed]",
      "text/plain": [
       "<IPython.core.display.Image object>"
      ]
     },
     "metadata": {},
     "output_type": "display_data"
    },
    {
     "data": {
      "image/png": "[encoded data removed]",
      "text/plain": [
       "<IPython.core.display.Image object>"
      ]
     },
     "metadata": {},
     "output_type": "display_data"
    }
   ],
   "source": [
    "k = 'bg2017-dy'+'nopucorr'\n",
    "kpu = k+'pu'\n",
    "c[kpu] = ROOT.TCanvas(kpu, kpu, 400, 400)\n",
    "h[kpu].Draw(\"hist\")\n",
    "c[kpu].Draw()\n",
    "\n",
    "k = 'data2017'\n",
    "kpu = k+'pu'\n",
    "c[kpu] = ROOT.TCanvas(kpu, kpu, 400, 400)\n",
    "h[kpu].Draw(\"hist\")\n",
    "c[kpu].Draw()\n",
    "\n",
    "k = 'pudataomc'\n",
    "c[k] = ROOT.TCanvas(k, k, 400, 400)\n",
    "h[k] = h['data2017pu'].Clone()\n",
    "h[k].SetName(k)\n",
    "h[k].SetTitle(k)\n",
    "h[k].Divide(h['bg2017-dy'+'nopucorr'+'pu'])\n",
    "h[k].Draw('hist')\n",
    "c[k].Draw()"
   ]
  },
  {
   "cell_type": "code",
   "execution_count": 13,
   "metadata": {},
   "outputs": [],
   "source": [
    "def get_puwgt(pu_, h):\n",
    "    ipu_ = h.GetXaxis().FindBin(pu_)\n",
    "    wgt = h.GetBinContent(ipu_)\n",
    "    return wgt"
   ]
  },
  {
   "cell_type": "code",
   "execution_count": 14,
   "metadata": {},
   "outputs": [
    {
     "name": "stdout",
     "output_type": "stream",
     "text": [
      "16957853.2831\n",
      "128.743988037\n"
     ]
    },
    {
     "data": {
      "image/png": "[encoded data removed]",
      "text/plain": [
       "<IPython.core.display.Image object>"
      ]
     },
     "metadata": {},
     "output_type": "display_data"
    }
   ],
   "source": [
    "k = 'bg2017-dy'\n",
    "scale_ = 1.#0.994\n",
    "smear_ = 0.#0.002 #GeV\n",
    "h[k] = ROOT.TH1F(k, k, n_ma_bins, ma_bins)\n",
    "c[k] = ROOT.TCanvas(k, k, 600, 600)\n",
    "for i,m in enumerate(ma[k]):\n",
    "    wgt = get_ptetawgt(pt[k][i], eta[k][i], h['etavptdataomc'])*get_puwgt(pu[k][i], h['pudataomc'])\n",
    "    h[k].Fill(m, wgt)\n",
    "    #h[k].Fill(scale_*np.random.normal(m, smear_), wgt)\n",
    "h[k].Draw(\"hist\")\n",
    "c[k].cd()\n",
    "c[k].Draw()\n",
    "print(h[k].Integral())\n",
    "print(h[k].GetBinContent(1))"
   ]
  },
  {
   "cell_type": "code",
   "execution_count": 125,
   "metadata": {
    "scrolled": false
   },
   "outputs": [
    {
     "name": "stdout",
     "output_type": "stream",
     "text": [
      "chi2 / ndf: 3440.936347 / 19.000000 = 181.101913\n",
      "chi2 / ndf: 279775459.732943 / 34.000000 = 8228689.992145\n"
     ]
    },
    {
     "data": {
      "text/plain": [
       "\"\\nkdata:\\nchi2 / ndf: 22004.949210 / 19.000000 = 1158.155222\\nchi2 / ndf: 242491990.355582 / 34.000000 = 7132117.363399\\n'\\n NO.   NAME      VALUE            ERROR          SIZE      DERIVATIVE \\n   1  Constant     8.94177e+04   2.95123e-01  -5.58182e-02   7.04075e-05\\n   2  Mean         2.92373e-01   5.02394e-07   5.78156e-08  -9.58501e+01\\n   3  Sigma        1.26809e-01 \\n'\\n FCN=10586.4 FROM MINOS     STATUS=SUCCESSFUL     20 CALLS         224 TOTAL\\n                     EDM=6.61525e-10    STRATEGY= 1      ERROR MATRIX ACCURATE \\n  EXT PARAMETER                                   STEP         FIRST   \\n  NO.   NAME      VALUE            ERROR          SIZE      DERIVATIVE \\n   1  Constant     5.69722e+05   2.36604e+02   2.90534e-01  -6.34418e-09\\n   2  Mean         4.73283e-02   8.04323e-05   5.93537e-07   4.17020e-03\\n   3  Sigma        9.95631e-02   9.46228e-05   9.46228e-05   1.04463e-02\\n                               ERR DEF= 0.5\\n FCN=2.42492e+08 FROM MIGRAD    STATUS=CONVERGED     378 CALLS         379 TOTAL\\n                     EDM=7.47237e-09    STRATEGY= 1  ERROR MATRIX UNCERTAINTY   1.2 per cent\\n  EXT PARAMETER                                   STEP         FIRST   \\n  NO.   NAME      VALUE            ERROR          SIZE      DERIVATIVE \\n   1  bg-mu        2.51191e-01   4.67374e-07   2.55257e-09   9.09406e+00\\n   2  bg-sigma     6.20752e-02   3.30110e-07   1.00961e-08  -2.03028e+00\\n   3  bg-cons      6.00000e+05   4.10640e-04  -1.09135e-07** at limit **\\n   4  sg-cons      5.74350e+05   3.42650e-01   7.83497e-09  -1.56524e+01\\n   5  sg-mu        4.57422e-02   1.97653e-07   1.56444e-09  -4.77807e+01\\n   6  sg-sigma     9.45799e-02   1.32478e-07  -9.39211e-09   2.73023e+00\\n\""
      ]
     },
     "execution_count": 125,
     "metadata": {},
     "output_type": "execute_result"
    },
    {
     "name": "stdout",
     "output_type": "stream",
     "text": [
      " FCN=14772.6 FROM MINOS     STATUS=SUCCESSFUL     20 CALLS         197 TOTAL\n",
      "                     EDM=8.91223e-07    STRATEGY= 1      ERROR MATRIX ACCURATE \n",
      "  EXT PARAMETER                                   STEP         FIRST   \n",
      "  NO.   NAME      VALUE            ERROR          SIZE      DERIVATIVE \n",
      "   1  Constant     5.94126e+05   2.43328e+02   3.55085e-01  -7.24246e-09\n",
      "   2  Mean         4.70145e-02   7.20488e-05   6.15747e-07   4.70343e-03\n",
      "   3  Sigma        9.50440e-02   8.21365e-05   8.21365e-05   5.26239e-03\n",
      "                               ERR DEF= 0.5\n",
      " FCN=2.79775e+08 FROM MIGRAD    STATUS=CONVERGED     416 CALLS         417 TOTAL\n",
      "                     EDM=4.59301e-07    STRATEGY= 1  ERROR MATRIX UNCERTAINTY   1.2 per cent\n",
      "  EXT PARAMETER                                   STEP         FIRST   \n",
      "  NO.   NAME      VALUE            ERROR          SIZE      DERIVATIVE \n",
      "   1  bg-mu        2.39188e-01   4.43339e-07   4.55473e-09   9.79366e+01\n",
      "   2  bg-sigma     5.97502e-02   3.05735e-07  -1.27067e-08  -1.46451e+01\n",
      "   3  bg-cons      6.00000e+05   5.09404e-04  -2.68061e-08** at limit **\n",
      "   4  sg-cons      5.92340e+05   3.57619e-01   3.68680e-08  -1.13145e+02\n",
      "   5  sg-mu        4.60391e-02   1.98106e-07   1.18175e-09  -2.40943e+02\n",
      "   6  sg-sigma     9.31508e-02   1.28976e-07  -5.38009e-09  -8.94989e+00\n"
     ]
    },
    {
     "name": "stderr",
     "output_type": "stream",
     "text": [
      "Warning in <TCanvas::Constructor>: Deleting canvas with same name: res\n",
      "Info in <ROOT::Math::ParameterSettings>: lower/upper bounds outside current parameter value. The value will be set to (low+up)/2 \n",
      "Info in <ROOT::Math::ParameterSettings>: lower/upper bounds outside current parameter value. The value will be set to (low+up)/2 \n",
      "Info in <ROOT::Math::ParameterSettings>: lower/upper bounds outside current parameter value. The value will be set to (low+up)/2 \n",
      "Info in <ROOT::Math::ParameterSettings>: lower/upper bounds outside current parameter value. The value will be set to (low+up)/2 \n",
      "Info in <ROOT::Math::ParameterSettings>: lower/upper bounds outside current parameter value. The value will be set to (low+up)/2 \n"
     ]
    },
    {
     "data": {
      "image/png": "[encoded data removed]",
      "text/plain": [
       "<IPython.core.display.Image object>"
      ]
     },
     "metadata": {},
     "output_type": "display_data"
    }
   ],
   "source": [
    "from array import array\n",
    "#'''\n",
    "k = kdata\n",
    "k = kmc\n",
    "sg = ROOT.TF1(\"sg\",\"gaus\",-0.1, 0.4)\n",
    "sg.SetParameter(1,0.08)\n",
    "sg.SetParameter(2,0.5)\n",
    "sg.SetParLimits(1,0.,0.1)\n",
    "sg.SetParLimits(2,0.,0.5)\n",
    "sg.SetLineColor(2)\n",
    "h[k].Fit('sg', 'LLIEMNS', '', -0.1, 0.12)\n",
    "#sg.Draw('same')\n",
    "chi2 = sg.GetChisquare()\n",
    "ndof = sg.GetNDF()\n",
    "pval = sg.GetProb()\n",
    "print('chi2 / ndf: %f / %f = %f'%(chi2, ndof, chi2/ndof))\n",
    "params_sg = array('d',[0.,0.,0.])\n",
    "sg.GetParameters(params_sg)\n",
    "#'''\n",
    "\n",
    "#'''\n",
    "\n",
    "kres = 'res'\n",
    "c[kres] = ROOT.TCanvas(kres, kres, 400, 400)\n",
    "c[kres].SetLeftMargin(1.8)\n",
    "h[kres] = h[k].Clone()\n",
    "h[kres].SetName(kres)\n",
    "h[kres].SetTitle(kres)\n",
    "'''\n",
    "h[kres].Reset()\n",
    "for ib in range(h[kmc].GetNbinsX()+1):\n",
    "    res_ = h[kmc].GetBinContent(ib) - sg.Eval(h[kmc].GetBinCenter(ib))\n",
    "    h[kres].SetBinContent(ib, res_)\n",
    "    #print(h[kmc].GetBinCenter(ib), h[kmc].GetBinContent(ib), sg.Eval(h[kmc].GetBinCenter(ib)), res_, h[kres].GetBinContent(ib))\n",
    "    #print(res_)\n",
    "'''\n",
    "h[kres].GetXaxis().SetRangeUser(0.,1.2)\n",
    "h[kres].Draw(\"hist\")\n",
    "\n",
    "def log_norm(x, par):\n",
    "    \n",
    "    #log-normal\n",
    "    #arg2 = (ROOT.TMath.Log(x[0]-par[3]) - par[1])/par[2] if par[2] != 0. else 0.\n",
    "    #arg2 = (ROOT.TMath.Log((x[0]-par[3])/par[1]))/par[2] if par[2] != 0. and par[1] != 0 else 0.\n",
    "    #bgval = par[0]*ROOT.TMath.Exp(-0.5*arg2*arg2)/(x[0]-par[3]) if x[0] != 0 else 0.\n",
    "    \n",
    "    #arg2 = (x[0] - par[1])/par[2] if par[2] != 0. else 0.\n",
    "    #bgval = par[0]*ROOT.TMath.Exp(-0.5*arg2*arg2)*ROOT.TMath.Exp(par[3]*(x[0]-par[4]))\n",
    "    bgval = par[2]*ROOT.TMath.Landau(x[0], par[0], par[1],0)\n",
    "    \n",
    "    arg = (x[0] - par[4])/par[5] if par[5] != 0. else 0.\n",
    "    sgval = par[3]*ROOT.TMath.Exp(-0.5*arg*arg)\n",
    "    #fitval = sgval\n",
    "    #fitval = bgval\n",
    "    fitval = bgval+sgval\n",
    "    return fitval\n",
    "\n",
    "\n",
    "bg = ROOT.TF1(\"bg\", log_norm, -0.2, 0.4, 6)\n",
    "#bg = ROOT.TF1(\"bg\", \"[2]*TMath::Landau(x,[0],[1],0)\", 0., 1.2)\n",
    "#bg = ROOT.TF1(\"bg\", \"gaus(0)\", 0., 1.2)\n",
    "#bg.FixParameter(0, 3.e3)\n",
    "#bg.FixParameter(1, 2.)\n",
    "#bg.FixParameter(2, 0.035)\n",
    "#bg.FixParameter(3, -7.2)\n",
    "\n",
    "#bg.FixParameter(0, 2.e2)\n",
    "#bg.FixParameter(1, .8)\n",
    "#bg.FixParameter(2, 0.02)\n",
    "#bg.FixParameter(3, -0.7)\n",
    "\n",
    "#bg.FixParameter(0, 0.25)\n",
    "#bg.FixParameter(1, 6.e-2)\n",
    "bg.SetParLimits(0,0.15,0.3)\n",
    "bg.SetParLimits(1,4.e-2,7.e-2)\n",
    "bg.SetParLimits(2,5.e5,6.e5)\n",
    "#bg.FixParameter(2, 10.)\n",
    "#bg.FixParameter(3, 0.)\n",
    "\n",
    "#bg.SetParLimits(0,8.e3,9.e5)\n",
    "#bg.SetParLimits(1,0.2,0.4)\n",
    "#bg.SetParLimits(2,0.1,.2)\n",
    "#bg.FixParameter(3, 3.e1)\n",
    "#bg.FixParameter(4, 0.2)\n",
    "\n",
    "bg.SetParLimits(3, 5.e5, 6.e5)\n",
    "bg.SetParLimits(4, 0., 0.2)\n",
    "bg.SetParLimits(5, 0.08, 0.12)\n",
    "bg.SetParNames(\"bg-mu\",\"bg-sigma\",\"bg-cons\", 'sg-cons', 'sg-mu', 'sg-sigma')\n",
    "h[kres].Fit('bg',\"W\",\"\", -0.05, 0.4)\n",
    "\n",
    "bg.SetLineColor(2)\n",
    "#bg.GetYaxis().SetRangeUser(0., 0.3)\n",
    "bg.Draw('same')\n",
    "chi2 = bg.GetChisquare()\n",
    "ndof = bg.GetNDF()\n",
    "pval = bg.GetProb()\n",
    "print('chi2 / ndf: %f / %f = %f'%(chi2, ndof, chi2/ndof))\n",
    "c[kres].Draw()\n",
    "#'''\n",
    "'''\n",
    "kdata:\n",
    "chi2 / ndf: 22004.949210 / 19.000000 = 1158.155222\n",
    "chi2 / ndf: 242491990.355582 / 34.000000 = 7132117.363399\n",
    " FCN=10586.4 FROM MINOS     STATUS=SUCCESSFUL     20 CALLS         224 TOTAL\n",
    "                     EDM=6.61525e-10    STRATEGY= 1      ERROR MATRIX ACCURATE \n",
    "  EXT PARAMETER                                   STEP         FIRST   \n",
    "  NO.   NAME      VALUE            ERROR          SIZE      DERIVATIVE \n",
    "   1  Constant     5.69722e+05   2.36604e+02   2.90534e-01  -6.34418e-09\n",
    "   2  Mean         4.73283e-02   8.04323e-05   5.93537e-07   4.17020e-03\n",
    "   3  Sigma        9.95631e-02   9.46228e-05   9.46228e-05   1.04463e-02\n",
    "                               ERR DEF= 0.5\n",
    " FCN=2.42492e+08 FROM MIGRAD    STATUS=CONVERGED     378 CALLS         379 TOTAL\n",
    "                     EDM=7.47237e-09    STRATEGY= 1  ERROR MATRIX UNCERTAINTY   1.2 per cent\n",
    "  EXT PARAMETER                                   STEP         FIRST   \n",
    "  NO.   NAME      VALUE            ERROR          SIZE      DERIVATIVE \n",
    "   1  bg-mu        2.51191e-01   4.67374e-07   2.55257e-09   9.09406e+00\n",
    "   2  bg-sigma     6.20752e-02   3.30110e-07   1.00961e-08  -2.03028e+00\n",
    "   3  bg-cons      6.00000e+05   4.10640e-04  -1.09135e-07** at limit **\n",
    "   4  sg-cons      5.74350e+05   3.42650e-01   7.83497e-09  -1.56524e+01\n",
    "   5  sg-mu        4.57422e-02   1.97653e-07   1.56444e-09  -4.77807e+01\n",
    "   6  sg-sigma     9.45799e-02   1.32478e-07  -9.39211e-09   2.73023e+00\n",
    "   \n",
    "kmc:\n",
    "chi2 / ndf: 3440.936347 / 19.000000 = 181.101913\n",
    "chi2 / ndf: 279775459.732943 / 34.000000 = 8228689.992145\n",
    " FCN=14772.6 FROM MINOS     STATUS=SUCCESSFUL     20 CALLS         197 TOTAL\n",
    "                     EDM=8.91223e-07    STRATEGY= 1      ERROR MATRIX ACCURATE \n",
    "  EXT PARAMETER                                   STEP         FIRST   \n",
    "  NO.   NAME      VALUE            ERROR          SIZE      DERIVATIVE \n",
    "   1  Constant     5.94126e+05   2.43328e+02   3.55085e-01  -7.24246e-09\n",
    "   2  Mean         4.70145e-02   7.20488e-05   6.15747e-07   4.70343e-03\n",
    "   3  Sigma        9.50440e-02   8.21365e-05   8.21365e-05   5.26239e-03\n",
    "                               ERR DEF= 0.5\n",
    " FCN=2.79775e+08 FROM MIGRAD    STATUS=CONVERGED     416 CALLS         417 TOTAL\n",
    "                     EDM=4.59301e-07    STRATEGY= 1  ERROR MATRIX UNCERTAINTY   1.2 per cent\n",
    "  EXT PARAMETER                                   STEP         FIRST   \n",
    "  NO.   NAME      VALUE            ERROR          SIZE      DERIVATIVE \n",
    "   1  bg-mu        2.39188e-01   4.43339e-07   4.55473e-09   9.79366e+01\n",
    "   2  bg-sigma     5.97502e-02   3.05735e-07  -1.27067e-08  -1.46451e+01\n",
    "   3  bg-cons      6.00000e+05   5.09404e-04  -2.68061e-08** at limit **\n",
    "   4  sg-cons      5.92340e+05   3.57619e-01   3.68680e-08  -1.13145e+02\n",
    "   5  sg-mu        4.60391e-02   1.98106e-07   1.18175e-09  -2.40943e+02\n",
    "   6  sg-sigma     9.31508e-02   1.28976e-07  -5.38009e-09  -8.94989e+00\n",
    "'''"
   ]
  },
  {
   "cell_type": "code",
   "execution_count": 20,
   "metadata": {},
   "outputs": [
    {
     "name": "stdout",
     "output_type": "stream",
     "text": [
      "max: 0.0354646742344\n",
      "41.9 fb^{-1} (13 TeV)\n"
     ]
    },
    {
     "data": {
      "image/png": "[encoded data removed]",
      "text/plain": [
       "<IPython.core.display.Image object>"
      ]
     },
     "metadata": {},
     "output_type": "display_data"
    }
   ],
   "source": [
    "hc = {}\n",
    "\n",
    "do_trunc = True\n",
    "#do_trunc = False\n",
    "\n",
    "ROOT.gStyle.SetPadTickX(1)\n",
    "ROOT.gStyle.SetPadTickY(1)\n",
    "#change the CMS_lumi variables (see CMS_lumi.py)\n",
    "CMS_lumi.lumi_7TeV = \"4.8 fb^{-1}\"\n",
    "CMS_lumi.lumi_8TeV = \"18.3 fb^{-1}\"\n",
    "CMS_lumi.writeExtraText = 1\n",
    "CMS_lumi.extraText = \"Preliminary\"\n",
    "CMS_lumi.lumi_sqrtS = \"41.9 fb^{-1} (13 TeV)\" # used with iPeriod = 0, e.g. for simulation-only plots (default is an empty string)\n",
    "iPos = 11\n",
    "if( iPos==0 ): CMS_lumi.relPosX = 0.12\n",
    "iPeriod = 0\n",
    "\n",
    "err_style = 'E2'\n",
    "fill_style = 3002\n",
    "wd, ht = int(640*1), int(680*1)\n",
    "ROOT.TGaxis.fgMaxDigits = 3\n",
    "#ROOT.gStyle.SetErrorX(0)\n",
    "#ROOT.gStyle.SetOptStat(0)\n",
    "\n",
    "k = kdata\n",
    "c[k] = ROOT.TCanvas(\"c%s\"%k,\"c%s\"%k,wd,ht)\n",
    "\n",
    "pUp = ROOT.TPad(\"upperPad\", \"upperPad\",.005, .300, .995, .995) # (,,Double_t xlow, Double_t ylow, Double_t xup, Double_t yup,...)\n",
    "pDn = ROOT.TPad(\"lowerPad\", \"lowerPad\",.005, .005, .995, .300)\n",
    "pUp.Draw()\n",
    "pDn.Draw()\n",
    "pUp.SetMargin(13.e-02,3.e-02,2.e-02,9.e-02) # (Float_t left, Float_t right, Float_t bottom, Float_t top)\n",
    "pDn.SetMargin(13.e-02,3.e-02,36.e-02,2.e-02) # (Float_t left, Float_t right, Float_t bottom, Float_t top)\n",
    "\n",
    "pUp.cd()\n",
    "\n",
    "# dummy hist for drawing axes\n",
    "hdummy = h[k].Clone()\n",
    "hdummy.Reset()\n",
    "hdummy.SetName('dummy')\n",
    "hdummy = set_hist(hdummy, \"m_{e,pred} [GeV]\", \"N_{a}\", \"\")\n",
    "hdummy.GetYaxis().SetTitle('N_{e} / %d MeV'%dM)\n",
    "hdummy.GetXaxis().SetTitle('')\n",
    "hdummy.GetXaxis().SetLabelSize(0.)\n",
    "hdummy.GetYaxis().SetTitleOffset(0.9)\n",
    "hdummy.GetYaxis().SetTitleSize(0.07)\n",
    "hdummy.GetYaxis().SetLabelSize(0.06)\n",
    "hdummy.GetYaxis().SetMaxDigits(3)\n",
    "hdummy.SetLineColor(0)\n",
    "hdummy.Draw(\"hist\")\n",
    "\n",
    "# Plot MC\n",
    "k = kmc\n",
    "#if h[k].Integral() > 1.:\n",
    "#    h[k].Scale(1./h[k].Integral())\n",
    "if h[kdata].Integral() > 1.:\n",
    "    h[kdata].Scale(1./h[kdata].Integral())\n",
    "h[k].Scale(h[kdata].Integral()/h[kmc].Integral())\n",
    "print('max:',h[k].GetMaximum())\n",
    "# Plot fill\n",
    "hc[k] = h[k].Clone()\n",
    "hc[k].SetLineColor(3)\n",
    "hc[k].SetFillColor(3)\n",
    "hc[k].SetFillStyle(fill_style)\n",
    "hc[k].SetStats(0)\n",
    "hc[k].Draw(\"hist same\")\n",
    "# Plot uncertainty\n",
    "h[k].SetLineColor(9)\n",
    "h[k].SetFillColor(9)\n",
    "h[k].SetFillStyle(fill_style)\n",
    "h[k].SetStats(0)\n",
    "h[k].Draw(\"%s same\"%err_style)\n",
    "\n",
    "# Plot data\n",
    "k = kdata\n",
    "#if h[k].Integral() > 1.:\n",
    "#    h[k].Scale(1./h[k].Integral())\n",
    "hc[k] = h[k].Clone()\n",
    "hc[k].SetName(kdata+'errs')\n",
    "hc[k].SetFillStyle(0)\n",
    "hc[k].SetMarkerStyle(20)\n",
    "#hc[k].SetMarkerSize(0.85)\n",
    "hc[k].SetMarkerSize(0.7)\n",
    "hc[k].SetStats(0)\n",
    "hc[k].Draw(\"E same\")\n",
    "\n",
    "#if ymax_ is None and hc[k].GetBinContent(2) > 0.:\n",
    "ymax_lowbin = 1 if do_trunc else 2\n",
    "if dM == 100:\n",
    "    ymax = 6.e6\n",
    "elif dM == 10:\n",
    "    ymax = 6.e5\n",
    "else:\n",
    "    ymax = 1.3*max(np.max([hc[kdata].GetBinContent(ib) for ib in range(ymax_lowbin, hc[kdata].GetNbinsX()+2)]),\n",
    "                   np.max([hc[kmc].GetBinContent(ib) for ib in range(ymax_lowbin, hc[kmc].GetNbinsX()+2)]))\n",
    "#ymax = 6.e5 #dM=10\n",
    "ymax = 4.e4\n",
    "ymax = 1.2*h[kdata].GetMaximum()\n",
    "ymax = 8.e5\n",
    "ymax = 0.05\n",
    "#hdummy.GetYaxis().SetRangeUser(0.1, ymax)\n",
    "hdummy.GetYaxis().SetRangeUser(0., ymax)\n",
    "if do_trunc:\n",
    "    hdummy.GetXaxis().SetRangeUser(0., 1.2)\n",
    "else:\n",
    "    hdummy.GetXaxis().SetRangeUser(-0.2, 1.2)\n",
    "ROOT.gPad.RedrawAxis()\n",
    "\n",
    "l, l2, hatch = {}, {}, {}\n",
    "legend = {}\n",
    "\n",
    "hatch[k] = ROOT.TGraph(2, array('d',[0.,0.]), array('d',[0.,ymax]));\n",
    "hatch[k].SetLineColor(14)\n",
    "hatch[k].SetLineWidth(5001)\n",
    "#hatch[k].SetLineWidth(5)\n",
    "hatch[k].SetFillStyle(3004)\n",
    "#hatch[k].SetFillColor(14)\n",
    "hatch[k].SetFillColor(12)\n",
    "#ROOT.gStyle.SetHatchesLineWidth(2)\n",
    "hatch[k].Draw(\"same\")\n",
    "\n",
    "legend[k] = ROOT.TLegend(0.7,0.68,0.9,0.86) #(x1, y1, x2, y2)\n",
    "legend[k].AddEntry(kdata+'errs', \"Data\", \"lep\")\n",
    "legend[k].AddEntry(h[kmc].GetName(), \"MC\", \"f\")\n",
    "legend[k].SetBorderSize(0)\n",
    "legend[k].Draw(\"same\")\n",
    "\n",
    "CMS_lumi.CMS_lumi(pUp, iPeriod, iPos)\n",
    "\n",
    "##### Ratio plots on lower pad #####\n",
    "pDn.cd()\n",
    "pDn.SetTicky()\n",
    "pDn.SetGridy()\n",
    "#'''\n",
    "if do_trunc:\n",
    "    fUnity = ROOT.TF1(\"fUnity\",\"[0]\",0.,1.2)\n",
    "else:\n",
    "    fUnity = ROOT.TF1(\"fUnity\",\"[0]\",-0.2,1.2)\n",
    "fUnity.SetParameter( 0,1. )\n",
    "\n",
    "fUnity.GetXaxis().SetTitle(\"m_{e,pred} [GeV]\")\n",
    "fUnity.GetXaxis().SetTickLength(0.1)\n",
    "fUnity.GetXaxis().SetTitleOffset(1.05)\n",
    "fUnity.GetXaxis().SetTitleSize(0.16)\n",
    "fUnity.GetXaxis().SetLabelSize(0.14)\n",
    "#if not do_trunc:\n",
    "#    fUnity.GetXaxis().ChangeLabel(1,-1, 0,-1,-1,-1,\"\")\n",
    "#    fUnity.GetXaxis().ChangeLabel(2,-1,-1,-1,-1,-1,\"#font[22]{#gamma_{veto}}\")\n",
    "\n",
    "#dY = 0.199\n",
    "dY = 0.399\n",
    "#fUnity.GetYaxis().SetTitle(\"SB/SR\")\n",
    "fUnity.GetYaxis().SetTitle(\"Data/MC\")\n",
    "#fUnity.GetYaxis().SetRangeUser(1.-dY,1.+dY)\n",
    "fUnity.SetMaximum(1.+dY)\n",
    "fUnity.SetMinimum(1.-dY)\n",
    "fUnity.GetYaxis().SetNdivisions(305)\n",
    "fUnity.GetYaxis().SetTickLength(0.04)\n",
    "fUnity.GetYaxis().SetLabelFont(62)\n",
    "fUnity.GetYaxis().SetTitleFont(62)\n",
    "fUnity.GetYaxis().SetTitleOffset(.4)\n",
    "fUnity.GetYaxis().SetTitleSize(0.16)\n",
    "fUnity.GetYaxis().SetLabelSize(0.14)\n",
    "\n",
    "fUnity.SetLineColor(9)\n",
    "fUnity.SetLineWidth(1)\n",
    "fUnity.SetLineStyle(7)\n",
    "fUnity.SetTitle(\"\")\n",
    "fUnity.Draw()\n",
    "\n",
    "# Data error bands\n",
    "#k = kdata\n",
    "#kr = kdata+'err'\n",
    "# MC error bands\n",
    "k = kmc\n",
    "kr = kmc+'errs'\n",
    "h[kr] = ROOT.TGraphAsymmErrors()\n",
    "h[kr].SetName(kr)\n",
    "for i in range(h[k].GetNbinsX()-1):\n",
    "    ib = i+2\n",
    "    h[kr].SetPoint(i, h[k].GetBinCenter(ib), 1.)\n",
    "    h[kr].SetPointError(\n",
    "        i,\n",
    "        h[k].GetBinWidth(ib)/2.,\n",
    "        h[k].GetBinWidth(ib)/2.,\n",
    "        (h[k].GetBinError(ib)/h[k].GetBinContent(ib)),\n",
    "        (h[k].GetBinError(ib)/h[k].GetBinContent(ib)),\n",
    "        )\n",
    "#h[kr].SetFillColor(9)\n",
    "h[kr].SetFillColor(3)\n",
    "h[kr].SetFillStyle(3002)\n",
    "h[kr].Draw(\"E2 same\")\n",
    "\n",
    "# Data errors\n",
    "kr = 'dataomc'+'errs'\n",
    "h[kr] = h[kdata].Clone()\n",
    "h[kr].Reset()\n",
    "h[kr].SetName(kr)\n",
    "for ib in range(1, h[k].GetNbinsX()+1):\n",
    "    obs = h[kdata].GetBinContent(ib)\n",
    "    obs_err = h[kdata].GetBinError(ib)\n",
    "    bkg = h[kmc].GetBinContent(ib)\n",
    "    if bkg == 0.: continue\n",
    "    bkg_err = h[kmc].GetBinError(ib)\n",
    "    h[kr].SetBinContent(ib, obs/bkg)\n",
    "    h[kr].SetBinError(ib, obs_err/obs)\n",
    "#h[kr].SetLineColor(9)\n",
    "h[kr].SetStats(0)\n",
    "#h[kr].Divide(h[kmc])\n",
    "h[kr].SetMarkerStyle(20)\n",
    "#h[kr].SetMarkerSize(0.85)\n",
    "h[kr].SetMarkerSize(0.7)\n",
    "h[kr].SetMarkerColor(1)\n",
    "h[kr].SetLineColor(1) #9\n",
    "h[kr].Draw(\"ep same\")\n",
    "\n",
    "k = kr\n",
    "#l[k] = ROOT.TLine(0.135, 1.-dY, 0.135, 1.+dY) # x0,y0, x1,y1\n",
    "#l[k].SetLineColor(14)\n",
    "#l[k].SetLineStyle(7)\n",
    "#l[k].Draw(\"same\")\n",
    "\n",
    "#l2[k] = ROOT.TLine(0.55, 1.-dY, 0.55, 1.+dY) # x0,y0, x1,y1\n",
    "#l2[k].SetLineColor(14)\n",
    "#l2[k].SetLineStyle(7)\n",
    "#l2[k].Draw(\"same\")\n",
    "\n",
    "hatch[k] = ROOT.TGraph(2, array('d',[0.,0.]), array('d',[1.-dY,1.+dY]));\n",
    "hatch[k].SetLineColor(14)\n",
    "hatch[k].SetLineWidth(5001)\n",
    "hatch[k].SetFillStyle(3004)\n",
    "hatch[k].SetFillColor(14)\n",
    "hatch[k].Draw(\"same\")\n",
    "#'''\n",
    "\n",
    "k = kdata\n",
    "c[k].Draw()\n",
    "c[k].Update()\n",
    "#c[k].Print('Plots/%s_sb2srvsr_blind_%s.eps'%(samples, blind))\n",
    "#c[k].Print('Plots/%s_sb2srvsr_blind_%.eps'%(samples, blind))\n",
    "#samples_str = '_'.join(samples)\n",
    "#c[k].Print('Plots/Run2017_DYToEE_dataomc_blind_None_dataallma1o%dMeV_nocorr_noptrwgt.pdf'%dM)\n",
    "#c[k].Print('Plots/Run2017_DYToEE_dataomc_blind_None_dataallma1o%dMeV_nocorr_ptrwgt.pdf'%dM)\n",
    "#c[k].Print('Plots/Run2017_DYToEE_dataomc_blind_None_dataallma1o%dMeV_corr_ptrwgt.pdf'%dM)\n",
    "\n",
    "#draw_hist_1dmastacked()"
   ]
  },
  {
   "cell_type": "code",
   "execution_count": 8,
   "metadata": {},
   "outputs": [
    {
     "name": "stdout",
     "output_type": "stream",
     "text": [
      "13 TeV\n"
     ]
    },
    {
     "data": {
      "image/png": "[encoded data removed]",
      "text/plain": [
       "<IPython.core.display.Image object>"
      ]
     },
     "metadata": {},
     "output_type": "display_data"
    }
   ],
   "source": [
    "make_2dpdf = True\n",
    "\n",
    "plot_dir = 'Plots/massreg/draft1'\n",
    "print_pdf = False #True\n",
    "\n",
    "#change the CMS_lumi variables (see CMS_lumi.py)\n",
    "CMS_lumi.lumi_7TeV = \"4.8 fb^{-1}\"\n",
    "CMS_lumi.lumi_8TeV = \"18.3 fb^{-1}\"\n",
    "CMS_lumi.writeExtraText = 1\n",
    "CMS_lumi.extraText = \"Preliminary\"\n",
    "#CMS_lumi.lumi_sqrtS = \"41.9 fb^{-1} (13 TeV)\" # used with iPeriod = 0, e.g. for simulation-only plots (default is an empty string)\n",
    "CMS_lumi.lumi_sqrtS = \"13 TeV\" # used with iPeriod = 0, e.g. for simulation-only plots (default is an empty string)\n",
    "CMS_lumi.lumiTextSize = 0.6\n",
    "CMS_lumi.cmsTextSize = 0.75\n",
    "iPos = 0\n",
    "if( iPos==0 ): CMS_lumi.relPosX = 0.18\n",
    "iPeriod = 0\n",
    "\n",
    "wd, ht = int(440*1), int(400*1)\n",
    "k = 'hmEvPt'\n",
    "#'''\n",
    "c[k] = ROOT.TCanvas(\"c%s\"%k,\"c%s\"%k,wd,ht)\n",
    "#h[k] = ROOT.TH2F(k, k, 50, 20., 100., 48, 0., 1.2)\n",
    "h[k] = ROOT.TH2F(k, k, 35, 30., 100., 48, 0., 1.2)\n",
    "\n",
    "s = 'data2017'\n",
    "for m,p in zip(ma[s],pt[s]):\n",
    "    #print(m,p)\n",
    "    h[k].Fill(p, m)\n",
    "    #break\n",
    "#'''\n",
    "    \n",
    "c[k].cd()\n",
    "if make_2dpdf: h[k] = make_pdf(h[k])\n",
    "#h[k], c[k] = set_hist(h[k], c[k], \"p_{T,a} [GeV]\", \"m_{a,pred} [GeV]\", \"m_{a,pred} vs. p_{T,a}\")\n",
    "h[k] = set_hist(h[k], \"p_{T,e} [GeV]\", \"m_{e,pred} [GeV]\", \"m_{e,pred} vs. p_{T,e}\")\n",
    "ROOT.gPad.SetTopMargin(0.08)\n",
    "ROOT.gPad.SetBottomMargin(0.14)\n",
    "ROOT.gPad.SetLeftMargin(0.15)\n",
    "ROOT.gPad.SetRightMargin(0.19)\n",
    "ROOT.gStyle.SetPalette(55)#53\n",
    "h[k].SetTitle('')\n",
    "h[k].GetYaxis().SetTitleOffset(0.9)\n",
    "h[k].GetYaxis().SetTitleSize(0.07)\n",
    "h[k].GetZaxis().SetTitle('N_{e}')\n",
    "h[k].GetZaxis().SetTitleOffset(1.3)\n",
    "h[k].GetZaxis().SetTitleSize(0.05)\n",
    "h[k].GetZaxis().SetTitleFont(62)\n",
    "h[k].GetZaxis().SetLabelSize(0.04)\n",
    "h[k].GetZaxis().SetLabelFont(62)\n",
    "h[k].GetXaxis().SetTitleOffset(0.9)\n",
    "h[k].GetXaxis().SetTitleSize(0.06)\n",
    "if make_2dpdf:\n",
    "    #ROOT.gPad.SetLeftMargin(0.15)\n",
    "    #ROOT.gPad.SetRightMargin(0.2)\n",
    "    h[k].GetZaxis().SetTitle(\"p(m_{e}|p_{T,e})\")\n",
    "    #h[k].GetZaxis().SetTitleOffset(1.35)\n",
    "#else:\n",
    "#    h[k].SetMaximum(60.)\n",
    "h[k].SetMaximum(0.12)\n",
    "h[k].Draw(\"COL Z\")\n",
    "CMS_lumi.CMS_lumi(c[k], iPeriod, iPos)\n",
    "c[k].Draw()\n",
    "if make_2dpdf:\n",
    "    palette = h[k].GetListOfFunctions().FindObject(\"palette\")\n",
    "    palette.SetX1NDC(0.815)\n",
    "    palette.SetX2NDC(0.865)\n",
    "    palette.SetY2NDC(0.92)\n",
    "#palette[k] = h[k].GetListOfFunctions().FindObject(\"palette\")\n",
    "#palette[k].SetX1NDC(0.84)\n",
    "#palette[k].SetX2NDC(0.89)\n",
    "#palette[k].SetY1NDC(0.13)\n",
    "#palette[k].SetY2NDC(0.9)\n",
    "#c[k].Update()\n",
    "#if print_png: c[k].Print('%s/%sMeV.png'%(plot_dir, k))\n",
    "if print_pdf: c[k].Print('%s/%s.pdf'%(plot_dir, k))"
   ]
  },
  {
   "cell_type": "code",
   "execution_count": 9,
   "metadata": {},
   "outputs": [
    {
     "name": "stdout",
     "output_type": "stream",
     "text": [
      "13 TeV\n"
     ]
    },
    {
     "data": {
      "image/png": "[encoded data removed]",
      "text/plain": [
       "<IPython.core.display.Image object>"
      ]
     },
     "metadata": {},
     "output_type": "display_data"
    }
   ],
   "source": [
    "k = 'hmEvEta'\n",
    "c[k] = ROOT.TCanvas(\"c%s\"%k,\"c%s\"%k,wd,ht)\n",
    "h[k] = ROOT.TH2F(k, k, 48, -1.2, 1.2, 48, 0., 1.2)\n",
    "\n",
    "s = 'data2017'\n",
    "for m,e in zip(ma[s],eta[s]):\n",
    "    #print(m,p)\n",
    "    if m < 0: continue\n",
    "    h[k].Fill(e, m)\n",
    "    #break\n",
    "\n",
    "k = 'hmEvEta'\n",
    "c[k].cd()\n",
    "if make_2dpdf: h[k] = make_pdf(h[k])\n",
    "#h[k], c[k] = set_hist(h[k], c[k], \"#eta_{a}\", \"m_{a,pred} [GeV]\", \"m_{a,pred} vs. #eta_{a}\")\n",
    "h[k] = set_hist(h[k], \"#eta_{e}\", \"m_{e,pred} [GeV]\", \"m_{e,pred} vs. #eta_{e}\")\n",
    "ROOT.gPad.SetTopMargin(0.08)\n",
    "ROOT.gPad.SetBottomMargin(0.14)\n",
    "ROOT.gPad.SetLeftMargin(0.15)\n",
    "ROOT.gPad.SetRightMargin(0.19)\n",
    "ROOT.gStyle.SetPalette(55)#53\n",
    "h[k].SetTitle('')\n",
    "h[k].GetYaxis().SetTitleOffset(0.9)\n",
    "h[k].GetYaxis().SetTitleSize(0.07)\n",
    "h[k].GetZaxis().SetTitle('N_{e}')\n",
    "h[k].GetZaxis().SetTitleOffset(1.3)\n",
    "h[k].GetZaxis().SetTitleSize(0.05)\n",
    "h[k].GetZaxis().SetTitleFont(62)\n",
    "h[k].GetZaxis().SetLabelSize(0.04)\n",
    "h[k].GetZaxis().SetLabelFont(62)\n",
    "h[k].GetXaxis().SetTitleOffset(0.9)\n",
    "h[k].GetXaxis().SetTitleSize(0.06)\n",
    "#'''\n",
    "if make_2dpdf:\n",
    "    #ROOT.gPad.SetLeftMargin(0.15)\n",
    "    #ROOT.gPad.SetRightMargin(0.2)\n",
    "    h[k].GetZaxis().SetTitle(\"p(m_{e}|#eta_{e})\")\n",
    "    #h[k].GetZaxis().SetTitleOffset(1.35)\n",
    "#else:\n",
    "#    h[k].SetMaximum(60.)\n",
    "#'''\n",
    "h[k].Draw(\"COL Z\")\n",
    "CMS_lumi.CMS_lumi(c[k], iPeriod, iPos)\n",
    "c[k].Draw()\n",
    "if make_2dpdf:\n",
    "    palette = h[k].GetListOfFunctions().FindObject(\"palette\")\n",
    "    palette.SetX1NDC(0.815)\n",
    "    palette.SetX2NDC(0.865)\n",
    "    palette.SetY2NDC(0.92)\n",
    "#palette[k] = h[k].GetListOfFunctions().FindObject(\"palette\")\n",
    "#palette[k].SetX1NDC(0.84)\n",
    "#palette[k].SetX2NDC(0.89)\n",
    "#palette[k].SetY1NDC(0.12)\n",
    "#palette[k].SetY2NDC(0.9)\n",
    "#c[k].Update()\n",
    "#if print_png: c[k].Print('%s/%sMeV.png'%(plot_dir, k))\n",
    "if print_pdf: c[k].Print('%s/%s.pdf'%(plot_dir, k))"
   ]
  },
  {
   "cell_type": "code",
   "execution_count": 10,
   "metadata": {},
   "outputs": [
    {
     "name": "stdout",
     "output_type": "stream",
     "text": [
      "0.321095 55.222984\n",
      "hmEvPU\n",
      "13 TeV\n"
     ]
    },
    {
     "data": {
      "image/png": "[encoded data removed]",
      "text/plain": [
       "<Figure size 432x288 with 1 Axes>"
      ]
     },
     "metadata": {
      "needs_background": "light"
     },
     "output_type": "display_data"
    },
    {
     "data": {
      "image/png": "[encoded data removed]",
      "text/plain": [
       "<IPython.core.display.Image object>"
      ]
     },
     "metadata": {},
     "output_type": "display_data"
    }
   ],
   "source": [
    "k = 'hmEvPU'\n",
    "c[k] = ROOT.TCanvas(\"c%s\"%k,\"c%s\"%k,wd,ht)\n",
    "h[k] = ROOT.TH2F(k, k, 50, 15, 50, 48, 0., 1.2)\n",
    "\n",
    "s = 'data2017'\n",
    "print(np.min(pu[s][pu[s]>0.]), np.max(pu[s]))\n",
    "for m,pu_ in zip(ma[s],pu[s]):\n",
    "    #print(m,p)\n",
    "    h[k].Fill(pu_, m)\n",
    "    #break\n",
    "\n",
    "k = 'hmEvPU'\n",
    "print(k)\n",
    "c[k].cd()\n",
    "if make_2dpdf: h[k] = make_pdf(h[k])\n",
    "#h[k], c[k] = set_hist(h[k], c[k], \"PU\", \"m_{a,pred} [GeV]\", \"m_{a,pred} vs. PU\")\n",
    "h[k] = set_hist(h[k], \"PU\", \"m_{e,pred} [GeV]\", \"m_{e,pred} vs. PU\")\n",
    "ROOT.gPad.SetTopMargin(0.08)\n",
    "ROOT.gPad.SetBottomMargin(0.14)\n",
    "ROOT.gPad.SetLeftMargin(0.15)\n",
    "ROOT.gPad.SetRightMargin(0.19)\n",
    "ROOT.gStyle.SetPalette(55)#53\n",
    "h[k].SetTitle('')\n",
    "h[k].GetYaxis().SetTitleOffset(0.9)\n",
    "h[k].GetYaxis().SetTitleSize(0.07)\n",
    "h[k].GetZaxis().SetTitle('N_{e}')\n",
    "h[k].GetZaxis().SetTitleOffset(1.3)\n",
    "h[k].GetZaxis().SetTitleSize(0.05)\n",
    "h[k].GetZaxis().SetTitleFont(62)\n",
    "h[k].GetZaxis().SetLabelSize(0.04)\n",
    "h[k].GetZaxis().SetLabelFont(62)\n",
    "h[k].GetXaxis().SetTitleOffset(0.9)\n",
    "h[k].GetXaxis().SetTitleSize(0.06)\n",
    "#'''\n",
    "if make_2dpdf:\n",
    "    #ROOT.gPad.SetLeftMargin(0.15)\n",
    "    #ROOT.gPad.SetRightMargin(0.2)\n",
    "    h[k].GetZaxis().SetTitle(\"p(m_{e}|PU)\")\n",
    "    #h[k].GetZaxis().SetTitleOffset(1.35)\n",
    "#else:\n",
    "#    h[k].SetMaximum(60.)\n",
    "#'''\n",
    "h[k].Draw(\"COL Z\")\n",
    "#h[k].SetMaximum(70.)\n",
    "CMS_lumi.CMS_lumi(c[k], iPeriod, iPos)\n",
    "c[k].Draw()\n",
    "#palette = h[k].GetListOfFunctions().FindObject(\"palette\")\n",
    "#palette.SetX1NDC(0.808)\n",
    "#palette.SetX2NDC(0.858)\n",
    "#palette.SetY1NDC(0.13)\n",
    "#palette.SetY2NDC(0.9)\n",
    "\n",
    "#c[k].SetGrid()\n",
    "#c[k].Draw()\n",
    "#c[k].Update()\n",
    "#if print_png: c[k].Print('%s/%sMeV.png'%(plot_dir, k))\n",
    "if print_pdf: c[k].Print('%s/%s.pdf'%(plot_dir, k))\n",
    "plt.hist(pu[s], bins=20)\n",
    "plt.show()"
   ]
  }
 ],
 "metadata": {
  "kernelspec": {
   "display_name": "Python 2",
   "language": "python",
   "name": "python2"
  },
  "language_info": {
   "codemirror_mode": {
    "name": "ipython",
    "version": 2
   },
   "file_extension": ".py",
   "mimetype": "text/x-python",
   "name": "python",
   "nbconvert_exporter": "python",
   "pygments_lexer": "ipython2",
   "version": "2.7.16"
  }
 },
 "nbformat": 4,
 "nbformat_minor": 4
}
