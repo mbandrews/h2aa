{
 "cells": [
  {
   "cell_type": "code",
   "execution_count": 1,
   "metadata": {},
   "outputs": [],
   "source": [
    "%matplotlib inline\n",
    "from matplotlib import pyplot as plt\n",
    "plt.rcParams[\"figure.figsize\"] = (7,7)\n",
    "import numpy as np"
   ]
  },
  {
   "cell_type": "code",
   "execution_count": 2,
   "metadata": {},
   "outputs": [
    {
     "name": "stdout",
     "output_type": "stream",
     "text": [
      "Welcome to JupyROOT 6.20/02\n"
     ]
    }
   ],
   "source": [
    "from __future__ import print_function\n",
    "import time, os, glob\n",
    "import ROOT\n",
    "from array import array\n",
    "from hist_utils import *\n",
    "import CMS_lumi\n",
    "import scipy.stats"
   ]
  },
  {
   "cell_type": "code",
   "execution_count": 9,
   "metadata": {},
   "outputs": [
    {
     "name": "stdout",
     "output_type": "stream",
     "text": [
      "140\n",
      "[-0.2, -0.19, -0.18, -0.17, -0.16, -0.15, -0.14, -0.13, -0.12, -0.11, -0.1, -0.09, -0.08, -0.07, -0.06, -0.05, -0.04, -0.03, -0.02, -0.01, 0.0, 0.01, 0.02, 0.03, 0.04, 0.05, 0.06, 0.07, 0.08, 0.09, 0.1, 0.11, 0.12, 0.13, 0.14, 0.15, 0.16, 0.17, 0.18, 0.19, 0.2, 0.21, 0.22, 0.23, 0.24, 0.25, 0.26, 0.27, 0.28, 0.29, 0.3, 0.31, 0.32, 0.33, 0.34, 0.35, 0.36, 0.37, 0.38, 0.39, 0.4, 0.41, 0.42, 0.43, 0.44, 0.45, 0.46, 0.47, 0.48, 0.49, 0.5, 0.51, 0.52, 0.53, 0.54, 0.55, 0.56, 0.57, 0.58, 0.59, 0.6, 0.61, 0.62, 0.63, 0.64, 0.65, 0.66, 0.67, 0.68, 0.69, 0.7, 0.71, 0.72, 0.73, 0.74, 0.75, 0.76, 0.77, 0.78, 0.79, 0.8, 0.81, 0.82, 0.83, 0.84, 0.85, 0.86, 0.87, 0.88, 0.89, 0.9, 0.91, 0.92, 0.93, 0.94, 0.95, 0.96, 0.97, 0.98, 0.99, 1.0, 1.01, 1.02, 1.03, 1.04, 1.05, 1.06, 1.07, 1.08, 1.09, 1.1, 1.11, 1.12, 1.13, 1.14, 1.15, 1.16, 1.17, 1.18, 1.19, 1.2]\n"
     ]
    }
   ],
   "source": [
    "dM = 10\n",
    "#dM = 100\n",
    "ma_bins = np.arange(0,1400+dM,dM)-200\n",
    "#ma_bins = np.arange(150,350+dM,dM)-200\n",
    "#ma_bins = list(range(0,1200+dM,dM))\n",
    "#ma_bins = [-400]+ma_bins\n",
    "#ma_bins = [-400, -200]+ma_bins\n",
    "ma_bins = [float(m)/1.e3 for m in ma_bins]\n",
    "#print(len(ma_bins))\n",
    "n_ma_bins = len(ma_bins)-1\n",
    "print(n_ma_bins)\n",
    "print(ma_bins)"
   ]
  },
  {
   "cell_type": "code",
   "execution_count": 4,
   "metadata": {},
   "outputs": [],
   "source": [
    "do_coarse = True\n",
    "\n",
    "dS = 2\n",
    "#dS = 4\n",
    "steps = np.arange(dS,2*dS+dS,dS)/1.e3\n",
    "if do_coarse:\n",
    "    scale_nom = 1.\n",
    "    smear_nom = 0.\n",
    "    #scales_ = np.concatenate([[-0.004], np.arange(0,56+8,8)/1.e3])\n",
    "    scales_ = np.concatenate([[-0.004], np.arange(0,56+4,4)/1.e3])\n",
    "    #smears_ = np.concatenate([np.arange(0,20+4,4)/1.e3])\n",
    "    #scales_ = np.concatenate([[-0.036, -0.032, -0.028, -0.024, -0.020, -0.016, -0.012, -0.008, -0.004], np.arange(0,0+4,4)/1.e3])#8+4\n",
    "    #scales_ = np.concatenate([[-0.008, -0.004], np.arange(0,12+4,4)/1.e3])#8+4\n",
    "    #smears_ = np.concatenate([np.arange(0,20+4,4)/1.e3])\n",
    "    smears_ = np.concatenate([np.arange(0,20+2,2)/1.e3])\n",
    "else:\n",
    "    scale_nom = 1.046 # use values from coarse scan\n",
    "    smear_nom = 0.00 # use values from coarse scan\n",
    "    scales_ = np.concatenate([-np.flip(steps), [0.], steps])\n",
    "    smears_ = np.concatenate([-np.flip(steps), [0.], steps])\n",
    "\n",
    "smears_ = np.array([sm for sm in smears_ if smear_nom+sm >= 0.]) # only allow positive smearing"
   ]
  },
  {
   "cell_type": "code",
   "execution_count": 10,
   "metadata": {},
   "outputs": [
    {
     "name": "stdout",
     "output_type": "stream",
     "text": [
      "(16, 11)\n"
     ]
    }
   ],
   "source": [
    "chisqs_ = np.flipud(\n",
    "[[ 24574.19408342,  25310.19352127,  27268.4692689  , 30955.63778766\n",
    ",   36126.94043702,  44371.05360175,  54913.37067695 , 66639.17893361\n",
    ",   83229.11172016, 100935.10499392, 121818.95437066]\n",
    ", [ 22190.59127825,  22914.52770616,  24699.8253825  , 27575.0352939\n",
    ",   32917.82929559,  40753.67821915,  49850.06917512 , 64010.7009146\n",
    ",   79596.39638397,  95451.21038146, 117266.20346141]\n",
    ", [ 20661.37970656,  21030.44051829,  22784.35996082 , 25418.65396967\n",
    ",   30432.98176357,  38120.36538499,  47427.48853714 , 60785.10047104\n",
    ",   74460.12582329,  90768.39209143, 109575.3132724 ]\n",
    ", [ 19471.33306262,  20010.69490747,  21067.50421751 , 23573.96009364\n",
    ",   28157.25873844,  35723.2750652 ,  44149.37389275 , 56465.66009074\n",
    ",   71708.08735049,  87785.6414252 , 107130.35070346]\n",
    ", [ 18989.25727397,  19484.73503558,  20704.13775517 , 22769.07570392\n",
    ",   26624.6726252 ,  33195.50503873,  42132.83222483 , 54125.22603542\n",
    ",   68333.38216281,  83140.83415572, 103301.60380706]\n",
    ", [ 19851.20916337,  19871.45233247,  20596.05882201 , 22116.92225613\n",
    ",   26000.48791203,  31734.91015296,  40598.61550718 , 50166.83252622\n",
    ",   65375.96718824,  81103.81227128,  97933.4544445 ]\n",
    ", [ 20777.36827629,  21002.00301732,  21122.75808006 , 22647.17252165\n",
    ",   26210.45151658,  30932.373462  ,  37638.98079939 , 48607.99808579\n",
    ",   62963.72632467,  78894.74514258,  96269.00524869]\n",
    ", [ 22733.00156063,  22558.21569031,  22792.57966674 , 23485.94494985\n",
    ",   26393.74311391,  31142.33479326,  38630.00447134 , 48899.69736219\n",
    ",   60564.11722961,  76303.1168622 ,  94249.47467533]\n",
    ", [ 25508.49212089,  25283.81312261,  25219.20121169 , 25999.87614389\n",
    ",   26853.87113682,  31319.35973837,  37771.25728034 , 48398.20152482\n",
    ",   59634.50015449,  73815.3936334 ,  90517.30879912]\n",
    ", [ 29134.35343769,  28683.08475753,  27927.85288634 , 27734.99370113\n",
    ",   28802.20665197,  32520.47257401,  38248.83045847 , 47110.56668638\n",
    ",   58664.65290105,  72892.37410384,  91152.34616666]\n",
    ", [ 33383.80002311,  33037.69247144,  31667.98149092 , 31263.40027389\n",
    ",   31172.54290911,  34471.8354363 ,  39948.31380886 , 49418.66354891\n",
    ",   57681.50801682,  70900.58881696,  89076.96806936]\n",
    ", [ 38723.91159467,  38496.67581645,  36654.83995122 , 35077.99372826\n",
    ",   35163.87260683,  36748.92999617,  40863.79117391 , 46727.82531424\n",
    ",   59203.22900646,  71740.67154611,  86442.45208884]\n",
    ", [ 45125.11450324,  44275.71129863,  42111.20838662 , 39909.82390489\n",
    ",   39063.27977573,  40388.31914233,  44121.62095866 , 50428.58252063\n",
    ",   62022.56659928,  72147.45470503,  86671.88166351]\n",
    ", [ 52384.81222516,  51091.59223803,  48397.31379024 , 46177.72484994\n",
    ",   43800.37299323,  44337.3090077 ,  46017.95791946 , 52545.30664518\n",
    ",   61826.25416646,  73874.94164401,  89673.33816782]\n",
    ", [ 60369.31077927,  59223.61597955,  56567.61592132 , 52894.40704209\n",
    ",   49278.16253987,  48427.27094099,  51043.57634622 , 55466.09149522\n",
    ",   63341.75790156,  73869.05037997,  87640.51827161]\n",
    ", [ 69603.86092137,  68435.55422263,  64876.80186403 , 60468.44250252\n",
    ",   55852.11461566,  54297.59132559,  55620.97667643 , 59989.20390317\n",
    ",   66762.89038071,  78033.3974708 ,  90036.99248775]]\n",
    ")\n",
    "print(chisqs_.shape)"
   ]
  },
  {
   "cell_type": "code",
   "execution_count": 14,
   "metadata": {},
   "outputs": [
    {
     "name": "stdout",
     "output_type": "stream",
     "text": [
      "69603.86092137\n",
      "0.0\n",
      "60369.31077927\n",
      "0.0\n",
      "52384.81222516\n",
      "0.0\n",
      "45125.11450324\n",
      "0.0\n",
      "38723.91159467\n",
      "0.0\n",
      "33383.80002311\n",
      "0.0\n",
      "29134.35343769\n",
      "0.0\n",
      "25508.49212089\n",
      "0.0\n",
      "22733.00156063\n",
      "0.0\n",
      "20777.36827629\n",
      "0.0\n",
      "19851.20916337\n",
      "0.0\n",
      "18989.25727397\n",
      "0.0\n",
      "19471.33306262\n",
      "0.0\n",
      "20661.37970656\n",
      "0.0\n",
      "22190.59127825\n",
      "0.0\n",
      "24574.19408342\n",
      "0.0\n",
      "[[0. 0. 0. 0. 0. 0. 0. 0. 0. 0. 0.]\n",
      " [0. 0. 0. 0. 0. 0. 0. 0. 0. 0. 0.]\n",
      " [0. 0. 0. 0. 0. 0. 0. 0. 0. 0. 0.]\n",
      " [0. 0. 0. 0. 0. 0. 0. 0. 0. 0. 0.]\n",
      " [0. 0. 0. 0. 0. 0. 0. 0. 0. 0. 0.]\n",
      " [0. 0. 0. 0. 0. 0. 0. 0. 0. 0. 0.]\n",
      " [0. 0. 0. 0. 0. 0. 0. 0. 0. 0. 0.]\n",
      " [0. 0. 0. 0. 0. 0. 0. 0. 0. 0. 0.]\n",
      " [0. 0. 0. 0. 0. 0. 0. 0. 0. 0. 0.]\n",
      " [0. 0. 0. 0. 0. 0. 0. 0. 0. 0. 0.]\n",
      " [0. 0. 0. 0. 0. 0. 0. 0. 0. 0. 0.]\n",
      " [0. 0. 0. 0. 0. 0. 0. 0. 0. 0. 0.]\n",
      " [0. 0. 0. 0. 0. 0. 0. 0. 0. 0. 0.]\n",
      " [0. 0. 0. 0. 0. 0. 0. 0. 0. 0. 0.]\n",
      " [0. 0. 0. 0. 0. 0. 0. 0. 0. 0. 0.]\n",
      " [0. 0. 0. 0. 0. 0. 0. 0. 0. 0. 0.]]\n"
     ]
    }
   ],
   "source": [
    "pvals = np.zeros_like(chisqs_)\n",
    "\n",
    "for ir in range(chisqs_.shape[0]):\n",
    "    for ic in range(chisqs_.shape[1]):\n",
    "        #pvals[ir,ic] = ROOT.TMath.Prob(chisqs_[ir,ic], 140)\n",
    "        print(chisqs_[ir,ic])\n",
    "        pval_ = ROOT.TMath.Prob(chisqs_[ir,ic], 140)\n",
    "        print(pval_)\n",
    "        break\n",
    "        \n",
    "print(pvals)"
   ]
  },
  {
   "cell_type": "code",
   "execution_count": 31,
   "metadata": {},
   "outputs": [
    {
     "data": {
      "text/plain": [
       "131"
      ]
     },
     "execution_count": 31,
     "metadata": {},
     "output_type": "execute_result"
    }
   ],
   "source": [
    "conts = chisqs_.flatten()\n",
    "len(conts[conts>(chisqs_.min()+10000)])"
   ]
  },
  {
   "cell_type": "code",
   "execution_count": 26,
   "metadata": {},
   "outputs": [
    {
     "name": "stdout",
     "output_type": "stream",
     "text": [
      "smears 11 0.0 20.0\n",
      "scales 16 -0.4 5.6000000000000005\n",
      "chisq, min,max: 18989.25727397 121818.95437066\n",
      "0.0 20.0\n",
      "13 TeV\n"
     ]
    },
    {
     "name": "stderr",
     "output_type": "stream",
     "text": [
      "Warning in <TCanvas::Constructor>: Deleting canvas with same name: conts\n"
     ]
    },
    {
     "data": {
      "image/png": "[encoded data removed]",
      "text/plain": [
       "<IPython.core.display.Image object>"
      ]
     },
     "metadata": {},
     "output_type": "display_data"
    }
   ],
   "source": [
    "plot_dir = 'Plots/massreg/v12'\n",
    "print_pdf = False\n",
    "\n",
    "#hConts = ROOT.TH2F('hConts', len(smears_)-1, smears_[0], smears_[-1],\\\n",
    "#                             len(scales_)-1, scales_[0], scales_[-1])\n",
    "c,h = {}, {}\n",
    "\n",
    "ROOT.gStyle.SetPadTickX(1)\n",
    "ROOT.gStyle.SetPadTickY(1)\n",
    "#change the CMS_lumi variables (see CMS_lumi.py)\n",
    "CMS_lumi.lumi_7TeV = \"4.8 fb^{-1}\"\n",
    "CMS_lumi.lumi_8TeV = \"18.3 fb^{-1}\"\n",
    "CMS_lumi.writeExtraText = 1\n",
    "CMS_lumi.extraText = \"Preliminary\"\n",
    "#CMS_lumi.lumi_sqrtS = \"41.9 fb^{-1} (13 TeV)\" # used with iPeriod = 0, e.g. for simulation-only plots (default is an empty string)\n",
    "CMS_lumi.lumi_sqrtS = \"13 TeV\" # used with iPeriod = 0, e.g. for simulation-only plots (default is an empty string)\n",
    "iPos = 0\n",
    "if( iPos==0 ): CMS_lumi.relPosX = 0.17\n",
    "iPeriod = 0\n",
    "\n",
    "smears = 1.e3*np.array(smears_)\n",
    "scales = 1.e2*np.array(scales_)\n",
    "\n",
    "print('smears', len(smears), smears[0], smears[-1])\n",
    "print('scales', len(scales), scales[0], scales[-1])\n",
    "print('chisq, min,max:', chisqs_.min(), chisqs_.max())\n",
    "\n",
    "k = 'conts'\n",
    "#c[k] = ROOT.TCanvas(k, k, 680, 600)\n",
    "c[k] = ROOT.TCanvas(k, k, 640, 680)\n",
    "#h[k] = ROOT.TH2F(k, k, len(smears)-1, array('d', smears),\\\n",
    "#                       len(scales)-1, array('d', scales))\n",
    "h[k] = ROOT.TH2F(k, k, len(smears)-1, 0., 20.,\\\n",
    "                       len(scales)-1, -0.4, 5.6)\n",
    "h[k+'graph'] = ROOT.TGraph2D()\n",
    "h[k+'optim'] = ROOT.TGraph2D()\n",
    "i = 0\n",
    "for a in range(len(scales)):\n",
    "    for b in range(len(smears)):\n",
    "        h[k].SetBinContent(b+1, a+1, chisqs_[a,b])\n",
    "        '''h[k].SetBinContent(b+1, a+1, 0.)\n",
    "        #print(a, b, scales[a], smears[b], chisqs_[a,b])\n",
    "        h[k+'graph'].SetPoint(i, smears[b], scales[a], chisqs_[a,b])\n",
    "        if a == 4 and b == 1:\n",
    "            h[k+'optim'].SetPoint(i, smears[b], 1.+scales[a], chisqs_[a,b])\n",
    "        else:\n",
    "            h[k+'optim'].SetPoint(i, smears[b], 1.+scales[a], 0.)'''\n",
    "        i += 1\n",
    "    #break\n",
    "\n",
    "'''\n",
    "# Dont work\n",
    "#h[k+'optim'] = ROOT.TGraph2D()\n",
    "#h[k+'p'] = ROOT.TH2F(k+'p', k+'p', len(smears)-1, 0., 20.,\\\n",
    "#                       len(scales)-1, -0.4, 5.6)\n",
    "#h[k+'optim'].SetPoint(0, 0., 4.2, 25.e3) # (i, x, y, z)\n",
    "#h[k+'optim'].SetPoint(1, 0., 4.2, 25.e3) # (i, x, y, z)\n",
    "#h[k+'p'].SetBinContent(0, 4, -25.e3)\n",
    "'''\n",
    "'''\n",
    "contours[6];\n",
    "contours[0] = -0.7;\n",
    "contours[1] = -0.5;\n",
    "contours[2] = -0.1;\n",
    "contours[3] =  0.1;\n",
    "contours[4] =  0.4;\n",
    "contours[5] =  0.8;\n",
    "HistStreamFn->SetContour(6, contours);\n",
    "\n",
    "'''\n",
    "contours = [chisqs_.min(), chisqs_.min()+140, chisqs_.min()+280, chisqs_.min()+280+140]\n",
    "contours = array('d', contours)\n",
    "h[k].SetContour(len(contours), contours)\n",
    "#ROOT.gStyle.SetNumberContours(10) # default:20\n",
    "ROOT.TGaxis.fgMaxDigits = 3\n",
    "ROOT.gStyle.SetOptStat(0)\n",
    "\n",
    "#h[k] = set_hist(h[k], \"#Deltasmear [MeV]\", \"#Deltascale [%]\", \"\")\n",
    "h[k] = set_hist(h[k], \"s_{smear} [MeV]\", \"s_{scale}\", \"\")\n",
    "ROOT.gPad.SetTopMargin(0.08)\n",
    "ROOT.gPad.SetBottomMargin(0.13)\n",
    "ROOT.gPad.SetLeftMargin(0.11)\n",
    "ROOT.gPad.SetRightMargin(0.19) # with colz\n",
    "#ROOT.gPad.SetRightMargin(0.1) # without colz\n",
    "ROOT.gStyle.SetPalette(55)#53\n",
    "ROOT.TGaxis.fgMaxDigits = 3\n",
    "h[k].SetTitle('')\n",
    "\n",
    "h[k].GetYaxis().SetTitleOffset(0.7)\n",
    "h[k].GetYaxis().SetTitleSize(0.06)\n",
    "h[k].GetYaxis().SetLabelFont(42)\n",
    "h[k].GetYaxis().SetTitleFont(42)\n",
    "\n",
    "h[k].GetZaxis().SetTitle('#chi^{2}')\n",
    "h[k].GetZaxis().SetTitleOffset(1.3)\n",
    "h[k].GetZaxis().SetTitleSize(0.05)\n",
    "h[k].GetZaxis().SetTitleFont(42)\n",
    "h[k].GetZaxis().SetLabelSize(0.04)\n",
    "h[k].GetZaxis().SetLabelFont(42)\n",
    "\n",
    "h[k].GetXaxis().SetTitleOffset(1.0)\n",
    "h[k].GetXaxis().SetTitleSize(0.06)\n",
    "h[k].GetXaxis().SetLabelFont(42)\n",
    "h[k].GetXaxis().SetTitleFont(42)\n",
    "#h[k].GetXaxis().SetRangeUser(smears[0], smears[-1])\n",
    "print(smears[0], smears[-1])\n",
    "\n",
    "h[k].SetMinimum(chisqs_.min()) \n",
    "#h[k].SetMaximum(130.e3)\n",
    "#h[k].SetMaximum(chisqs_.min()+140.)\n",
    "h[k].Draw(\"COL Z\")\n",
    "#h[k].Draw(\"COL\")\n",
    "'''\n",
    "# Workaround: Draw graph on top of empty hist\n",
    "# otherwise axes arent drawn\n",
    "#h[k+'graph'].GetZaxis().SetTitle('#chi^{2}')\n",
    "#h[k+'graph'].GetZaxis().SetTitleOffset(1.3)\n",
    "#h[k+'graph'].GetZaxis().SetTitleSize(0.05)\n",
    "#h[k+'graph'].GetZaxis().SetTitleFont(62)\n",
    "#h[k+'graph'].GetZaxis().SetLabelSize(0.04)\n",
    "#h[k+'graph'].GetZaxis().SetLabelFont(62)\n",
    "#h[k+'graph'].Draw(\"CONT1 same\")\n",
    "h[k+'graph'].Draw(\"CONT2 same\")\n",
    "#h[k+'graph'].Draw(\"COLZ\")\n",
    "'''\n",
    "# Draw optimial point\n",
    "optim = ROOT.TLatex()\n",
    "optim.DrawLatex(0., 4.2, '#times')\n",
    "\n",
    "c[k].Draw()\n",
    "CMS_lumi.CMS_lumi(c[k], iPeriod, iPos)\n",
    "c[k].Update()\n",
    "#if print_pdf: c[k].Print('%s/DYToEE_%so%s_eta%s_ma1_ptetarwgt_scale-vs-smear.pdf'%(plot_dir, kdata, kmc, eta_range))"
   ]
  }
 ],
 "metadata": {
  "kernelspec": {
   "display_name": "Python 2",
   "language": "python",
   "name": "python2"
  },
  "language_info": {
   "codemirror_mode": {
    "name": "ipython",
    "version": 2
   },
   "file_extension": ".py",
   "mimetype": "text/x-python",
   "name": "python",
   "nbconvert_exporter": "python",
   "pygments_lexer": "ipython2",
   "version": "2.7.16"
  }
 },
 "nbformat": 4,
 "nbformat_minor": 4
}
