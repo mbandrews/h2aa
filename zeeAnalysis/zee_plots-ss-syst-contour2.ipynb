{
 "cells": [
  {
   "cell_type": "code",
   "execution_count": 1,
   "metadata": {},
   "outputs": [],
   "source": [
    "%matplotlib inline\n",
    "from matplotlib import pyplot as plt\n",
    "plt.rcParams[\"figure.figsize\"] = (7,7)\n",
    "import numpy as np"
   ]
  },
  {
   "cell_type": "code",
   "execution_count": 2,
   "metadata": {},
   "outputs": [
    {
     "name": "stdout",
     "output_type": "stream",
     "text": [
      "Welcome to JupyROOT 6.20/02\n"
     ]
    }
   ],
   "source": [
    "from __future__ import print_function\n",
    "import time, os, glob\n",
    "import ROOT\n",
    "from array import array\n",
    "from hist_utils import *\n",
    "import CMS_lumi\n",
    "import scipy.stats"
   ]
  },
  {
   "cell_type": "code",
   "execution_count": 3,
   "metadata": {},
   "outputs": [],
   "source": [
    "def make_pdf(h):\n",
    "\n",
    "    sumOverY = {}\n",
    "    for ix in range(1, h.GetNbinsX()+1):\n",
    "        sumOverY[ix] = sum([h.GetBinContent(ix, iy_) for iy_ in range(1, h.GetNbinsY()+1)])\n",
    "        for iy in range(1, h.GetNbinsY()+1):\n",
    "            binc = h.GetBinContent(ix, iy)\n",
    "            if sumOverY[ix] > 0.:\n",
    "                h.SetBinContent(ix, iy, binc/sumOverY[ix])\n",
    "\n",
    "    return h"
   ]
  },
  {
   "cell_type": "code",
   "execution_count": 4,
   "metadata": {},
   "outputs": [
    {
     "name": "stdout",
     "output_type": "stream",
     "text": [
      ">> Doing |eta| range: None\n",
      ">> For sample: data2017\n",
      ">> input files:\n",
      "   .. input file: Templates/ZeeSel-Era16Feb2021-Zeev1/data2017-Run2017B_ma1.txt\n",
      "   .. input file: Templates/ZeeSel-Era16Feb2021-Zeev1/data2017-Run2017C_ma1.txt\n",
      "   .. input file: Templates/ZeeSel-Era16Feb2021-Zeev1/data2017-Run2017D_ma1.txt\n",
      "   .. input file: Templates/ZeeSel-Era16Feb2021-Zeev1/data2017-Run2017E_ma1.txt\n",
      "   .. input file: Templates/ZeeSel-Era16Feb2021-Zeev1/data2017-Run2017F_ma1.txt\n",
      "   .. N_e: 19583389\n",
      "   .. ma[:5]: [-1.       -0.088292 -0.042679  0.094709  0.087735]\n",
      "   .. pt[:5]: [27.37306  31.083309 43.18013  37.664272 42.782734]\n",
      ">> For sample: bg2017-dy\n",
      ">> input files:\n",
      "   .. input file: Templates/ZeeSel-Era16Feb2021-Zeev1/bg2017-dy00_ma1.txt\n",
      "   .. input file: Templates/ZeeSel-Era16Feb2021-Zeev1/bg2017-dy01_ma1.txt\n",
      "   .. input file: Templates/ZeeSel-Era16Feb2021-Zeev1/bg2017-dy02_ma1.txt\n",
      "   .. input file: Templates/ZeeSel-Era16Feb2021-Zeev1/bg2017-dy03_ma1.txt\n",
      "   .. N_e: 2707524\n",
      "   .. ma[:5]: [ 0.186005  0.879379  0.057112 -1.        0.085573]\n",
      "   .. pt[:5]: [34.930973 34.18858  23.264112 42.847454 40.976082]\n"
     ]
    }
   ],
   "source": [
    "#year = '2016'\n",
    "year = '2017'\n",
    "#year = '2018'\n",
    "kdata = 'data%s'%year\n",
    "kmc = 'bg%s-dy'%year\n",
    "#kmc = 'data2017'\n",
    "#kmc = 'data2018'\n",
    "samples = [kdata, kmc]\n",
    "#samples = ['data2017']\n",
    "#ma, wgt = {}, {}\n",
    "ma, pt, eta, pu = {}, {}, {}, {}\n",
    "eta_range = 'cntr'\n",
    "eta_range = 'mid'\n",
    "eta_range = 'fwd'\n",
    "eta_range = None\n",
    "era = 'ZeeSel-Era16Feb2021-Zeev1' #massreg paper only\n",
    "#era = 'ZeeSel-Era16Feb2021-Zeev2' #h4g\n",
    "\n",
    "#fma.write('%f:%f:%f:%f\\n'%(tree.ma[idx], tree.phoCalibEt[idx], tree.phoEta[idx], pu_))\n",
    "print('>> Doing |eta| range:',eta_range)\n",
    "\n",
    "for s in samples:\n",
    "    print('>> For sample:',s)\n",
    "    \n",
    "    if s == kdata:\n",
    "        in_files = glob.glob('Templates/%s/%s-Run%s*_ma1.txt'%(era, s, year))\n",
    "    else:\n",
    "        if 'dy' in s:\n",
    "            in_files = glob.glob('Templates/%s/%s*_ma1.txt'%(era,s))\n",
    "        else:\n",
    "            #in_files = glob.glob('Templates/%s/%s-Run2018*_ma1.txt'%(era, s))\n",
    "            in_files = glob.glob('Templates/%s/%s-Run*_ma1.txt'%(era, s))\n",
    "    print('>> input files:')\n",
    "    for in_file in in_files:\n",
    "        print('   .. input file:',in_file)\n",
    "    \n",
    "    #'''\n",
    "    ma[s], pt[s], eta[s], pu[s] = [], [], [], []\n",
    "    for in_file in in_files:\n",
    "        f = open(in_file, \"r\")\n",
    "        for i,l in enumerate(f):\n",
    "            ma_, pt_, eta_, pu_ = l.replace('\\n','').split(':')\n",
    "            eta_ = float(eta_)\n",
    "            if eta_range == 'cntr':\n",
    "                if abs(eta_) > 0.5: continue\n",
    "            elif eta_range == 'mid':\n",
    "                if abs(eta_) <= 0.5 or abs(eta_) > 1.00: continue\n",
    "            elif eta_range == 'fwd':\n",
    "                if abs(eta_) <= 1.0 or abs(eta_) > 1.44: continue\n",
    "            ma[s].append(float(ma_))\n",
    "            pt[s].append(float(pt_))\n",
    "            eta[s].append(float(eta_))\n",
    "            pu[s].append(float(pu_))\n",
    "            #if i >= 100000: break\n",
    "            #if len(ma[s]) >= 1000000: break\n",
    "\n",
    "    ma[s] = np.array(ma[s])\n",
    "    pt[s] = np.array(pt[s])\n",
    "    eta[s] = np.array(eta[s])\n",
    "    pu[s] = np.array(pu[s])\n",
    "    \n",
    "    #pt[s] = pt[s][ma[s] > -0.2]\n",
    "    #ma[s] = ma[s][ma[s] > -0.2]\n",
    "    assert len(ma[s] == pt[s])\n",
    "    print('   .. N_e:',len(ma[s]))\n",
    "    print('   .. ma[:5]:',ma[s][:5])\n",
    "    print('   .. pt[:5]:',pt[s][:5])\n",
    "    #'''"
   ]
  },
  {
   "cell_type": "code",
   "execution_count": 5,
   "metadata": {},
   "outputs": [
    {
     "data": {
      "image/png": "[encoded data removed]",
      "text/plain": [
       "<Figure size 288x216 with 1 Axes>"
      ]
     },
     "metadata": {
      "needs_background": "light"
     },
     "output_type": "display_data"
    },
    {
     "data": {
      "image/png": "[encoded data removed]",
      "text/plain": [
       "<Figure size 288x216 with 1 Axes>"
      ]
     },
     "metadata": {
      "needs_background": "light"
     },
     "output_type": "display_data"
    },
    {
     "data": {
      "image/png": "[encoded data removed]",
      "text/plain": [
       "<Figure size 288x216 with 1 Axes>"
      ]
     },
     "metadata": {
      "needs_background": "light"
     },
     "output_type": "display_data"
    },
    {
     "name": "stdout",
     "output_type": "stream",
     "text": [
      "55.222984 99.996902\n"
     ]
    }
   ],
   "source": [
    "plt.rcParams[\"figure.figsize\"] = (4,3)\n",
    "\n",
    "plt.hist(pt[kdata], histtype='step', bins=50, range=(0., 200.), weights=np.ones_like(pt[kdata])/len(pt[kdata]))\n",
    "plt.hist(pt[kmc], histtype='step', bins=50, range=(0., 200.), weights=np.ones_like(pt[kmc])/len(pt[kmc]))\n",
    "plt.show()\n",
    "\n",
    "plt.hist(eta[kdata], histtype='step', bins=50, range=(-2.6, 2.6), weights=np.ones_like(eta[kdata])/len(eta[kdata]))\n",
    "plt.hist(eta[kmc], histtype='step', bins=50, range=(-2.6, 2.6), weights=np.ones_like(eta[kmc])/len(eta[kmc]))\n",
    "plt.show()\n",
    "\n",
    "plt.hist(pu[kdata], histtype='step', bins=50, range=(0., 80.), weights=np.ones_like(pu[kdata])/len(pu[kdata]))\n",
    "plt.hist(pu[kmc], histtype='step', bins=50, range=(0., 80.), weights=np.ones_like(pu[kmc])/len(pu[kmc]))\n",
    "plt.show()\n",
    "\n",
    "print(pu[kdata].max(), pu[kmc].max())"
   ]
  },
  {
   "cell_type": "code",
   "execution_count": 6,
   "metadata": {},
   "outputs": [
    {
     "data": {
      "text/plain": [
       "array([  10,   20,   22,   24,   26,   28,   30,   32,   34,   36,   38,\n",
       "         40,   42,   44,   46,   48,   50,   52,   54,   56,   58,   60,\n",
       "         62,   64,   66,   68,   70,   72,   74,   76,   78,   80,   82,\n",
       "         84,   86,   88,   90,  100,  110,  120,  130,  140,  160,  180,\n",
       "       1500])"
      ]
     },
     "execution_count": 6,
     "metadata": {},
     "output_type": "execute_result"
    }
   ],
   "source": [
    "pt_bins_ = {}\n",
    "pt_bins_[0] = [10]\n",
    "pt_bins_[1] = np.arange(20, 90, 2)\n",
    "pt_bins_[2] = np.arange(90, 140, 10)\n",
    "pt_bins_[3] = np.arange(140, 180, 20)\n",
    "pt_bins_[4] = np.arange(180, 1500+1320, 1320)\n",
    "#pt_bins_[4] = np.arange(500, 1500+1000, 1000)\n",
    "pt_bins = [pt_bins_[i] for i in pt_bins_]\n",
    "pt_bins = np.concatenate(pt_bins).flatten()\n",
    "pt_bins\n",
    "#print(pt['data2017'].max())"
   ]
  },
  {
   "cell_type": "code",
   "execution_count": 7,
   "metadata": {},
   "outputs": [
    {
     "data": {
      "image/png": "[encoded data removed]",
      "text/plain": [
       "<IPython.core.display.Image object>"
      ]
     },
     "metadata": {},
     "output_type": "display_data"
    },
    {
     "data": {
      "image/png": "[encoded data removed]",
      "text/plain": [
       "<IPython.core.display.Image object>"
      ]
     },
     "metadata": {},
     "output_type": "display_data"
    },
    {
     "data": {
      "image/png": "[encoded data removed]",
      "text/plain": [
       "<IPython.core.display.Image object>"
      ]
     },
     "metadata": {},
     "output_type": "display_data"
    }
   ],
   "source": [
    "#'''\n",
    "h, c = {}, {}\n",
    "\n",
    "eta_edge = 2.4\n",
    "#pt_lo, pt_hi = 20., 200.\n",
    "\n",
    "s = kdata\n",
    "k = 'etavpt'+s\n",
    "#h[k] = ROOT.TH2F(k, k, 50, pt_lo, pt_hi, 48, -eta_edge, eta_edge)\n",
    "h[k] = ROOT.TH2F(k, k, len(pt_bins)-1, array('d', pt_bins), 48, -eta_edge, eta_edge)\n",
    "c[k] = ROOT.TCanvas(k, k, 400, 400)\n",
    "i = 0\n",
    "for p,e in zip(pt[s], eta[s]):\n",
    "    h[k].Fill(p, e)\n",
    "    i += 1\n",
    "    #if i > 10000: break\n",
    "h[k].Draw('COL Z')\n",
    "c[k].Draw()\n",
    "\n",
    "s = kmc\n",
    "k = 'etavpt'+s\n",
    "#h[k] = ROOT.TH2F(k, k, 50, pt_lo, pt_hi, 48, -eta_edge, eta_edge)\n",
    "h[k] = ROOT.TH2F(k, k, len(pt_bins)-1, array('d', pt_bins), 48, -eta_edge, eta_edge)\n",
    "c[k] = ROOT.TCanvas(k, k, 400, 400)\n",
    "i = 0\n",
    "for p,e in zip(pt[s], eta[s]):\n",
    "    h[k].Fill(p, e)\n",
    "    i += 1\n",
    "    #if i > 10000: break\n",
    "h[k].Draw('COL Z')\n",
    "c[k].Draw()\n",
    "#'''\n",
    "#'''\n",
    "k = 'etavptdataomc'\n",
    "#h[k] = ROOT.TH2F(k, k, len(pt_bins)-1, array('d', pt_bins), 48, -eta_edge, eta_edge)\n",
    "c[k] = ROOT.TCanvas(k, k, 400, 400)\n",
    "h[k] = h['etavpt%s'%kdata].Clone()\n",
    "h[k].SetName(k)\n",
    "h[k].SetTitle(k)\n",
    "h[k].Divide(h['etavpt%s'%kmc])\n",
    "h[k].GetXaxis().SetRangeUser(10., 100.)\n",
    "h[k].SetMaximum(10.)\n",
    "h[k].SetMinimum(1./10.)\n",
    "h[k].Draw('COL Z')\n",
    "c[k].Draw()\n",
    "#'''"
   ]
  },
  {
   "cell_type": "code",
   "execution_count": 8,
   "metadata": {},
   "outputs": [],
   "source": [
    "def get_ptetawgt(pt_, eta_, h, ceil=10.):\n",
    "\n",
    "    ipt_  = h.GetXaxis().FindBin(pt_)\n",
    "    ieta_ = h.GetYaxis().FindBin(eta_)\n",
    "    wgt = h.GetBinContent(ipt_, ieta_)\n",
    "    if wgt > ceil:\n",
    "        wgt = ceil\n",
    "\n",
    "    return wgt"
   ]
  },
  {
   "cell_type": "code",
   "execution_count": 9,
   "metadata": {},
   "outputs": [
    {
     "data": {
      "image/png": "[encoded data removed]",
      "text/plain": [
       "<IPython.core.display.Image object>"
      ]
     },
     "metadata": {},
     "output_type": "display_data"
    },
    {
     "data": {
      "image/png": "[encoded data removed]",
      "text/plain": [
       "<IPython.core.display.Image object>"
      ]
     },
     "metadata": {},
     "output_type": "display_data"
    }
   ],
   "source": [
    "s = kmc\n",
    "k = 'etavpt'+s+'corr'\n",
    "#h[k] = ROOT.TH2F(k, k, 50, pt_lo, pt_hi, 48, -eta_edge, eta_edge)\n",
    "h[k] = ROOT.TH2F(k, k, len(pt_bins)-1, array('d', pt_bins), 48, -eta_edge, eta_edge)\n",
    "c[k] = ROOT.TCanvas(k, k, 400, 400)\n",
    "i = 0\n",
    "for p,e in zip(pt[s], eta[s]):\n",
    "    #h[k].Fill(p, e)\n",
    "    h[k].Fill(p, e, get_ptetawgt(p,e,h['etavptdataomc']))\n",
    "    i += 1\n",
    "    #if i > 10000: break\n",
    "h[k].Draw('COL Z')\n",
    "c[k].Draw()\n",
    "#'''\n",
    "#'''\n",
    "k = 'etavptdataomc'+'corr'\n",
    "#h[k] = ROOT.TH2F(k, k, len(pt_bins)-1, array('d', pt_bins), 48, -eta_edge, eta_edge)\n",
    "c[k] = ROOT.TCanvas(k, k, 400, 400)\n",
    "h[k] = h['etavpt%s'%kdata].Clone()\n",
    "h[k].SetName(k)\n",
    "h[k].SetTitle(k)\n",
    "h[k].Divide(h['etavpt%scorr'%kmc])\n",
    "h[k].GetXaxis().SetRangeUser(10., 100.)\n",
    "h[k].SetMaximum(1.+0.1)\n",
    "h[k].SetMinimum(1.-0.1)\n",
    "h[k].Draw('COL Z')\n",
    "c[k].Draw()\n",
    "#'''"
   ]
  },
  {
   "cell_type": "code",
   "execution_count": 10,
   "metadata": {},
   "outputs": [
    {
     "name": "stdout",
     "output_type": "stream",
     "text": [
      "16946343.9353\n",
      "150.078155518\n",
      "16924188.0\n",
      "135.0\n"
     ]
    },
    {
     "data": {
      "image/png": "[encoded data removed]",
      "text/plain": [
       "<IPython.core.display.Image object>"
      ]
     },
     "metadata": {},
     "output_type": "display_data"
    }
   ],
   "source": [
    "#h, c = {}, {}\n",
    "\n",
    "#dM = 25\n",
    "dM = 10\n",
    "#dM = 100\n",
    "ma_bins = np.arange(0,1400+dM,dM)-200\n",
    "#ma_bins = np.arange(150,350+dM,dM)-200\n",
    "#ma_bins = list(range(0,1200+dM,dM))\n",
    "#ma_bins = [-400]+ma_bins\n",
    "#ma_bins = [-400, -200]+ma_bins\n",
    "ma_bins = [float(m)/1.e3 for m in ma_bins]\n",
    "#print(len(ma_bins))\n",
    "n_ma_bins = len(ma_bins)-1\n",
    "ma_bins = array('d', ma_bins)\n",
    "#print(ma_bins)\n",
    "\n",
    "k = kmc+'nopucorr'\n",
    "#h[k] = ROOT.TH1F(k, k, 48, 0., 1.2)\n",
    "#h[k] = ROOT.TH1F(k, k, 56, -0.2, 1.2)\n",
    "h[k] = ROOT.TH1F(k, k, n_ma_bins, ma_bins)\n",
    "c[k] = ROOT.TCanvas(k, k, 400, 400)\n",
    "kpu = k+'pu'\n",
    "h[kpu] = ROOT.TH1F(kpu, kpu, 20, 0., 100.)\n",
    "for i,m in enumerate(ma[kmc]):\n",
    "    #if i+1 >= 100000: break\n",
    "    #m = (1./0.97)*(m - 0.006)\n",
    "    #m = 1.036*m - 0.005\n",
    "    #m = 0.946*m\n",
    "    #m = 1.01*np.random.normal(m, 0.012) # with correction\n",
    "    #h[k].Fill(m, wgt['DYToEE'][i])\n",
    "    #h[k].Fill(m)\n",
    "    wgt = get_ptetawgt(pt[kmc][i], eta[kmc][i], h['etavptdataomc'])\n",
    "    h[k].Fill(m, wgt)\n",
    "    h[kpu].Fill(pu[kmc][i], wgt)\n",
    "h[k].Draw(\"hist\")\n",
    "c[k].cd()\n",
    "c[k].Draw()\n",
    "print(h[k].Integral())\n",
    "print(h[k].GetBinContent(1))\n",
    "\n",
    "k = kdata\n",
    "#h[k] = ROOT.TH1F(k, k, 48, 0., 1.2)\n",
    "#h[k] = ROOT.TH1F(k, k, 56, -0.2, 1.2)\n",
    "h[k] = ROOT.TH1F(k, k, n_ma_bins, ma_bins)\n",
    "#c[k] = ROOT.TCanvas(k, k, 600, 400)\n",
    "kpu = k+'pu'\n",
    "h[kpu] = ROOT.TH1F(kpu, kpu, 20, 0., 100.)\n",
    "for i,m in enumerate(ma[k]):\n",
    "    #if i+1 >= 100000: break\n",
    "    h[k].Fill(m)\n",
    "    h[kpu].Fill(pu[k][i])\n",
    "#h[k].Draw(\"hist\")\n",
    "h[k].Draw(\"hist same\")\n",
    "#c[k].Draw()\n",
    "print(h[k].Integral())\n",
    "print(h[k].GetBinContent(1))"
   ]
  },
  {
   "cell_type": "code",
   "execution_count": 11,
   "metadata": {},
   "outputs": [
    {
     "name": "stdout",
     "output_type": "stream",
     "text": [
      "579843.0\n",
      "25\n",
      "21\n",
      "array('d', [-0.2, -0.19, -0.18, -0.17, -0.16, -0.15, -0.14, -0.13, -0.12, -0.11, -0.1, -0.09, -0.08, -0.07, -0.06, -0.05, -0.04, -0.03, -0.02, -0.01, 0.0, 0.01, 0.02, 0.03, 0.04, 0.05, 0.06, 0.07, 0.08, 0.09, 0.1, 0.11, 0.12, 0.13, 0.14, 0.15, 0.16, 0.17, 0.18, 0.19, 0.2, 0.21, 0.22, 0.23, 0.24, 0.25, 0.26, 0.27, 0.28, 0.29, 0.3, 0.31, 0.32, 0.33, 0.34, 0.35, 0.36, 0.37, 0.38, 0.39, 0.4, 0.41, 0.42, 0.43, 0.44, 0.45, 0.46, 0.47, 0.48, 0.49, 0.5, 0.51, 0.52, 0.53, 0.54, 0.55, 0.56, 0.57, 0.58, 0.59, 0.6, 0.61, 0.62, 0.63, 0.64, 0.65, 0.66, 0.67, 0.68, 0.69, 0.7, 0.71, 0.72, 0.73, 0.74, 0.75, 0.76, 0.77, 0.78, 0.79, 0.8, 0.81, 0.82, 0.83, 0.84, 0.85, 0.86, 0.87, 0.88, 0.89, 0.9, 0.91, 0.92, 0.93, 0.94, 0.95, 0.96, 0.97, 0.98, 0.99, 1.0, 1.01, 1.02, 1.03, 1.04, 1.05, 1.06, 1.07, 1.08, 1.09, 1.1, 1.11, 1.12, 1.13, 1.14, 1.15, 1.16, 1.17, 1.18, 1.19, 1.2])\n",
      "0.0\n",
      "0.04\n",
      "0.08\n",
      "array('d', [-0.1, -0.09, -0.08, -0.07, -0.06, -0.05, -0.04, -0.03, -0.02, -0.01, 0.0, 0.01, 0.02, 0.03, 0.04, 0.05, 0.06, 0.07, 0.08, 0.09, 0.1, 0.11, 0.12, 0.13])\n"
     ]
    }
   ],
   "source": [
    "print(h[kdata].GetMaximum())\n",
    "print(h[kdata].GetMaximumBin())\n",
    "print(h[kdata].GetXaxis().FindBin(0.))\n",
    "print(ma_bins)\n",
    "print(ma_bins[21-1])\n",
    "print(ma_bins[25-1])\n",
    "print(ma_bins[25+4-1])\n",
    "print(ma_bins[10:34])"
   ]
  },
  {
   "cell_type": "code",
   "execution_count": 12,
   "metadata": {},
   "outputs": [
    {
     "data": {
      "image/png": "[encoded data removed]",
      "text/plain": [
       "<IPython.core.display.Image object>"
      ]
     },
     "metadata": {},
     "output_type": "display_data"
    },
    {
     "data": {
      "image/png": "[encoded data removed]",
      "text/plain": [
       "<IPython.core.display.Image object>"
      ]
     },
     "metadata": {},
     "output_type": "display_data"
    },
    {
     "data": {
      "image/png": "[encoded data removed]",
      "text/plain": [
       "<IPython.core.display.Image object>"
      ]
     },
     "metadata": {},
     "output_type": "display_data"
    }
   ],
   "source": [
    "k = kmc+'nopucorr'\n",
    "kpu = k+'pu'\n",
    "c[kpu] = ROOT.TCanvas(kpu, kpu, 400, 400)\n",
    "h[kpu].Draw(\"hist\")\n",
    "c[kpu].Draw()\n",
    "\n",
    "k = kdata\n",
    "kpu = k+'pu'\n",
    "c[kpu] = ROOT.TCanvas(kpu, kpu, 400, 400)\n",
    "h[kpu].Draw(\"hist\")\n",
    "c[kpu].Draw()\n",
    "\n",
    "k = 'pudataomc'\n",
    "c[k] = ROOT.TCanvas(k, k, 400, 400)\n",
    "h[k] = h['%spu'%kdata].Clone()\n",
    "h[k].SetName(k)\n",
    "h[k].SetTitle(k)\n",
    "h[k].Divide(h[kmc+'nopucorr'+'pu'])\n",
    "h[k].Draw('hist')\n",
    "c[k].Draw()"
   ]
  },
  {
   "cell_type": "code",
   "execution_count": 13,
   "metadata": {},
   "outputs": [],
   "source": [
    "def get_puwgt(pu_, h):\n",
    "    ipu_ = h.GetXaxis().FindBin(pu_)\n",
    "    wgt = h.GetBinContent(ipu_)\n",
    "    return wgt"
   ]
  },
  {
   "cell_type": "code",
   "execution_count": 14,
   "metadata": {},
   "outputs": [
    {
     "name": "stdout",
     "output_type": "stream",
     "text": [
      "16924189\n",
      "2707524 2707524\n"
     ]
    }
   ],
   "source": [
    "hdata, _ = np.histogram(ma[kdata], bins=ma_bins)\n",
    "print(hdata.sum())\n",
    "\n",
    "dywgts_pteta_pu = [get_ptetawgt(pt[kmc][i], eta[kmc][i], h['etavptdataomc'])*get_puwgt(pu[kmc][i], h['pudataomc']) for i,_ in enumerate(ma[kmc])]\n",
    "print(len(dywgts_pteta_pu), len(ma[kmc]))"
   ]
  },
  {
   "cell_type": "code",
   "execution_count": 15,
   "metadata": {},
   "outputs": [],
   "source": [
    "plt.rcParams[\"figure.figsize\"] = (4,3)\n",
    "'''\n",
    "def get_chisq(data, mc):\n",
    "    #assert np.floor(data.sum()) == np.floor(mc.sum()), 'data:%f vs mc:%f'%(np.floor(data.sum()), np.floor(mc.sum()))\n",
    "    chisq = (data - mc)**2.\n",
    "    chisq = chisq/data\n",
    "    chisq = chisq.sum()#/len(mc)-1\n",
    "    return chisq\n",
    "\n",
    "#def get_KS(data, mc, do_trunc=True):\n",
    "def get_tests(data, mc, it):\n",
    "    #print(data[:34])\n",
    "    #print(mc[:34])\n",
    "    assert data.sum()-mc.sum() < 1.\n",
    "    #print(data.sum(), mc.sum())\n",
    "    data = np.float32(data)/data.sum()\n",
    "    mc = np.float32(mc)/mc.sum()\n",
    "    \n",
    "    chisq = get_chisq(data, mc)\n",
    "    sumabs = np.sum(np.abs(data-mc))\n",
    "    ks = np.max(np.abs(np.cumsum(data)-np.cumsum(mc)))\n",
    "\n",
    "    #print('sum abs(diff): %E'%np.sum(np.abs(data-mc)))\n",
    "    #print('chisq: %E'%chisq)\n",
    "    #print('KS: %E'%np.max(np.abs(np.cumsum(data)-np.cumsum(mc))))\n",
    "    #for i,m in enumerate(ma_bins):\n",
    "    #    #print(i, m, data[i], mc[i], data[i]-mc[i])\n",
    "    #    if i >= 34: break\n",
    "    #if do_trunc:\n",
    "    data = data[10:34+1]\n",
    "    mc = mc[10:34+1]\n",
    "    #data = np.float32(data)/data.sum()\n",
    "    #mc = np.float32(mc)/mc.sum()\n",
    "    #for i,m in enumerate(ma_bins):\n",
    "    #    if i+10 >= 34: break\n",
    "    #    print(i+10, ma_bins[i+10], data[i], mc[i], np.abs(data[i]-mc[i]))\n",
    "    if it == 0:\n",
    "        plt.plot(data, label='data')\n",
    "        plt.plot(mc, label='mc')\n",
    "        plt.legend()\n",
    "        plt.show()\n",
    "    #print('sum abs(diff), trunc: %E'%np.sum(np.abs(data-mc)))\n",
    "    #print('chisq, trunc: %E'%get_chisq(data, mc))\n",
    "    #print(np.abs(data-mc))\n",
    "    #data = np.cumsum(data)\n",
    "    #mc = np.cumsum(mc)\n",
    "    #print(data[-1], mc[-1])\n",
    "    #print(np.abs(data-mc))\n",
    "    #return np.max(np.abs(data-mc))\n",
    "    #print('KS, trunc: %E'%np.max(np.abs(np.cumsum(data)-np.cumsum(mc))))\n",
    "\n",
    "    chisq_trunc = get_chisq(data, mc)\n",
    "    sumabs_trunc = np.sum(np.abs(data-mc))\n",
    "    ks_trunc = np.max(np.abs(np.cumsum(data)-np.cumsum(mc)))\n",
    "    return [chisq, sumabs, ks, chisq_trunc, sumabs_trunc, ks_trunc]\n",
    "'''\n",
    "def shift_ma(scale, smear, it):\n",
    "    if smear == 0.:\n",
    "        ma_ = scale*ma[kmc]\n",
    "    else:\n",
    "        #ma_ = scale*np.array([np.random.normal(m, smear) for m in ma[kmc]])\n",
    "        ma_ = np.array([np.random.normal(scale*m, smear) for m in ma[kmc]])\n",
    "    hmc_shift, _ = np.histogram(ma_, bins=ma_bins, weights=dywgts_pteta_pu)\n",
    "    hmc_shift = np.float64(hmc_shift)\n",
    "    #hmc_shift *= (h['Run2017'].Integral()/hmc_shift.sum())\n",
    "    hmc_shift *= (hdata.sum()/hmc_shift.sum())\n",
    "    #return get_chisq(hdata, hmc_shift)\n",
    "    #return get_KS(hdata, hmc_shift)\n",
    "    #return get_tests(hdata, hmc_shift, it)\n",
    "    #print('hdata.sum:',hdata.sum(), 'hmc_shift.sum:',hmc_shift.sum())\n",
    "    chisq, _ = scipy.stats.chisquare(hdata, hmc_shift)\n",
    "    #print(chisq, len(hdata))\n",
    "    return [chisq, 0., 0., chisq/(len(hdata)-1.), 0., 0.]"
   ]
  },
  {
   "cell_type": "code",
   "execution_count": 16,
   "metadata": {
    "scrolled": true
   },
   "outputs": [
    {
     "name": "stdout",
     "output_type": "stream",
     "text": [
      "[0.0004 0.0008 0.0012 0.0016 0.002 ]\n",
      "[-0.002  -0.0016 -0.0012 -0.0008 -0.0004  0.      0.0004  0.0008  0.0012\n",
      "  0.0016  0.002 ]\n",
      "[0.     0.0004 0.0008 0.0012]\n",
      "=======================\n",
      "iteration: 1 / 44\n",
      "scale: 1.038\n",
      "smear: 0.0\n",
      "chisq:  1.936583E+04 +/- 0.000000E+00\n",
      "=======================\n",
      "iteration: 2 / 44\n",
      "scale: 1.038\n",
      "smear: 0.0004\n",
      "chisq:  1.940063E+04 +/- 2.977889E+01\n",
      "=======================\n",
      "iteration: 3 / 44\n",
      "scale: 1.038\n",
      "smear: 0.0008\n",
      "chisq:  1.939774E+04 +/- 1.123821E+02\n",
      "=======================\n",
      "iteration: 4 / 44\n",
      "scale: 1.038\n",
      "smear: 0.0012\n",
      "chisq:  1.940733E+04 +/- 1.591425E+02\n",
      "=======================\n",
      "iteration: 5 / 44\n",
      "scale: 1.0384\n",
      "smear: 0.0\n",
      "chisq:  1.923518E+04 +/- 0.000000E+00\n",
      "=======================\n",
      "iteration: 6 / 44\n",
      "scale: 1.0384\n",
      "smear: 0.0004\n",
      "chisq:  1.935695E+04 +/- 2.734506E+01\n",
      "=======================\n",
      "iteration: 7 / 44\n",
      "scale: 1.0384\n",
      "smear: 0.0008\n",
      "chisq:  1.929814E+04 +/- 1.728993E+01\n",
      "=======================\n",
      "iteration: 8 / 44\n",
      "scale: 1.0384\n",
      "smear: 0.0012\n",
      "chisq:  1.938530E+04 +/- 1.338733E+02\n",
      "=======================\n",
      "iteration: 9 / 44\n",
      "scale: 1.0388\n",
      "smear: 0.0\n",
      "chisq:  1.925691E+04 +/- 0.000000E+00\n",
      "=======================\n",
      "iteration: 10 / 44\n",
      "scale: 1.0388\n",
      "smear: 0.0004\n",
      "chisq:  1.925902E+04 +/- 5.084873E+01\n",
      "=======================\n",
      "iteration: 11 / 44\n",
      "scale: 1.0388\n",
      "smear: 0.0008\n",
      "chisq:  1.934146E+04 +/- 8.144874E+01\n",
      "=======================\n",
      "iteration: 12 / 44\n",
      "scale: 1.0388\n",
      "smear: 0.0012\n",
      "chisq:  1.940657E+04 +/- 6.043735E+01\n",
      "=======================\n",
      "iteration: 13 / 44\n",
      "scale: 1.0392000000000001\n",
      "smear: 0.0\n",
      "chisq:  1.912523E+04 +/- 0.000000E+00\n",
      "=======================\n",
      "iteration: 14 / 44\n",
      "scale: 1.0392000000000001\n",
      "smear: 0.0004\n",
      "chisq:  1.918139E+04 +/- 4.716816E+01\n",
      "=======================\n",
      "iteration: 15 / 44\n",
      "scale: 1.0392000000000001\n",
      "smear: 0.0008\n",
      "chisq:  1.924222E+04 +/- 6.761829E+01\n",
      "=======================\n",
      "iteration: 16 / 44\n",
      "scale: 1.0392000000000001\n",
      "smear: 0.0012\n",
      "chisq:  1.928797E+04 +/- 9.925175E+01\n",
      "=======================\n",
      "iteration: 17 / 44\n",
      "scale: 1.0396\n",
      "smear: 0.0\n",
      "chisq:  1.905486E+04 +/- 0.000000E+00\n",
      "=======================\n",
      "iteration: 18 / 44\n",
      "scale: 1.0396\n",
      "smear: 0.0004\n",
      "chisq:  1.907090E+04 +/- 1.641785E+01\n",
      "=======================\n",
      "iteration: 19 / 44\n",
      "scale: 1.0396\n",
      "smear: 0.0008\n",
      "chisq:  1.911531E+04 +/- 6.354953E+01\n",
      "=======================\n",
      "iteration: 20 / 44\n",
      "scale: 1.0396\n",
      "smear: 0.0012\n",
      "chisq:  1.930144E+04 +/- 6.867033E+01\n",
      "=======================\n",
      "iteration: 21 / 44\n",
      "scale: 1.04\n",
      "smear: 0.0\n",
      "chisq:  1.898926E+04 +/- 0.000000E+00\n",
      "=======================\n",
      "iteration: 22 / 44\n",
      "scale: 1.04\n",
      "smear: 0.0004\n",
      "chisq:  1.906531E+04 +/- 6.867450E+01\n",
      "=======================\n",
      "iteration: 23 / 44\n",
      "scale: 1.04\n",
      "smear: 0.0008\n",
      "chisq:  1.914044E+04 +/- 7.090002E+01\n",
      "=======================\n",
      "iteration: 24 / 44\n",
      "scale: 1.04\n",
      "smear: 0.0012\n",
      "chisq:  1.926712E+04 +/- 9.283363E+01\n",
      "=======================\n",
      "iteration: 25 / 44\n",
      "scale: 1.0404\n",
      "smear: 0.0\n",
      "chisq:  1.906896E+04 +/- 0.000000E+00\n",
      "=======================\n",
      "iteration: 26 / 44\n",
      "scale: 1.0404\n",
      "smear: 0.0004\n",
      "chisq:  1.905211E+04 +/- 4.265961E+01\n",
      "=======================\n",
      "iteration: 27 / 44\n",
      "scale: 1.0404\n",
      "smear: 0.0008\n",
      "chisq:  1.921546E+04 +/- 5.039210E+01\n",
      "=======================\n",
      "iteration: 28 / 44\n",
      "scale: 1.0404\n",
      "smear: 0.0012\n",
      "chisq:  1.922443E+04 +/- 8.527756E+01\n",
      "=======================\n",
      "iteration: 29 / 44\n",
      "scale: 1.0408\n",
      "smear: 0.0\n",
      "chisq:  1.908382E+04 +/- 0.000000E+00\n",
      "=======================\n",
      "iteration: 30 / 44\n",
      "scale: 1.0408\n",
      "smear: 0.0004\n",
      "chisq:  1.907830E+04 +/- 7.520099E+01\n",
      "=======================\n",
      "iteration: 31 / 44\n",
      "scale: 1.0408\n",
      "smear: 0.0008\n",
      "chisq:  1.921007E+04 +/- 3.766520E+01\n",
      "=======================\n",
      "iteration: 32 / 44\n",
      "scale: 1.0408\n",
      "smear: 0.0012\n",
      "chisq:  1.933577E+04 +/- 1.325541E+02\n",
      "=======================\n",
      "iteration: 33 / 44\n",
      "scale: 1.0412000000000001\n",
      "smear: 0.0\n",
      "chisq:  1.914473E+04 +/- 0.000000E+00\n",
      "=======================\n",
      "iteration: 34 / 44\n",
      "scale: 1.0412000000000001\n",
      "smear: 0.0004\n",
      "chisq:  1.919885E+04 +/- 3.514982E+01\n",
      "=======================\n",
      "iteration: 35 / 44\n",
      "scale: 1.0412000000000001\n",
      "smear: 0.0008\n",
      "chisq:  1.920784E+04 +/- 2.042121E+01\n",
      "=======================\n",
      "iteration: 36 / 44\n",
      "scale: 1.0412000000000001\n",
      "smear: 0.0012\n",
      "chisq:  1.926763E+04 +/- 5.499258E+01\n",
      "=======================\n",
      "iteration: 37 / 44\n",
      "scale: 1.0416\n",
      "smear: 0.0\n",
      "chisq:  1.921354E+04 +/- 0.000000E+00\n",
      "=======================\n",
      "iteration: 38 / 44\n",
      "scale: 1.0416\n",
      "smear: 0.0004\n",
      "chisq:  1.920398E+04 +/- 3.930906E+01\n",
      "=======================\n",
      "iteration: 39 / 44\n",
      "scale: 1.0416\n",
      "smear: 0.0008\n",
      "chisq:  1.923685E+04 +/- 9.332758E+01\n",
      "=======================\n",
      "iteration: 40 / 44\n",
      "scale: 1.0416\n",
      "smear: 0.0012\n",
      "chisq:  1.925505E+04 +/- 5.755356E+01\n",
      "=======================\n",
      "iteration: 41 / 44\n",
      "scale: 1.042\n",
      "smear: 0.0\n",
      "chisq:  1.922853E+04 +/- 0.000000E+00\n",
      "=======================\n",
      "iteration: 42 / 44\n",
      "scale: 1.042\n",
      "smear: 0.0004\n",
      "chisq:  1.922923E+04 +/- 4.712257E+01\n",
      "=======================\n",
      "iteration: 43 / 44\n",
      "scale: 1.042\n",
      "smear: 0.0008\n",
      "chisq:  1.930075E+04 +/- 7.793443E+01\n",
      "=======================\n",
      "iteration: 44 / 44\n",
      "scale: 1.042\n",
      "smear: 0.0012\n",
      "chisq:  1.944112E+04 +/- 1.141997E+02\n",
      ">> Done.\n"
     ]
    }
   ],
   "source": [
    "# Do grid search\n",
    "\n",
    "#do_coarse = True\n",
    "do_coarse = False\n",
    "\n",
    "dS = 2\n",
    "dS = 4\n",
    "steps = np.arange(dS,5*dS + dS,dS)/1.e4\n",
    "if do_coarse:\n",
    "    scale_nom = 1.\n",
    "    smear_nom = 0.\n",
    "    #scales_ = np.concatenate([[-0.004], np.arange(0,56+8,8)/1.e3])\n",
    "    scales_ = np.concatenate([[-0.004], np.arange(0,56+4,4)/1.e3])\n",
    "    #smears_ = np.concatenate([np.arange(0,20+4,4)/1.e3])\n",
    "    #scales_ = np.concatenate([[-0.036, -0.032, -0.028, -0.024, -0.020, -0.016, -0.012, -0.008, -0.004], np.arange(0,0+4,4)/1.e3])#8+4\n",
    "    #scales_ = np.concatenate([[-0.008, -0.004], np.arange(0,12+4,4)/1.e3])#8+4\n",
    "    #smears_ = np.concatenate([np.arange(0,20+4,4)/1.e3])\n",
    "    smears_ = np.concatenate([np.arange(0,20+2,2)/1.e3])\n",
    "else:\n",
    "    scale_nom = 1.04 # use values from coarse scan\n",
    "    smear_nom = 0.00 # use values from coarse scan\n",
    "    scales_ = np.concatenate([-np.flip(steps), [0.], steps])\n",
    "    smears_ = np.concatenate([-np.flip(steps), [0.], steps])\n",
    "\n",
    "smears_ = np.array([sm for sm in smears_ if smear_nom+sm >= 0.])[:-2] # only allow positive smearing\n",
    "chisqs_ = np.zeros((len(scales_), len(smears_)))\n",
    "chisqtruncs_ = np.zeros((len(scales_), len(smears_)))\n",
    "chisqs_stdev_ = np.zeros((len(scales_), len(smears_)))\n",
    "chisqtruncs_stdev_ = np.zeros((len(scales_), len(smears_)))\n",
    "print(steps)\n",
    "print(scales_)\n",
    "print(smears_)\n",
    "n = 0\n",
    "for a,s in enumerate(scales_):\n",
    "    for b,sm in enumerate(smears_):\n",
    "        n += 1\n",
    "        #if n < 210: continue\n",
    "        print('=======================')\n",
    "        print('iteration: %d / %d'%(n, len(scales_)*len(smears_)))\n",
    "        scale = scale_nom + s\n",
    "        smear = smear_nom + sm\n",
    "        print('scale:',scale)\n",
    "        print('smear:',smear)\n",
    "        #'''\n",
    "        #ks_test = [shift_ma(scale, smear) for i in range(10)]\n",
    "        #print('chisq: %E +/- %E'%(np.mean(ks_test),np.std(ks_test)))\n",
    "        #break\n",
    "        tests = np.array([shift_ma(scale, smear, i) for i in range(10 if do_coarse else 5)])\n",
    "        #break\n",
    "        #print(tests.shape)\n",
    "        print('chisq:  %E +/- %E'%(np.mean(tests[:,0]),np.std(tests[:,0])))\n",
    "        #print('sumabs: %E +/- %E'%(np.mean(tests[:,1]),np.std(tests[:,1])))\n",
    "        #print('ks:     %E +/- %E'%(np.mean(tests[:,2]),np.std(tests[:,2])))\n",
    "        #print('-----------------------')\n",
    "        #print('chisq, trunc:  %E +/- %E'%(np.mean(tests[:,3]),np.std(tests[:,3])))\n",
    "        #print('sumabs, trunc: %E +/- %E'%(np.mean(tests[:,4]),np.std(tests[:,4])))\n",
    "        #print('ks, trunc:     %E +/- %E'%(np.mean(tests[:,5]),np.std(tests[:,5])))\n",
    "        chisqs_[a,b] = np.mean(tests[:,0])\n",
    "        #chisqtruncs_[a,b] = np.mean(tests[:,3])\n",
    "        chisqs_stdev_[a,b] = np.std(tests[:,0])\n",
    "        #chisqtruncs_stdev_[a,b] = np.std(tests[:,3])\n",
    "        #print('-----------------------')\n",
    "        #'''\n",
    "        #break\n",
    "    #break\n",
    "print('>> Done.')"
   ]
  },
  {
   "cell_type": "code",
   "execution_count": 19,
   "metadata": {
    "scrolled": false
   },
   "outputs": [
    {
     "name": "stdout",
     "output_type": "stream",
     "text": [
      "[[19228.52891908 19229.22585049 19300.74730788 19441.12465825]\n",
      " [19213.54118356 19203.97711017 19236.84799842 19255.0475662 ]\n",
      " [19144.72719425 19198.85348353 19207.84326088 19267.63253659]\n",
      " [19083.82067063 19078.30198045 19210.07155844 19335.77026425]\n",
      " [19068.95806532 19052.11310603 19215.45881534 19224.43437293]\n",
      " [18989.25727397 19065.30572539 19140.43702217 19267.12200613]\n",
      " [19054.85906942 19070.90435542 19115.31356177 19301.44358917]\n",
      " [19125.23247096 19181.39034776 19242.22147311 19287.97434856]\n",
      " [19256.91184207 19259.01866971 19341.45613702 19406.57276922]\n",
      " [19235.17994563 19356.94563743 19298.14261491 19385.29791259]\n",
      " [19365.82629888 19400.63413763 19397.7378625  19407.32545263]]\n",
      "[[  0.          47.12256838  77.9344289  114.19974329]\n",
      " [  0.          39.30905661  93.32757888  57.5535628 ]\n",
      " [  0.          35.14981515  20.42121194  54.99257736]\n",
      " [  0.          75.20098884  37.66519559 132.55414426]\n",
      " [  0.          42.65960791  50.39210204  85.27756233]\n",
      " [  0.          68.67450456  70.90001677  92.83362772]\n",
      " [  0.          16.41784599  63.54952868  68.67032729]\n",
      " [  0.          47.16816305  67.61828549  99.25174971]\n",
      " [  0.          50.84873406  81.44873822  60.43734921]\n",
      " [  0.          27.34505835  17.28993003 133.87331342]\n",
      " [  0.          29.77888566 112.38208578 159.14252573]]\n",
      ">> arg@min: (5, 0)\n",
      ">> 21: scale@min: 2.080, smear@min: 0.000, chisq@min: 1.898926E+04 +/- 0.000000E+00 [c.f 0.000000E+00]\n"
     ]
    },
    {
     "data": {
      "image/png": "[encoded data removed]",
      "text/plain": [
       "<Figure size 288x216 with 1 Axes>"
      ]
     },
     "metadata": {
      "needs_background": "light"
     },
     "output_type": "display_data"
    }
   ],
   "source": [
    "# Using full distn\n",
    "\n",
    "#print(scales_)\n",
    "#print(smears_)\n",
    "#chisqs_stdev_ = chisqs_stdev_/chisqs_.max()\n",
    "#chisqs_ = chisqs_/chisqs_.max()\n",
    "print(np.flipud(chisqs_))\n",
    "print(np.flipud(chisqs_stdev_))\n",
    "\n",
    "lvls_ = np.sort(chisqs_.flatten())\n",
    "lvls_ = [lvls_[i] for i in range(1, len(lvls_), len(lvls_)//10)]\n",
    "minargs = tuple(np.argwhere(chisqs_ == chisqs_.min())[0])\n",
    "it_ = np.argwhere(chisqs_.flatten() == chisqs_.min())[0]\n",
    "print('>> arg@min:',minargs)\n",
    "print('>> %d: scale@min: %4.3f, smear@min: %4.3f, chisq@min: %E +/- %E [c.f %E]'%(it_+1, scale_nom+scales_[minargs[0]], smear_nom+smears_[minargs[1]], chisqs_[minargs], chisqs_stdev_[minargs], chisqtruncs_[minargs]))\n",
    "#lvls_ = np.linspace(chisqs_.min(), chisqs_.max(), 25)\n",
    "plt.contour(smear_nom+smears_, scale_nom+scales_, chisqs_, levels=lvls_, cmap=\"RdBu_r\")\n",
    "plt.xlabel('smear')\n",
    "plt.ylabel('scale')\n",
    "plt.show()\n",
    "#>> 45: scale@min: 0.992, smear@min: 0.008, chisq@min: 2.077096E-03 +/- 0.000000E+00 [c.f 1.097946E-03]\n",
    "uncert = smear_nom+smears_[minargs[1]]"
   ]
  },
  {
   "cell_type": "code",
   "execution_count": 5,
   "metadata": {},
   "outputs": [
    {
     "name": "stdout",
     "output_type": "stream",
     "text": [
      "[1.038  1.0384 1.0388 1.0392 1.0396 1.04   1.0404 1.0408 1.0412 1.0416\n",
      " 1.042 ]\n",
      "(11,)\n",
      "18989.257273968782\n",
      "0.0\n"
     ]
    }
   ],
   "source": [
    "#'''\n",
    "dS = 4\n",
    "steps = np.arange(dS,5*dS + dS,dS)/1.e4\n",
    "scale_nom = 1.04 # use values from coarse scan\n",
    "smear_nom = 0.00 # use values from coarse scan\n",
    "scales_ = np.concatenate([-np.flip(steps), [0.], steps])\n",
    "smears_ = np.concatenate([-np.flip(steps), [0.], steps])\n",
    "smears_ = np.array([sm for sm in smears_ if smear_nom+sm >= 0.])[:-2]\n",
    "#'''\n",
    "#np.savez('chisq_scale1p038_1p042v2.npz', chisqs_=chisqs_, chisqs_stdev_=chisqs_stdev_, scales_=scale_nom+scales_, smear_=smear_nom+smears_)\n",
    "\n",
    "data = np.load('chisq_scale1p038_1p042v2.npz')\n",
    "chisqs_ = data['chisqs_']\n",
    "chisqs_stdev_ = data['chisqs_stdev_']\n",
    "scales_ = data['scales_']\n",
    "print(scales_)\n",
    "print(scales_.shape)\n",
    "#np.array([-0.0016 ,-0.0014 ,-0.0012 ,-0.001  ,-0.0008 ,-0.0006 ,-0.0004 ,-0.0002  ,0.\n",
    "#  ,0.0002  ,0.0004  ,0.0006 ,0.0008 ,0.001  ,0.0012 ,0.0014 ,0.0016])\n",
    "smears_ = data['smear_']\n",
    "#np.array([0.     ,0.0002 ,0.0004 ,0.0006 ,0.0008 ,0.001  ,0.0012 ,0.0014 ,0.0016])\n",
    "'''\n",
    "print(chisqs_.shape)\n",
    "print(scales_.shape)\n",
    "print(smears_.shape)\n",
    "print(chisqs_.min(), chisqs_.max())\n",
    "idx_min = tuple(np.argwhere(chisqs_ == chisqs_.min())[0])\n",
    "print(idx_min)\n",
    "stdev_optim = chisqs_stdev_[idx_min]\n",
    "print(stdev_optim)\n",
    "'''\n",
    "minargs = tuple(np.argwhere(chisqs_ == chisqs_.min())[0])\n",
    "print(chisqs_[minargs])\n",
    "print(chisqs_stdev_[minargs])\n",
    "uncert = chisqs_stdev_[minargs]"
   ]
  },
  {
   "cell_type": "code",
   "execution_count": 13,
   "metadata": {},
   "outputs": [
    {
     "name": "stdout",
     "output_type": "stream",
     "text": [
      "[18989.257273968782, 19134.48571899484, 19155.672572917847]\n"
     ]
    }
   ],
   "source": [
    "import scipy.stats\n",
    "\n",
    "#find Chi-Square critical value\n",
    "cont1 = scipy.stats.chi2.ppf(0.68, 138)\n",
    "cont2 = scipy.stats.chi2.ppf(0.95, 138)\n",
    "cont3 = scipy.stats.chi2.ppf(0.997, 138)\n",
    "conts = [chisqs_.min(), chisqs_.min()+cont1, chisqs_.min()+cont2]#, chisqs_.min()+cont3]\n",
    "#conts = [chisqs_.min(), chisqs_.min()+uncert, chisqs_.min()+2*uncert, chisqs_.min()+3*uncert]\n",
    "print(conts)"
   ]
  },
  {
   "cell_type": "code",
   "execution_count": 14,
   "metadata": {},
   "outputs": [
    {
     "data": {
      "image/png": "[encoded data removed]",
      "text/plain": [
       "<Figure size 432x288 with 1 Axes>"
      ]
     },
     "metadata": {
      "needs_background": "light"
     },
     "output_type": "display_data"
    }
   ],
   "source": [
    "#chisqs_ = chisqs_[::2,::2]\n",
    "#smears_ = smears_[::2]\n",
    "#scales_ = scales_[::2]\n",
    "plt.contour(smears_, scales_, chisqs_, levels=conts)\n",
    "plt.show()"
   ]
  },
  {
   "cell_type": "code",
   "execution_count": 20,
   "metadata": {},
   "outputs": [
    {
     "name": "stdout",
     "output_type": "stream",
     "text": [
      "smears 4 0.0 1.2\n",
      "scales 11 1.038 1.042\n",
      "chisq, min,max: 18989.257273968782 19441.124658251465\n",
      "0.0 1.2\n",
      "13 TeV\n"
     ]
    },
    {
     "name": "stderr",
     "output_type": "stream",
     "text": [
      "Info in <TCanvas::Print>: pdf file Plots/massreg/v13/DYToEE_data2017obg2017-dy_etaNone_ma1_ptetarwgt_scale-vs-smear.pdf has been created\n"
     ]
    },
    {
     "data": {
      "image/png": "[encoded data removed]",
      "text/plain": [
       "<IPython.core.display.Image object>"
      ]
     },
     "metadata": {},
     "output_type": "display_data"
    }
   ],
   "source": [
    "plot_dir = 'Plots/massreg/v13'\n",
    "print_pdf = False\n",
    "print_pdf = True\n",
    "\n",
    "#hConts = ROOT.TH2F('hConts', len(smears_)-1, smears_[0], smears_[-1],\\\n",
    "#                             len(scales_)-1, scales_[0], scales_[-1])\n",
    "c,h = {}, {}\n",
    "\n",
    "ROOT.gStyle.SetPadTickX(1)\n",
    "ROOT.gStyle.SetPadTickY(1)\n",
    "#change the CMS_lumi variables (see CMS_lumi.py)\n",
    "CMS_lumi.lumi_7TeV = \"4.8 fb^{-1}\"\n",
    "CMS_lumi.lumi_8TeV = \"18.3 fb^{-1}\"\n",
    "CMS_lumi.writeExtraText = 1\n",
    "CMS_lumi.extraText = \"\"\n",
    "#CMS_lumi.lumi_sqrtS = \"41.9 fb^{-1} (13 TeV)\" # used with iPeriod = 0, e.g. for simulation-only plots (default is an empty string)\n",
    "CMS_lumi.lumi_sqrtS = \"13 TeV\" # used with iPeriod = 0, e.g. for simulation-only plots (default is an empty string)\n",
    "\n",
    "smears = 1.e3*np.array(smears_)\n",
    "scales = 1.*np.array(scales_)\n",
    "\n",
    "print('smears', len(smears), smears[0], smears[-1])\n",
    "print('scales', len(scales), scales[0], scales[-1])\n",
    "print('chisq, min,max:', chisqs_.min(), chisqs_.max())\n",
    "\n",
    "k = 'conts'\n",
    "#c[k] = ROOT.TCanvas(k, k, 680, 600)\n",
    "c[k] = ROOT.TCanvas(k, k, 640, 680)\n",
    "#h[k] = ROOT.TH2F(k, k, len(smears)-1, array('d', smears),\\\n",
    "#                       len(scales)-1, array('d', scales))\n",
    "h[k] = ROOT.TH2F(k, k, len(smears)-1, 0., 1.2,\\\n",
    "                       len(scales)-1, 0.038+1, 0.042+1)\n",
    "h[k+'graph'] = ROOT.TGraph2D()\n",
    "#h[k+'graph'] = h[k].Clone()\n",
    "#h[k+'graph'].SetName(k+'graph')\n",
    "h[k+'optim'] = ROOT.TGraph2D()\n",
    "i = 0\n",
    "for a in range(len(scales)):\n",
    "    for b in range(len(smears)):\n",
    "        #h[k].SetBinContent(b+1, a+1, chisqs_[a,b])\n",
    "        h[k].SetBinContent(b+1, a+1, 0.)\n",
    "        #print(a, b, scales[a], smears[b], chisqs_[a,b])\n",
    "        h[k+'graph'].SetPoint(i, smears[b], scales[a], chisqs_[a,b])\n",
    "        #h[k+'graph'].SetBinContent(b+1, a+1, chisqs_[a,b])\n",
    "        #if a == 4 and b == 1:\n",
    "        if a == len(scales)//2 and b == 1:\n",
    "            h[k+'optim'].SetPoint(i, smears[b], scales[a], chisqs_[a,b])\n",
    "        else:\n",
    "            h[k+'optim'].SetPoint(i, smears[b], scales[a], 0.)\n",
    "        i += 1\n",
    "    #break\n",
    "\n",
    "'''\n",
    "# Dont work\n",
    "#h[k+'optim'] = ROOT.TGraph2D()\n",
    "#h[k+'p'] = ROOT.TH2F(k+'p', k+'p', len(smears)-1, 0., 20.,\\\n",
    "#                       len(scales)-1, -0.4, 5.6)\n",
    "#h[k+'optim'].SetPoint(0, 0., 4.2, 25.e3) # (i, x, y, z)\n",
    "#h[k+'optim'].SetPoint(1, 0., 4.2, 25.e3) # (i, x, y, z)\n",
    "#h[k+'p'].SetBinContent(0, 4, -25.e3)\n",
    "'''\n",
    "'''\n",
    "contours[6];\n",
    "contours[0] = -0.7;\n",
    "contours[1] = -0.5;\n",
    "contours[2] = -0.1;\n",
    "contours[3] =  0.1;\n",
    "contours[4] =  0.4;\n",
    "contours[5] =  0.8;\n",
    "HistStreamFn->SetContour(6, contours);\n",
    "#h[k+'graph'].SetContour(6)\n",
    "'''\n",
    "#h[k+'graph']\n",
    "#ROOT.gStyle.SetContour(len(conts), array('d', conts))\n",
    "ROOT.gStyle.SetNumberContours(10) # default:20\n",
    "ROOT.TGaxis.fgMaxDigits = 3\n",
    "ROOT.gStyle.SetOptStat(0)\n",
    "\n",
    "#h[k] = set_hist(h[k], \"#Deltasmear [MeV]\", \"#Deltascale [%]\", \"\")\n",
    "h[k] = set_hist(h[k], \"s_{smear} [MeV]\", \"s_{scale}\", \"\")\n",
    "ROOT.gPad.SetTopMargin(0.08)\n",
    "ROOT.gPad.SetBottomMargin(0.14)\n",
    "ROOT.gPad.SetLeftMargin(0.2)\n",
    "#ROOT.gPad.SetRightMargin(0.19) # with colz\n",
    "ROOT.gPad.SetRightMargin(0.04) # without colz\n",
    "ROOT.gStyle.SetPalette(55)#53\n",
    "ROOT.TGaxis.fgMaxDigits = 3\n",
    "h[k].SetTitle('')\n",
    "\n",
    "h[k].GetYaxis().SetTitleOffset(1.7)\n",
    "h[k].GetYaxis().SetTitleSize(0.06)\n",
    "h[k].GetYaxis().SetLabelSize(0.05)\n",
    "h[k].GetYaxis().SetLabelFont(42)\n",
    "h[k].GetYaxis().SetTitleFont(42)\n",
    "h[k].GetYaxis().SetMaxDigits(3)\n",
    "#h[k].GetYaxis().SetNdivisions(-606)\n",
    "h[k].GetYaxis().SetNdivisions(-404)\n",
    "\n",
    "h[k].GetZaxis().SetTitle('#chi^{2}')\n",
    "h[k].GetZaxis().SetTitleOffset(1.4)\n",
    "h[k].GetZaxis().SetTitleSize(0.06)\n",
    "h[k].GetZaxis().SetTitleFont(42)\n",
    "h[k].GetZaxis().SetLabelSize(0.05)\n",
    "h[k].GetZaxis().SetLabelFont(42)\n",
    "\n",
    "h[k].GetXaxis().SetTitleOffset(1.0)\n",
    "h[k].GetXaxis().SetTitleSize(0.06)\n",
    "h[k].GetXaxis().SetLabelSize(0.05)\n",
    "h[k].GetXaxis().SetLabelFont(42)\n",
    "h[k].GetXaxis().SetTitleFont(42)\n",
    "#h[k].GetXaxis().SetRangeUser(0., 1.2)\n",
    "print(smears[0], smears[-1])\n",
    "\n",
    "#h[k].SetMinimum(chisqs_.min()) \n",
    "#h[k].SetMaximum(130.e3)    \n",
    "#h[k].Draw(\"COL Z\")\n",
    "h[k].Draw(\"COL\")\n",
    "\n",
    "# Workaround: Draw graph on top of empty hist\n",
    "# otherwise axes arent drawn\n",
    "#h[k+'graph'].GetZaxis().SetTitle('#chi^{2}')\n",
    "#h[k+'graph'].GetZaxis().SetTitleOffset(1.3)\n",
    "#h[k+'graph'].GetZaxis().SetTitleSize(0.05)\n",
    "#h[k+'graph'].GetZaxis().SetTitleFont(62)\n",
    "#h[k+'graph'].GetZaxis().SetLabelSize(0.04)\n",
    "#h[k+'graph'].GetZaxis().SetLabelFont(62)\n",
    "#h[k+'graph'].Draw(\"CONT1 same\")\n",
    "#h[k+'graph'].Draw(\"CONT2 same\")\n",
    "h[k+'graph2'] = h[k+'graph'].GetHistogram()\n",
    "h[k+'graph2'].SetLineColor(9)\n",
    "h[k+'graph2'].SetContour(len(conts), array('d', conts))\n",
    "h[k+'graph2'].GetYaxis().SetNdivisions(-404)\n",
    "h[k+'graph2'].Draw(\"CONT2 same\")\n",
    "\n",
    "# Draw optimial point\n",
    "optim = ROOT.TLatex()\n",
    "#optim.DrawLatex(0., 4.2, '#times')\n",
    "optim.DrawLatex(0., 1+39.925e-3, '#color[9]{#times}') #39.975e-3 #40\n",
    "\n",
    "CMS_lumi.cmsTextOffset = 0.\n",
    "iPos = 0\n",
    "if( iPos==0 ): CMS_lumi.relPosX = 0.21\n",
    "iPeriod = 0\n",
    "\n",
    "c[k].Draw()\n",
    "CMS_lumi.CMS_lumi(c[k], iPeriod, iPos)\n",
    "c[k].Update()\n",
    "if print_pdf: c[k].Print('%s/DYToEE_%so%s_eta%s_ma1_ptetarwgt_scale-vs-smear.pdf'%(plot_dir, kdata, kmc, eta_range))"
   ]
  },
  {
   "cell_type": "code",
   "execution_count": 15,
   "metadata": {},
   "outputs": [
    {
     "name": "stdout",
     "output_type": "stream",
     "text": [
      "16239381.6711\n",
      "16203696.0\n",
      "898.814025879\n"
     ]
    },
    {
     "data": {
      "image/png": "[encoded data removed]",
      "text/plain": [
       "<IPython.core.display.Image object>"
      ]
     },
     "metadata": {},
     "output_type": "display_data"
    }
   ],
   "source": [
    "k = kmc\n",
    "scale_ = 0.996 #0.992\n",
    "smear_ = 0.008 #GeV\n",
    "kshift = k+'shift'\n",
    "h[k] = ROOT.TH1F(k, k, n_ma_bins, ma_bins)\n",
    "h[kshift] = ROOT.TH1F(kshift, kshift, n_ma_bins, ma_bins)\n",
    "c[k] = ROOT.TCanvas(k, k, 400, 400)\n",
    "for i,m in enumerate(ma[k]):\n",
    "    wgt = get_ptetawgt(pt[k][i], eta[k][i], h['etavptdataomc'])*get_puwgt(pu[k][i], h['pudataomc'])\n",
    "    h[k].Fill(m, wgt)\n",
    "    h[kshift].Fill(scale_*np.random.normal(m, smear_), wgt)\n",
    "h[k].Draw(\"hist\")\n",
    "h[kshift].Draw('same')\n",
    "c[k].cd()\n",
    "c[k].Draw()\n",
    "print(h[k].Integral())\n",
    "print(h[kdata].Integral())\n",
    "print(h[k].GetBinContent(1))"
   ]
  },
  {
   "cell_type": "code",
   "execution_count": 16,
   "metadata": {},
   "outputs": [],
   "source": [
    "def get_stat_syst_graph(h, k, kshift, ksyst, scale=1.):\n",
    "\n",
    "    for ib in range(1, h[k].GetNbinsX()+1):\n",
    "        binc_nom = h[k].GetBinContent(ib)\n",
    "        binc_shift = h[kshift].GetBinContent(ib)\n",
    "\n",
    "        binerr_syst = binc_nom - binc_shift\n",
    "        binerr_stat = h[k].GetBinError(ib)\n",
    "\n",
    "        if binc_nom > binc_shift:\n",
    "            binerr_up = binerr_stat\n",
    "            binerr_dn = scale*np.sqrt(binerr_stat*binerr_stat + binerr_syst*binerr_syst)\n",
    "        else:\n",
    "            binerr_up = scale*np.sqrt(binerr_stat*binerr_stat + binerr_syst*binerr_syst)\n",
    "            binerr_dn = binerr_stat\n",
    "\n",
    "        if ib <= 2: print(ib, h[k].GetBinCenter(ib), binc_nom, binerr_stat, binerr_syst, ib-1, binerr_up, binerr_dn)\n",
    "        h[ksyst].SetPoint(ib-1, h[k].GetBinCenter(ib), binc_nom)\n",
    "        h[ksyst].SetPointError(\n",
    "            ib-1,\n",
    "            h[k].GetBinWidth(ib)/2.,\n",
    "            h[k].GetBinWidth(ib)/2.,\n",
    "            binerr_dn,\n",
    "            binerr_up\n",
    "            )"
   ]
  }
 ],
 "metadata": {
  "kernelspec": {
   "display_name": "Python 2",
   "language": "python",
   "name": "python2"
  },
  "language_info": {
   "codemirror_mode": {
    "name": "ipython",
    "version": 2
   },
   "file_extension": ".py",
   "mimetype": "text/x-python",
   "name": "python",
   "nbconvert_exporter": "python",
   "pygments_lexer": "ipython2",
   "version": "2.7.16"
  }
 },
 "nbformat": 4,
 "nbformat_minor": 4
}
